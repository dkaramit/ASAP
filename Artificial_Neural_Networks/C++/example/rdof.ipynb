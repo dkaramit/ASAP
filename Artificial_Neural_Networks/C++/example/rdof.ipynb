{
 "cells": [
  {
   "cell_type": "code",
   "execution_count": 1,
   "metadata": {},
   "outputs": [],
   "source": [
    "import os,subprocess,sys"
   ]
  },
  {
   "cell_type": "code",
   "execution_count": 2,
   "metadata": {},
   "outputs": [],
   "source": [
    "import numpy as np\n",
    "\n",
    "%matplotlib notebook\n",
    "# %matplotlib widget\n",
    "import matplotlib.pyplot as plt\n",
    "\n",
    "\n",
    "plt.rcParams['font.size']=16\n",
    "plt.rcParams['font.family']='dejavu sans'\n",
    "\n",
    "plt.rcParams['mathtext.fontset']='stix'\n",
    "plt.rcParams['mathtext.rm']='custom'\n",
    "plt.rcParams['mathtext.it']='stix:italic'\n",
    "plt.rcParams['mathtext.bf']='stix:bold'"
   ]
  },
  {
   "cell_type": "code",
   "execution_count": 3,
   "metadata": {},
   "outputs": [
    {
     "name": "stdout",
     "output_type": "stream",
     "text": [
      "make: Nothing to be done for 'all'.\n"
     ]
    }
   ],
   "source": [
    "%%sh \n",
    "make"
   ]
  },
  {
   "cell_type": "code",
   "execution_count": null,
   "metadata": {},
   "outputs": [],
   "source": [
    "_cpp=subprocess.check_output([\"./rdof.run\"]).decode(sys.stdout.encoding)"
   ]
  },
  {
   "cell_type": "code",
   "execution_count": null,
   "metadata": {},
   "outputs": [],
   "source": [
    "logT=[]\n",
    "rdofs=[]\n",
    "FFANN_rdofs=[]\n",
    "\n",
    "for _ in _cpp.split(\"\\n\")[1:-1]:\n",
    "    tmp=_.split(',')\n",
    "    logT.append(float(tmp[0]))\n",
    "    rdofs.append( [float(tmp[1]),float(tmp[2])])\n",
    "    FFANN_rdofs.append( [float(tmp[3]),float(tmp[4])])\n",
    "    \n",
    "logT=np.array(logT)\n",
    "rdofs=np.array(rdofs)\n",
    "FFANN_rdofs=np.array(FFANN_rdofs)"
   ]
  },
  {
   "cell_type": "code",
   "execution_count": null,
   "metadata": {},
   "outputs": [],
   "source": [
    "int(_cpp.split(\"\\n\")[0])"
   ]
  },
  {
   "cell_type": "code",
   "execution_count": null,
   "metadata": {},
   "outputs": [],
   "source": [
    "fig=plt.figure(figsize=(9,5))\n",
    "fig.subplots_adjust(bottom=0.15, left=0.15, top = 0.9, right=0.9,wspace=0.0,hspace=0.0)\n",
    "\n",
    "sub = fig.add_subplot(1,1,1)\n",
    "\n",
    "sub.plot(logT,FFANN_rdofs[:,1],linestyle='-',linewidth=3.5,alpha=1,c='xkcd:black',label=r'FFANN')\n",
    "sub.plot(logT,rdofs[:,1],linestyle='--',linewidth=2.5,alpha=1,c='xkcd:red',label=r'data')\n",
    "\n",
    "\n",
    "sub.legend(bbox_to_anchor=(0.01, 0.99),borderaxespad=0., columnspacing=1,labelspacing=-0.1,\n",
    "           borderpad=0,ncol=1,loc='upper left' ,framealpha=0)\n",
    "\n",
    "\n",
    "\n",
    "sub.set_xlabel(r'$log_{10}\\left( \\dfrac{T}{{\\rm GeV}} \\right)$')\n",
    "sub.xaxis.set_label_coords(0.5, -0.075) \n",
    "sub.set_ylabel(r'$g_{\\rm *}$')\n",
    "sub.yaxis.set_label_coords(-0.07,0.5) \n",
    "\n",
    "\n",
    "fig.show()"
   ]
  },
  {
   "cell_type": "code",
   "execution_count": null,
   "metadata": {},
   "outputs": [],
   "source": [
    "fig=plt.figure(figsize=(9,5))\n",
    "fig.subplots_adjust(bottom=0.15, left=0.15, top = 0.9, right=0.9,wspace=0.0,hspace=0.0)\n",
    "\n",
    "sub = fig.add_subplot(1,1,1)\n",
    "\n",
    "sub.plot(logT,FFANN_rdofs[:,0],linestyle='-',linewidth=3.5,alpha=1,c='xkcd:black',label=r'FFANN')\n",
    "sub.plot(logT,rdofs[:,0],linestyle='--',linewidth=2.5,alpha=1,c='xkcd:red',label=r'data')\n",
    "\n",
    "\n",
    "sub.legend(bbox_to_anchor=(0.01, 0.99),borderaxespad=0., columnspacing=1,labelspacing=-0.1,\n",
    "           borderpad=0,ncol=1,loc='upper left' ,framealpha=0)\n",
    "\n",
    "\n",
    "\n",
    "sub.set_xlabel(r'$log_{10}\\left( \\dfrac{T}{{\\rm GeV}} \\right)$')\n",
    "sub.xaxis.set_label_coords(0.5, -0.075) \n",
    "sub.set_ylabel(r'$h_{\\rm eff}$')\n",
    "sub.yaxis.set_label_coords(-0.07,0.5) \n",
    "\n",
    "\n",
    "fig.show()"
   ]
  },
  {
   "cell_type": "code",
   "execution_count": null,
   "metadata": {},
   "outputs": [],
   "source": [
    "fig=plt.figure(figsize=(9,5))\n",
    "fig.subplots_adjust(bottom=0.15, left=0.15, top = 0.9, right=0.9,wspace=0.0,hspace=0.0)\n",
    "\n",
    "sub = fig.add_subplot(1,1,1)\n",
    "\n",
    "    \n",
    "sub.plot(logT,np.abs(FFANN_rdofs[:,1]-rdofs[:,1])/rdofs[:,1],linestyle='-',linewidth=2.5,alpha=1,c='xkcd:black',label=r'$g_{\\rm *}$')\n",
    "sub.plot(logT,np.abs(FFANN_rdofs[:,0]-rdofs[:,0])/rdofs[:,1],linestyle='--',linewidth=2.5,alpha=1,c='xkcd:red',label=r'$h_{\\rm eff}$')\n",
    "\n",
    "\n",
    "sub.legend(bbox_to_anchor=(0.01, 0.99),borderaxespad=0., columnspacing=1,labelspacing=-0.1,\n",
    "           borderpad=0,ncol=1,loc='upper left' ,framealpha=0)\n",
    "\n",
    "\n",
    "\n",
    "sub.set_xlabel(r'$log_{10}\\left( \\dfrac{T}{{\\rm GeV}} \\right)$')\n",
    "sub.xaxis.set_label_coords(0.5, -0.075) \n",
    "sub.set_ylabel(r'relative difference')\n",
    "sub.yaxis.set_label_coords(-0.1,0.5) \n",
    "\n",
    "\n",
    "fig.show()"
   ]
  },
  {
   "cell_type": "code",
   "execution_count": null,
   "metadata": {},
   "outputs": [],
   "source": []
  },
  {
   "cell_type": "code",
   "execution_count": null,
   "metadata": {},
   "outputs": [],
   "source": []
  }
 ],
 "metadata": {
  "kernelspec": {
   "display_name": "Python 3",
   "language": "python",
   "name": "python3"
  },
  "language_info": {
   "codemirror_mode": {
    "name": "ipython",
    "version": 3
   },
   "file_extension": ".py",
   "mimetype": "text/x-python",
   "name": "python",
   "nbconvert_exporter": "python",
   "pygments_lexer": "ipython3",
   "version": "3.8.3"
  }
 },
 "nbformat": 4,
 "nbformat_minor": 4
}
