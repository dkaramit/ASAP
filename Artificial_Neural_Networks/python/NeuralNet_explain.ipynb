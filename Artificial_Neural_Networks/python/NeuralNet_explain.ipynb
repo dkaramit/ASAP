{
 "cells": [
  {
   "cell_type": "markdown",
   "metadata": {},
   "source": [
    "## Let's build a class that defines a *feed-forwad artificial neural network*. "
   ]
  },
  {
   "cell_type": "markdown",
   "metadata": {},
   "source": [
    "Such \"network\" is basically a (in principle) very complicated function, with (in principle) a lot of adjastable parameters that is used to approximate (or interpolate) functions.  "
   ]
  },
  {
   "cell_type": "markdown",
   "metadata": {},
   "source": [
    "A neural network is made up form neurons that are connected with each other. A feed-forwad artificial neural network takes inputs, transforms them by passing them through its \"hidden\" layer, and produces outputs.\n",
    "\n",
    "A feed-forwad artificial neural network looks loke the following figure:\n",
    "\n",
    "<img src=\"misc/FFANN.png\" style=\"height:250px\">\n",
    "\n",
    "where the triangles represent the action of the neuron (some simple function we define), the coloured circles represent the \"weights\", and the empty ones represent the \"biases\". The weights and biases are adjustable parameters that we tune, in order to get the outputs we need from given inputs.  We should note that neurons do not connect with all the other ones, but the entire network is separated in \"layers\", with each layer taking as input the output of the previous one."
   ]
  },
  {
   "cell_type": "markdown",
   "metadata": {},
   "source": [
    "Every neuron takes a number of inputs coming from the previous layer. The neuron, then does the following:\n",
    "\n",
    "<img src=\"misc/Neuron.png\" style=\"height:450px\">\n",
    "\n",
    "That is, it takes the outputs from the previous layer ($l$), and the weights that represent the strength of the connection between the node $i$ of the $l$ layer and node $j$ of the $l+1$ layer (all these inputs and outputs are called \"signals\"). Then it adds all the different contributions and returns the output of which is:\n",
    "$$\n",
    "x^{(l)}_{j} = \\theta\\left( \\displaystyle \\sum_{i=0}^{n^{(l)}-1} w^{(l)}_{j i}  x^{(l)}_{i} + b^{(l+1)}_{j}\\right) \\; , \n",
    "$$\n",
    "\n",
    "with $\\theta$ the \"activation function\", which is some simple function we choose.\n"
   ]
  },
  {
   "cell_type": "code",
   "execution_count": 1,
   "metadata": {},
   "outputs": [],
   "source": [
    "import numpy as np"
   ]
  },
  {
   "cell_type": "code",
   "execution_count": 2,
   "metadata": {},
   "outputs": [],
   "source": [
    "class FFANN:\n",
    "    def __init__(self, _inputs,_outputs,_hidden_nodes, \n",
    "                 activations=[]):\n",
    "        '''\n",
    "        Constructor for the class.\n",
    "\n",
    "        _inputs: number of input nodes\n",
    "        _outputs: number of ouput nodes\n",
    "        \n",
    "        _hidden_nodes: list of number of layers in each hidden node\n",
    "        activations: list of activation functions for hidden layers and output\n",
    "        '''\n",
    "        \n",
    "        self.inputs=_inputs\n",
    "        self.outputs=_outputs\n",
    "        self.layers=len(_hidden_nodes)\n",
    "        self.total_layers=2+self.layers #total layers = No. layers + input layer + output layer\n",
    "        \n",
    "        if len(activations)==0:\n",
    "            self.activations=[lambda x:x for _ in range(self.total_layers-1)]\n",
    "        else:\n",
    "            self.activations=[_ for _ in activations]\n",
    "\n",
    "        #an array to hold number of nodes at each layer\n",
    "        self.nodes=[_inputs]\n",
    "        \n",
    "        for _n in _hidden_nodes:\n",
    "            self.nodes.append(_n)\n",
    "            \n",
    "        self.nodes.append(_outputs)\n",
    "        \n",
    "            \n",
    "        \n",
    "        #declare the signals\n",
    "        self.signals=[ [0 for j in range(self.nodes[l])]  for l in range(self.total_layers)]\n",
    "        #in case you get confused, these are the indices\n",
    "        self.signal_indices=[ ['x^({0})_{1}'.format(l,j) for j in range(self.nodes[l])]  for l in range(self.total_layers)]\n",
    "        \n",
    "\n",
    "        \n",
    "        #declare the weights\n",
    "        self.weights=[ [[0 for i in range(self.nodes[l])] for j in range(self.nodes[l+1])]  for l in range(self.layers+1)]\n",
    "        #in case you get confused, these are the indices\n",
    "        self.weight_indices=[ [['w^({0})_{1}{2}'.format(l,j,i) for i in range(self.nodes[l])] for j in range(self.nodes[l+1])]  for l in range(self.layers+1)]\n",
    "        \n",
    "        \n",
    "        \n",
    "        #declare the biases\n",
    "        #By definition the biases of l=0 are zero, so we define biases[l][j] to refer to the l+1 layer.\n",
    "        #this will help as we will be able to put the biases in the same loop as the weights (see init_params for example).\n",
    "        self.biases=[ [0 for j in range(self.nodes[l+1])]  for l in range(self.layers+1)]        \n",
    "        #in case you get confused, these are the indices\n",
    "        self.bias_indices=[ ['b^({0})_{1}'.format(l+1,j) for j in range(self.nodes[l+1])]  for l in range(self.layers+1)]\n",
    "        \n",
    "    \n",
    "        self.init_params()#initialize the weights and biases\n",
    "                \n",
    "    #========================initializations========================#\n",
    "    def init_params(self,_min=-1,_max=1):\n",
    "        '''\n",
    "        Function that initializes the weights and biasesby some random numbers.\n",
    "        '''\n",
    "        for l in range(self.layers+1):\n",
    "            for j in range(self.nodes[l+1]):\n",
    "                #You see, we defined biases in this way in order to manipulate them with the weights at the same loop. \n",
    "                self.biases[l][j] = (np.random.choice([_min,_max])*np.random.rand() )\n",
    "                for i in range(self.nodes[l]):\n",
    "                    self.weights[l][j][i] = (np.random.choice([_min,_max])*np.random.rand() )\n",
    "    \n",
    "    \n",
    "    def write_params(self):\n",
    "        '''\n",
    "            Returns biases and weights as a vector.\n",
    "            Can be used to pass the parameters to an optimization algorithm that takes vectors. \n",
    "        '''\n",
    "        X=[]\n",
    "        for l in range(self.layers+1):\n",
    "            for j in range(self.nodes[l+1]):\n",
    "                X.append(self.biases[l][j])\n",
    "                for i in range(self.nodes[l]):\n",
    "                    X.append(self.weights[l][j][i])\n",
    "        return X\n",
    "    \n",
    "    def read_params(self,X):\n",
    "        '''\n",
    "            Read and update biases and weights from a vector X\n",
    "            Can be used to read the result from an optimization algorithm that returns vectors. \n",
    "        '''\n",
    "        _s=0\n",
    "        for l in range(self.layers+1):\n",
    "            for j in range(self.nodes[l+1]):\n",
    "                self.update_bias(l,j,X[_s])\n",
    "                _s+=1\n",
    "                for i in range(self.nodes[l]):\n",
    "                    self.update_weight(l,j,i,X[_s])\n",
    "                    _s+=1\n",
    "    \n",
    "    def input_signal(self, x):\n",
    "        '''Read the input (x).'''\n",
    "        for j,_ in enumerate(x):\n",
    "            self.signals[0][j] = _\n",
    "    \n",
    "    def calc_signal(self, l,j):\n",
    "        '''calculate the output of the j node of layer l.'''\n",
    "        if l == 0:\n",
    "            print('for l=0 run self.input_signal')\n",
    "            return 0\n",
    "        \n",
    "        #Notice that self.biases[l-1][j] correspond to the bias of node j and layer l.\n",
    "        sum_wx = np.sum( [ self.weights[l-1][j][i] * xi for i,xi in enumerate(self.signals[l-1]) ] ) \n",
    "        self.signals[l][j] =  self.activations[l-1]( sum_wx + self.biases[l-1][j]  )\n",
    "\n",
    "    \n",
    "    #========================Feed-Forward========================#\n",
    "    \n",
    "    def feed_forward(self):\n",
    "        '''\n",
    "        Calculates the output of the network.\n",
    "        Also sets the signals (for later use)\n",
    "        '''\n",
    "        for l in range(1,self.total_layers):\n",
    "            for j in range(self.nodes[l]):\n",
    "                self.calc_signal(l,j)\n",
    "            \n",
    "            \n",
    "            \n",
    "            \n",
    "    #========================update========================#\n",
    "\n",
    "    def update_weight(self,l,j,i,value):\n",
    "        '''\n",
    "        Change the value of w^{l}_{ji} to value\n",
    "        '''\n",
    "        self.weights[l][j][i]=value\n",
    "\n",
    "    def update_bias(self,l,j,value):\n",
    "        '''\n",
    "        Change the value of b^{l}_{j} to value\n",
    "        '''\n",
    "        self.biases[l][j]=value\n",
    "    #======================================================#\n",
    "\n",
    "\n",
    "    #print\n",
    "    def print_weights(self):\n",
    "        for l in range(len(self.weights)):\n",
    "            print('l=',l,':')\n",
    "            for j in range(len(self.weights[l])):\n",
    "                \n",
    "                for i in range(len(self.weights[l][j])):\n",
    "                    print(self.weights[l][j][i],'\\t', end =\" \")\n",
    "                print('')\n",
    "            print('============')\n",
    "    \n",
    "    def print_biases(self):\n",
    "        for l in range(len(self.biases)):\n",
    "            print('l=',l+1,':')\n",
    "            for j in range(len(self.biases[l])):\n",
    "                print(self.biases[l][j],'\\t', end =\" \")\n",
    "            print('')\n",
    "            print('============')\n",
    "\n",
    "    def print_signals(self):\n",
    "        for l in range(len(self.signals)):\n",
    "            print('l=',l,':')\n",
    "            for j in range(len(self.signals[l])):\n",
    "                print(self.signals[l][j],'\\t', end =\" \")\n",
    "            print('')\n",
    "            print('============')"
   ]
  },
  {
   "cell_type": "code",
   "execution_count": 3,
   "metadata": {},
   "outputs": [],
   "source": [
    "brain = FFANN(2,1,[3])"
   ]
  },
  {
   "cell_type": "code",
   "execution_count": 4,
   "metadata": {},
   "outputs": [
    {
     "data": {
      "text/plain": [
       "[[2, 1],\n",
       " [0.3826296767389352, -0.2700919935712156, 0.6227726078006575],\n",
       " [-1.0853964255160546]]"
      ]
     },
     "execution_count": 4,
     "metadata": {},
     "output_type": "execute_result"
    }
   ],
   "source": [
    "#this is how you run it!\n",
    "brain.input_signal([2,1])\n",
    "brain.feed_forward()\n",
    "brain.signals"
   ]
  },
  {
   "cell_type": "markdown",
   "metadata": {},
   "source": [
    "### Check that the read and write to vector do not mess-up the biases and matrices"
   ]
  },
  {
   "cell_type": "code",
   "execution_count": 5,
   "metadata": {},
   "outputs": [],
   "source": [
    "brain = FFANN(2,1,[1,3])"
   ]
  },
  {
   "cell_type": "code",
   "execution_count": 6,
   "metadata": {},
   "outputs": [
    {
     "data": {
      "text/plain": [
       "([[[-0.725223081605065, 0.792457666009715]],\n",
       "  [[0.9488242498767208], [0.5551122212356655], [0.2746075261355123]],\n",
       "  [[0.36317198628612335, -0.7419949974387423, -0.9485500880618983]]],\n",
       " [[-0.6200155542060692],\n",
       "  [-0.6681891468614447, -0.4593180497918209, -0.7498749469412885],\n",
       "  [0.4184742837674873]])"
      ]
     },
     "execution_count": 6,
     "metadata": {},
     "output_type": "execute_result"
    }
   ],
   "source": [
    "brain.weights,brain.biases"
   ]
  },
  {
   "cell_type": "code",
   "execution_count": 7,
   "metadata": {},
   "outputs": [],
   "source": [
    "X=brain.write_params()"
   ]
  },
  {
   "cell_type": "code",
   "execution_count": 8,
   "metadata": {},
   "outputs": [],
   "source": [
    "brain.read_params(X)"
   ]
  },
  {
   "cell_type": "code",
   "execution_count": 9,
   "metadata": {},
   "outputs": [
    {
     "data": {
      "text/plain": [
       "([[[-0.725223081605065, 0.792457666009715]],\n",
       "  [[0.9488242498767208], [0.5551122212356655], [0.2746075261355123]],\n",
       "  [[0.36317198628612335, -0.7419949974387423, -0.9485500880618983]]],\n",
       " [[-0.6200155542060692],\n",
       "  [-0.6681891468614447, -0.4593180497918209, -0.7498749469412885],\n",
       "  [0.4184742837674873]])"
      ]
     },
     "execution_count": 9,
     "metadata": {},
     "output_type": "execute_result"
    }
   ],
   "source": [
    "brain.weights,brain.biases"
   ]
  },
  {
   "cell_type": "code",
   "execution_count": null,
   "metadata": {},
   "outputs": [],
   "source": []
  }
 ],
 "metadata": {
  "kernelspec": {
   "display_name": "Python 3",
   "language": "python",
   "name": "python3"
  },
  "language_info": {
   "codemirror_mode": {
    "name": "ipython",
    "version": 3
   },
   "file_extension": ".py",
   "mimetype": "text/x-python",
   "name": "python",
   "nbconvert_exporter": "python",
   "pygments_lexer": "ipython3",
   "version": "3.8.3"
  }
 },
 "nbformat": 4,
 "nbformat_minor": 4
}
