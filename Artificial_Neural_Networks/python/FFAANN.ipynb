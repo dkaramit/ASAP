{
 "cells": [
  {
   "cell_type": "markdown",
   "metadata": {},
   "source": [
    "# This is how you run FFANN\n",
    "\n",
    "Also, does the same thing as FFANN.cpp to check that they both work."
   ]
  },
  {
   "cell_type": "code",
   "execution_count": 1,
   "metadata": {},
   "outputs": [],
   "source": [
    "import FeedForwardANN as FFANN\n",
    "import numpy as np"
   ]
  },
  {
   "cell_type": "code",
   "execution_count": 2,
   "metadata": {},
   "outputs": [],
   "source": [
    "lin=FFANN.linearActivation()\n"
   ]
  },
  {
   "cell_type": "code",
   "execution_count": 3,
   "metadata": {},
   "outputs": [],
   "source": [
    "brain = FFANN.FFANN(2,2,[3,4],[lin,lin,lin])\n",
    "\n",
    "brain.fill_biases_with(1);\n",
    "brain.fill_weights_with(0.2);\n",
    "brain.update_weight(0,0,0,-2);\n",
    "brain.update_weight(2,1,0,5);\n",
    "brain.update_bias(0,0,-1);\n",
    "brain.update_bias(1,1,3);\n",
    "\n",
    "brain.inputSignal([0.1,-2]);"
   ]
  },
  {
   "cell_type": "code",
   "execution_count": 4,
   "metadata": {},
   "outputs": [],
   "source": [
    "brain.evaluate(brain.signals[0])"
   ]
  },
  {
   "cell_type": "code",
   "execution_count": null,
   "metadata": {},
   "outputs": [],
   "source": []
  },
  {
   "cell_type": "markdown",
   "metadata": {},
   "source": [
    "# weights, biases, and signals"
   ]
  },
  {
   "cell_type": "code",
   "execution_count": 5,
   "metadata": {},
   "outputs": [
    {
     "name": "stdout",
     "output_type": "stream",
     "text": [
      "w^{(l)}_{ji}\n",
      "l=  0 \t size: 3 x 2\n",
      "-2\t0.2\t\n",
      "0.2\t0.2\t\n",
      "0.2\t0.2\t\n",
      "============\n",
      "l=  1 \t size: 4 x 3\n",
      "0.2\t0.2\t0.2\t\n",
      "0.2\t0.2\t0.2\t\n",
      "0.2\t0.2\t0.2\t\n",
      "0.2\t0.2\t0.2\t\n",
      "============\n",
      "l=  2 \t size: 2 x 4\n",
      "0.2\t0.2\t0.2\t0.2\t\n",
      "5\t0.2\t0.2\t0.2\t\n",
      "============\n"
     ]
    }
   ],
   "source": [
    "brain.printWeights()"
   ]
  },
  {
   "cell_type": "code",
   "execution_count": 6,
   "metadata": {},
   "outputs": [
    {
     "name": "stdout",
     "output_type": "stream",
     "text": [
      "b^{(l)}_{j}\n",
      "l=  1 \t size: 3\n",
      "-1\t1\t1\t\n",
      "============\n",
      "l=  2 \t size: 4\n",
      "1\t3\t1\t1\t\n",
      "============\n",
      "l=  3 \t size: 2\n",
      "1\t1\t\n",
      "============\n"
     ]
    }
   ],
   "source": [
    "brain.printBiases()"
   ]
  },
  {
   "cell_type": "code",
   "execution_count": 7,
   "metadata": {},
   "outputs": [
    {
     "name": "stdout",
     "output_type": "stream",
     "text": [
      "s^{(l)}_{j}\n",
      "l=  0 \t size: 2\n",
      "0.1\t-2\t\n",
      "============\n",
      "l=  1 \t size: 3\n",
      "-1.6\t0.62\t0.62\t\n",
      "============\n",
      "l=  2 \t size: 4\n",
      "0.9279999999999999\t2.928\t0.9279999999999999\t0.9279999999999999\t\n",
      "============\n",
      "l=  3 \t size: 2\n",
      "2.1424\t6.5968\t\n",
      "============\n"
     ]
    }
   ],
   "source": [
    "brain.printSignals()"
   ]
  },
  {
   "cell_type": "markdown",
   "metadata": {},
   "source": [
    "# Analytical derivatives from ```feedForwardDerivatives```"
   ]
  },
  {
   "cell_type": "code",
   "execution_count": 8,
   "metadata": {},
   "outputs": [],
   "source": [
    "brain.feedForwardDerivatives();"
   ]
  },
  {
   "cell_type": "code",
   "execution_count": 9,
   "metadata": {},
   "outputs": [
    {
     "name": "stdout",
     "output_type": "stream",
     "text": [
      "\\dfrac{\\partial s^{l+1}_{j}}{\\partial s^{(l)}_{i}}\n",
      "l=  0 \t size: 3 x 2\n",
      "-2\t0.2\t\n",
      "0.2\t0.2\t\n",
      "0.2\t0.2\t\n",
      "\n",
      "l=  1 \t size: 4 x 3\n",
      "0.2\t0.2\t0.2\t\n",
      "0.2\t0.2\t0.2\t\n",
      "0.2\t0.2\t0.2\t\n",
      "0.2\t0.2\t0.2\t\n",
      "\n",
      "l=  2 \t size: 2 x 4\n",
      "0.2\t0.2\t0.2\t0.2\t\n",
      "5\t0.2\t0.2\t0.2\t\n",
      "\n"
     ]
    }
   ],
   "source": [
    "brain.printDerivatives()"
   ]
  },
  {
   "cell_type": "code",
   "execution_count": 10,
   "metadata": {},
   "outputs": [
    {
     "name": "stdout",
     "output_type": "stream",
     "text": [
      "\\dfrac{\\partial s^{l+1}_{j}}{\\partial s^{(0)}_{i}}\n",
      "l=  0 \t size: 3 x 2\n",
      "-2\t0.2\t\n",
      "0.2\t0.2\t\n",
      "0.2\t0.2\t\n",
      "\n",
      "l=  1 \t size: 4 x 2\n",
      "-0.31999999999999995\t0.12000000000000002\t\n",
      "-0.31999999999999995\t0.12000000000000002\t\n",
      "-0.31999999999999995\t0.12000000000000002\t\n",
      "-0.31999999999999995\t0.12000000000000002\t\n",
      "\n",
      "l=  2 \t size: 2 x 2\n",
      "-0.25599999999999995\t0.09600000000000003\t\n",
      "-1.7919999999999998\t0.6720000000000002\t\n",
      "\n"
     ]
    }
   ],
   "source": [
    "brain.printTotalDerivatives()"
   ]
  },
  {
   "cell_type": "markdown",
   "metadata": {},
   "source": [
    "# Analytical derivatives from ```backProp```"
   ]
  },
  {
   "cell_type": "code",
   "execution_count": 11,
   "metadata": {},
   "outputs": [],
   "source": [
    "brain.feedForward()\n",
    "brain.backPropagation()"
   ]
  },
  {
   "cell_type": "code",
   "execution_count": 12,
   "metadata": {},
   "outputs": [
    {
     "name": "stdout",
     "output_type": "stream",
     "text": [
      "\\dfrac{\\partial s^{[N-1)]}_{k}}{\\partial s^{[N-(f+2)]}_{i}}\n",
      "f=  0 \t size: 2 x 4\n",
      "0.2\t0.2\t0.2\t0.2\t\n",
      "5\t0.2\t0.2\t0.2\t\n",
      "\n",
      "f=  1 \t size: 2 x 3\n",
      "0.16000000000000003\t0.16000000000000003\t0.16000000000000003\t\n",
      "1.12\t1.12\t1.12\t\n",
      "\n",
      "f=  2 \t size: 2 x 2\n",
      "-0.256\t0.09600000000000003\t\n",
      "-1.792\t0.6720000000000002\t\n",
      "\n"
     ]
    }
   ],
   "source": [
    "brain.printDelta()"
   ]
  },
  {
   "cell_type": "code",
   "execution_count": 13,
   "metadata": {},
   "outputs": [
    {
     "name": "stdout",
     "output_type": "stream",
     "text": [
      "\\dfrac{ds_j}{w^(0)_00}= [0.016000000000000004, 0.11200000000000002]\n",
      "\\dfrac{ds_j}{w^(0)_01}= [-0.32000000000000006, -2.24]\n",
      "\n",
      "\\dfrac{ds_j}{w^(0)_10}= [0.016000000000000004, 0.11200000000000002]\n",
      "\\dfrac{ds_j}{w^(0)_11}= [-0.32000000000000006, -2.24]\n",
      "\n",
      "\\dfrac{ds_j}{w^(0)_20}= [0.016000000000000004, 0.11200000000000002]\n",
      "\\dfrac{ds_j}{w^(0)_21}= [-0.32000000000000006, -2.24]\n",
      "\n",
      "\n",
      "\\dfrac{ds_j}{w^(1)_00}= [-0.32000000000000006, -8.0]\n",
      "\\dfrac{ds_j}{w^(1)_01}= [0.124, 3.1]\n",
      "\\dfrac{ds_j}{w^(1)_02}= [0.124, 3.1]\n",
      "\n",
      "\\dfrac{ds_j}{w^(1)_10}= [-0.32000000000000006, -0.32000000000000006]\n",
      "\\dfrac{ds_j}{w^(1)_11}= [0.124, 0.124]\n",
      "\\dfrac{ds_j}{w^(1)_12}= [0.124, 0.124]\n",
      "\n",
      "\\dfrac{ds_j}{w^(1)_20}= [-0.32000000000000006, -0.32000000000000006]\n",
      "\\dfrac{ds_j}{w^(1)_21}= [0.124, 0.124]\n",
      "\\dfrac{ds_j}{w^(1)_22}= [0.124, 0.124]\n",
      "\n",
      "\\dfrac{ds_j}{w^(1)_30}= [-0.32000000000000006, -0.32000000000000006]\n",
      "\\dfrac{ds_j}{w^(1)_31}= [0.124, 0.124]\n",
      "\\dfrac{ds_j}{w^(1)_32}= [0.124, 0.124]\n",
      "\n",
      "\n",
      "\\dfrac{ds_j}{w^(2)_00}= [0.9279999999999999, 0]\n",
      "\\dfrac{ds_j}{w^(2)_01}= [2.928, 0]\n",
      "\\dfrac{ds_j}{w^(2)_02}= [0.9279999999999999, 0]\n",
      "\\dfrac{ds_j}{w^(2)_03}= [0.9279999999999999, 0]\n",
      "\n",
      "\\dfrac{ds_j}{w^(2)_10}= [0, 0.9279999999999999]\n",
      "\\dfrac{ds_j}{w^(2)_11}= [0, 2.928]\n",
      "\\dfrac{ds_j}{w^(2)_12}= [0, 0.9279999999999999]\n",
      "\\dfrac{ds_j}{w^(2)_13}= [0, 0.9279999999999999]\n",
      "\n",
      "\n"
     ]
    }
   ],
   "source": [
    "brain.printDerivatives_w()"
   ]
  },
  {
   "cell_type": "code",
   "execution_count": 14,
   "metadata": {},
   "outputs": [
    {
     "name": "stdout",
     "output_type": "stream",
     "text": [
      "\\dfrac{ds_j}{b^(1)_0}= [0.16000000000000003, 1.12]\n",
      "\\dfrac{ds_j}{b^(1)_1}= [0.16000000000000003, 1.12]\n",
      "\\dfrac{ds_j}{b^(1)_2}= [0.16000000000000003, 1.12]\n",
      "\n",
      "\\dfrac{ds_j}{b^(2)_0}= [0.2, 5]\n",
      "\\dfrac{ds_j}{b^(2)_1}= [0.2, 0.2]\n",
      "\\dfrac{ds_j}{b^(2)_2}= [0.2, 0.2]\n",
      "\\dfrac{ds_j}{b^(2)_3}= [0.2, 0.2]\n",
      "\n",
      "\\dfrac{ds_j}{b^(3)_0}= [1, 0]\n",
      "\\dfrac{ds_j}{b^(3)_1}= [0, 1]\n",
      "\n"
     ]
    }
   ],
   "source": [
    "brain.printDerivatives_b()"
   ]
  },
  {
   "cell_type": "markdown",
   "metadata": {},
   "source": [
    "# Numerical derivatives"
   ]
  },
  {
   "cell_type": "code",
   "execution_count": 15,
   "metadata": {},
   "outputs": [],
   "source": [
    "brain.totalNumericalDerivative()"
   ]
  },
  {
   "cell_type": "code",
   "execution_count": 16,
   "metadata": {},
   "outputs": [
    {
     "name": "stdout",
     "output_type": "stream",
     "text": [
      "\\dfrac{\\partial s^{(N-1)}_{p}}{\\partial s^{(0)}_{r}}\n",
      "size: 2 x 2\n",
      "-0.25599999999989265\t0.096000000000022\t\n",
      "-1.7920000000006617\t0.67200000000008\t\n",
      "\n"
     ]
    }
   ],
   "source": [
    "brain.printNumericalDerivatives()"
   ]
  },
  {
   "cell_type": "code",
   "execution_count": 17,
   "metadata": {},
   "outputs": [
    {
     "name": "stdout",
     "output_type": "stream",
     "text": [
      "\\dfrac{ds_j}{w^(0)_00}= [0.016000000000000864, 0.11200000000002315]\n",
      "\\dfrac{ds_j}{w^(0)_01}= [-0.32000000000001727, -2.240000000000463]\n",
      "\n",
      "\\dfrac{ds_j}{w^(0)_10}= [0.016000000000004656, 0.11200000000004628]\n",
      "\\dfrac{ds_j}{w^(0)_11}= [-0.3200000000000931, -2.2400000000009257]\n",
      "\n",
      "\\dfrac{ds_j}{w^(0)_20}= [0.016000000000004656, 0.11200000000004628]\n",
      "\\dfrac{ds_j}{w^(0)_21}= [-0.3200000000000931, -2.2400000000009257]\n",
      "\n",
      "\n",
      "\\dfrac{ds_j}{w^(1)_00}= [-0.31987999999977274, -7.9969999999998445]\n",
      "\\dfrac{ds_j}{w^(1)_01}= [0.12411999999991183, 3.1029999999999394]\n",
      "\\dfrac{ds_j}{w^(1)_02}= [0.12411999999991183, 3.1029999999999394]\n",
      "\n",
      "\\dfrac{ds_j}{w^(1)_10}= [-0.31988000000005135, -0.31988000000005135]\n",
      "\\dfrac{ds_j}{w^(1)_11}= [0.12412000000001991, 0.12412000000001991]\n",
      "\\dfrac{ds_j}{w^(1)_12}= [0.12412000000001991, 0.12412000000001991]\n",
      "\n",
      "\\dfrac{ds_j}{w^(1)_20}= [-0.3198799999999569, -0.31987999999977274]\n",
      "\\dfrac{ds_j}{w^(1)_21}= [0.12411999999998329, 0.12411999999991183]\n",
      "\\dfrac{ds_j}{w^(1)_22}= [0.12411999999998329, 0.12411999999991183]\n",
      "\n",
      "\\dfrac{ds_j}{w^(1)_30}= [-0.3198799999999569, -0.31987999999977274]\n",
      "\\dfrac{ds_j}{w^(1)_31}= [0.12411999999998329, 0.12411999999991183]\n",
      "\\dfrac{ds_j}{w^(1)_32}= [0.12411999999998329, 0.12411999999991183]\n",
      "\n",
      "\n",
      "\\dfrac{ds_j}{w^(2)_00}= [0.92836, 0]\n",
      "\\dfrac{ds_j}{w^(2)_01}= [2.92836, 0]\n",
      "\\dfrac{ds_j}{w^(2)_02}= [0.92836, 0]\n",
      "\\dfrac{ds_j}{w^(2)_03}= [0.92836, 0]\n",
      "\n",
      "\\dfrac{ds_j}{w^(2)_10}= [0, 0.92836]\n",
      "\\dfrac{ds_j}{w^(2)_11}= [0, 2.92836]\n",
      "\\dfrac{ds_j}{w^(2)_12}= [0, 0.92836]\n",
      "\\dfrac{ds_j}{w^(2)_13}= [0, 0.92836]\n",
      "\n",
      "\n"
     ]
    }
   ],
   "source": [
    "brain.printNumericalDerivatives_w()"
   ]
  },
  {
   "cell_type": "code",
   "execution_count": 18,
   "metadata": {},
   "outputs": [
    {
     "name": "stdout",
     "output_type": "stream",
     "text": [
      "\\dfrac{ds_j}{b^(1)_0}= [0.16000000000000864, 1.1200000000002315]\n",
      "\\dfrac{ds_j}{b^(1)_1}= [0.16000000000004655, 1.1200000000004628]\n",
      "\\dfrac{ds_j}{b^(1)_2}= [0.16000000000004655, 1.1200000000004628]\n",
      "\n",
      "\\dfrac{ds_j}{b^(2)_0}= [0.1999999999998579, 4.999999999999902]\n",
      "\\dfrac{ds_j}{b^(2)_1}= [0.20000000000003207, 0.20000000000003207]\n",
      "\\dfrac{ds_j}{b^(2)_2}= [0.19999999999997306, 0.1999999999998579]\n",
      "\\dfrac{ds_j}{b^(2)_3}= [0.19999999999997306, 0.1999999999998579]\n",
      "\n",
      "\\dfrac{ds_j}{b^(3)_0}= [1, 0]\n",
      "\\dfrac{ds_j}{b^(3)_1}= [0, 1]\n",
      "\n"
     ]
    }
   ],
   "source": [
    "brain.printNumericalDerivatives_b()"
   ]
  },
  {
   "cell_type": "code",
   "execution_count": null,
   "metadata": {},
   "outputs": [],
   "source": []
  }
 ],
 "metadata": {
  "kernelspec": {
   "display_name": "Python 3",
   "language": "python",
   "name": "python3"
  },
  "language_info": {
   "codemirror_mode": {
    "name": "ipython",
    "version": 3
   },
   "file_extension": ".py",
   "mimetype": "text/x-python",
   "name": "python",
   "nbconvert_exporter": "python",
   "pygments_lexer": "ipython3",
   "version": "3.8.3"
  }
 },
 "nbformat": 4,
 "nbformat_minor": 4
}
