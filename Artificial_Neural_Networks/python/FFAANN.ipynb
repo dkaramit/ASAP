{
 "cells": [
  {
   "cell_type": "markdown",
   "metadata": {},
   "source": [
    "# This is how you run FFANN\n",
    "\n",
    "\n",
    "Does the same things as FFANN.cpp"
   ]
  },
  {
   "cell_type": "code",
   "execution_count": 1,
   "metadata": {},
   "outputs": [],
   "source": [
    "from FFANN import FFANN,linearActivation\n",
    "import numpy as np"
   ]
  },
  {
   "cell_type": "code",
   "execution_count": 2,
   "metadata": {},
   "outputs": [],
   "source": [
    "lin=linearActivation()"
   ]
  },
  {
   "cell_type": "code",
   "execution_count": 3,
   "metadata": {},
   "outputs": [],
   "source": [
    "brain = FFANN(2,1,[3],[lin,lin])"
   ]
  },
  {
   "cell_type": "code",
   "execution_count": 4,
   "metadata": {},
   "outputs": [
    {
     "data": {
      "text/plain": [
       "[[2, 1],\n",
       " [-0.5076445099338628, -1.9249453844204099, -0.8524368046414227],\n",
       " [0.5435856688163317]]"
      ]
     },
     "execution_count": 4,
     "metadata": {},
     "output_type": "execute_result"
    }
   ],
   "source": [
    "brain([2,1])\n",
    "brain.signals"
   ]
  },
  {
   "cell_type": "code",
   "execution_count": 5,
   "metadata": {},
   "outputs": [],
   "source": [
    "brain = FFANN(2,1,[3,4],[lin,lin,lin])\n",
    "brain.init_params(0,0)"
   ]
  },
  {
   "cell_type": "code",
   "execution_count": 6,
   "metadata": {},
   "outputs": [],
   "source": [
    "brain.update_weight(0,2,0,1);\n",
    "brain.update_weight(0,1,0,1);\n",
    "brain.update_weight(0,0,0,1);\n",
    "brain.update_weight(0,1,1,1);\n",
    "brain.update_weight(1,0,1,2);\n",
    "brain.update_weight(1,1,2,2);\n",
    "brain.update_weight(1,1,1,2);\n",
    "brain.update_weight(2,0,0,1);\n",
    "\n",
    "brain.update_bias(0,2,1);\n",
    "brain.update_bias(0,1,1);\n",
    "brain.update_bias(1,1,1);\n",
    "brain.update_bias(1,0,-2);"
   ]
  },
  {
   "cell_type": "code",
   "execution_count": 7,
   "metadata": {},
   "outputs": [
    {
     "data": {
      "text/plain": [
       "[6.66]"
      ]
     },
     "execution_count": 7,
     "metadata": {},
     "output_type": "execute_result"
    }
   ],
   "source": [
    "brain([1.33,2])"
   ]
  },
  {
   "cell_type": "code",
   "execution_count": 8,
   "metadata": {},
   "outputs": [
    {
     "data": {
      "text/plain": [
       "[[2.0, 2.0]]"
      ]
     },
     "execution_count": 8,
     "metadata": {},
     "output_type": "execute_result"
    }
   ],
   "source": [
    "brain.calcTotaDerivative()\n",
    "brain.totalDerivatives"
   ]
  },
  {
   "cell_type": "code",
   "execution_count": 13,
   "metadata": {},
   "outputs": [
    {
     "data": {
      "text/plain": [
       "[[1.999999999999761, 2.000000000000076]]"
      ]
     },
     "execution_count": 13,
     "metadata": {},
     "output_type": "execute_result"
    }
   ],
   "source": [
    "brain.totalNumericalDerivative(h=1e-5)"
   ]
  },
  {
   "cell_type": "code",
   "execution_count": 10,
   "metadata": {},
   "outputs": [
    {
     "name": "stdout",
     "output_type": "stream",
     "text": [
      "l= 0 :\n",
      "1 \t 0.0 \t \n",
      "1 \t 1 \t \n",
      "1 \t 0.0 \t \n",
      "============\n",
      "l= 1 :\n",
      "0.0 \t 2 \t 0.0 \t \n",
      "0.0 \t 2 \t 2 \t \n",
      "0.0 \t 0.0 \t 0.0 \t \n",
      "0.0 \t 0.0 \t 0.0 \t \n",
      "============\n",
      "l= 2 :\n",
      "1 \t 0.0 \t 0.0 \t 0.0 \t \n",
      "============\n",
      "-------------------------------\n",
      "l= 1 :\n",
      "0.0 \t 1 \t 1 \t \n",
      "============\n",
      "l= 2 :\n",
      "-2 \t 1 \t 0.0 \t 0.0 \t \n",
      "============\n",
      "l= 3 :\n",
      "0.0 \t \n",
      "============\n",
      "-------------------------------\n",
      "l= 0 :\n",
      "1.3299999999999998 \t 2.0 \t \n",
      "============\n",
      "l= 1 :\n",
      "1.3299999999999998 \t 4.327 \t 2.33 \t \n",
      "============\n",
      "l= 2 :\n",
      "6.654 \t 14.314 \t 0.0 \t 0.0 \t \n",
      "============\n",
      "l= 3 :\n",
      "6.654 \t \n",
      "============\n"
     ]
    }
   ],
   "source": [
    "brain.print_weights()\n",
    "print('-------------------------------')\n",
    "brain.print_biases()\n",
    "print('-------------------------------')\n",
    "brain.print_signals()"
   ]
  },
  {
   "cell_type": "code",
   "execution_count": null,
   "metadata": {},
   "outputs": [],
   "source": []
  }
 ],
 "metadata": {
  "kernelspec": {
   "display_name": "Python 3",
   "language": "python",
   "name": "python3"
  },
  "language_info": {
   "codemirror_mode": {
    "name": "ipython",
    "version": 3
   },
   "file_extension": ".py",
   "mimetype": "text/x-python",
   "name": "python",
   "nbconvert_exporter": "python",
   "pygments_lexer": "ipython3",
   "version": "3.8.3"
  }
 },
 "nbformat": 4,
 "nbformat_minor": 4
}
