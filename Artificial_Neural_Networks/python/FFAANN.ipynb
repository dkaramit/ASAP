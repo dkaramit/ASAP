{
 "cells": [
  {
   "cell_type": "markdown",
   "metadata": {},
   "source": [
    "# This is how you run FFANN\n",
    "\n",
    "Also, does the same thing as FFANN.cpp to check that they both work."
   ]
  },
  {
   "cell_type": "code",
   "execution_count": 1,
   "metadata": {},
   "outputs": [],
   "source": [
    "import FeedForwardANN as FFANN\n",
    "import numpy as np"
   ]
  },
  {
   "cell_type": "code",
   "execution_count": 2,
   "metadata": {},
   "outputs": [],
   "source": [
    "lin=FFANN.linearActivation()\n"
   ]
  },
  {
   "cell_type": "code",
   "execution_count": 3,
   "metadata": {},
   "outputs": [],
   "source": [
    "brain = FFANN.FFANN(2,2,[3,4],[lin,lin,lin])\n",
    "\n",
    "brain.fill_biases_with(1);\n",
    "brain.fill_weights_with(0.2);\n",
    "brain.update_weight(0,0,0,-2);\n",
    "brain.update_weight(2,1,0,5);\n",
    "brain.update_bias(0,0,-1);\n",
    "brain.update_bias(1,1,3);\n",
    "\n",
    "brain.inputSignal([0.1,-2]);"
   ]
  },
  {
   "cell_type": "code",
   "execution_count": 4,
   "metadata": {},
   "outputs": [],
   "source": [
    "brain.feedForwardDerivatives();\n"
   ]
  },
  {
   "cell_type": "code",
   "execution_count": 5,
   "metadata": {},
   "outputs": [
    {
     "name": "stdout",
     "output_type": "stream",
     "text": [
      "w^{(l)}_{ji}\n",
      "l=  0 \t size: 3 x 2\n",
      "-2\t0.2\t\n",
      "0.2\t0.2\t\n",
      "0.2\t0.2\t\n",
      "============\n",
      "l=  1 \t size: 4 x 3\n",
      "0.2\t0.2\t0.2\t\n",
      "0.2\t0.2\t0.2\t\n",
      "0.2\t0.2\t0.2\t\n",
      "0.2\t0.2\t0.2\t\n",
      "============\n",
      "l=  2 \t size: 2 x 4\n",
      "0.2\t0.2\t0.2\t0.2\t\n",
      "5\t0.2\t0.2\t0.2\t\n",
      "============\n"
     ]
    }
   ],
   "source": [
    "brain.printWeights()"
   ]
  },
  {
   "cell_type": "code",
   "execution_count": 6,
   "metadata": {},
   "outputs": [
    {
     "name": "stdout",
     "output_type": "stream",
     "text": [
      "b^{(l)}_{j}\n",
      "l=  1 \t size: 3\n",
      "-1\t1\t1\t\n",
      "============\n",
      "l=  2 \t size: 4\n",
      "1\t3\t1\t1\t\n",
      "============\n",
      "l=  3 \t size: 2\n",
      "1\t1\t\n",
      "============\n"
     ]
    }
   ],
   "source": [
    "brain.printBiases()"
   ]
  },
  {
   "cell_type": "code",
   "execution_count": 7,
   "metadata": {},
   "outputs": [
    {
     "name": "stdout",
     "output_type": "stream",
     "text": [
      "s^{(l)}_{j}\n",
      "l=  0 \t size: 2\n",
      "0.1\t-2\t\n",
      "============\n",
      "l=  1 \t size: 3\n",
      "-1.6\t0.62\t0.62\t\n",
      "============\n",
      "l=  2 \t size: 4\n",
      "0.9279999999999999\t2.928\t0.9279999999999999\t0.9279999999999999\t\n",
      "============\n",
      "l=  3 \t size: 2\n",
      "2.1424\t6.5968\t\n",
      "============\n"
     ]
    }
   ],
   "source": [
    "brain.printSignals()"
   ]
  },
  {
   "cell_type": "code",
   "execution_count": 8,
   "metadata": {},
   "outputs": [
    {
     "name": "stdout",
     "output_type": "stream",
     "text": [
      "\\dfrac{\\partial s^{l+1}_{j}}{\\partial s^{(l)}_{i}}\n",
      "l=  0 \t size: 3 x 2\n",
      "-2\t0.2\t\n",
      "0.2\t0.2\t\n",
      "0.2\t0.2\t\n",
      "\n",
      "l=  1 \t size: 4 x 3\n",
      "0.2\t0.2\t0.2\t\n",
      "0.2\t0.2\t0.2\t\n",
      "0.2\t0.2\t0.2\t\n",
      "0.2\t0.2\t0.2\t\n",
      "\n",
      "l=  2 \t size: 2 x 4\n",
      "0.2\t0.2\t0.2\t0.2\t\n",
      "5\t0.2\t0.2\t0.2\t\n",
      "\n"
     ]
    }
   ],
   "source": [
    "brain.printDerivatives()"
   ]
  },
  {
   "cell_type": "code",
   "execution_count": 9,
   "metadata": {},
   "outputs": [
    {
     "name": "stdout",
     "output_type": "stream",
     "text": [
      "\\dfrac{\\partial s^{l+1}_{j}}{\\partial s^{(0)}_{i}}\n",
      "l=  0 \t size: 3 x 2\n",
      "-2\t0.2\t\n",
      "0.2\t0.2\t\n",
      "0.2\t0.2\t\n",
      "\n",
      "l=  1 \t size: 4 x 2\n",
      "-0.31999999999999995\t0.12000000000000002\t\n",
      "-0.31999999999999995\t0.12000000000000002\t\n",
      "-0.31999999999999995\t0.12000000000000002\t\n",
      "-0.31999999999999995\t0.12000000000000002\t\n",
      "\n",
      "l=  2 \t size: 2 x 2\n",
      "-0.25599999999999995\t0.09600000000000003\t\n",
      "-1.7919999999999998\t0.6720000000000002\t\n",
      "\n"
     ]
    }
   ],
   "source": [
    "brain.printTotalDerivatives()"
   ]
  },
  {
   "cell_type": "code",
   "execution_count": 10,
   "metadata": {},
   "outputs": [
    {
     "name": "stdout",
     "output_type": "stream",
     "text": [
      "\\dfrac{\\partial s^{[N-1)]}_{k}}{\\partial s^{[N-(f+2)]}_{i}}\n",
      "f=  0 \t size: 2 x 4\n",
      "0\t0\t0\t0\t\n",
      "0\t0\t0\t0\t\n",
      "\n",
      "f=  1 \t size: 2 x 3\n",
      "0\t0\t0\t\n",
      "0\t0\t0\t\n",
      "\n",
      "f=  2 \t size: 2 x 2\n",
      "0\t0\t\n",
      "0\t0\t\n",
      "\n"
     ]
    }
   ],
   "source": [
    "brain.printDelta()"
   ]
  },
  {
   "cell_type": "code",
   "execution_count": 11,
   "metadata": {},
   "outputs": [
    {
     "name": "stdout",
     "output_type": "stream",
     "text": [
      "\\dfrac{\\partial s^{(N-1)}_{p}}{\\partial s^{(0)}_{r}}\n",
      "size: 2 x 2\n",
      "0\t0\t\n",
      "0\t0\t\n",
      "\n"
     ]
    }
   ],
   "source": [
    "brain.printNumericalDerivatives()"
   ]
  }
 ],
 "metadata": {
  "kernelspec": {
   "display_name": "Python 3",
   "language": "python",
   "name": "python3"
  },
  "language_info": {
   "codemirror_mode": {
    "name": "ipython",
    "version": 3
   },
   "file_extension": ".py",
   "mimetype": "text/x-python",
   "name": "python",
   "nbconvert_exporter": "python",
   "pygments_lexer": "ipython3",
   "version": "3.8.3"
  }
 },
 "nbformat": 4,
 "nbformat_minor": 4
}
