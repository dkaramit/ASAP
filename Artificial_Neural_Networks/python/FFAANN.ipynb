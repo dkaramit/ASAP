{
 "cells": [
  {
   "cell_type": "markdown",
   "metadata": {},
   "source": [
    "# This is how you run FFANN\n",
    "\n",
    "\n",
    "Does the same things as FFANN.cpp"
   ]
  },
  {
   "cell_type": "code",
   "execution_count": 1,
   "metadata": {},
   "outputs": [],
   "source": [
    "from FFANN import FFANN"
   ]
  },
  {
   "cell_type": "code",
   "execution_count": 2,
   "metadata": {},
   "outputs": [],
   "source": [
    "brain = FFANN(2,1,[3])"
   ]
  },
  {
   "cell_type": "code",
   "execution_count": 3,
   "metadata": {},
   "outputs": [
    {
     "data": {
      "text/plain": [
       "[[2, 1],\n",
       " [-0.8942436319845937, -0.05770627781340265, -0.3515607311183522],\n",
       " [0.10815223484929304]]"
      ]
     },
     "execution_count": 3,
     "metadata": {},
     "output_type": "execute_result"
    }
   ],
   "source": [
    "brain.input_signal([2,1])\n",
    "brain.feed_forward()\n",
    "brain.signals"
   ]
  },
  {
   "cell_type": "code",
   "execution_count": 4,
   "metadata": {},
   "outputs": [],
   "source": [
    "brain = FFANN(2,1,[3,4],[lambda x:x,lambda x:x,lambda x:x])\n",
    "brain.init_params(0,0)"
   ]
  },
  {
   "cell_type": "code",
   "execution_count": 5,
   "metadata": {},
   "outputs": [],
   "source": [
    "brain.update_weight(0,2,0,1);\n",
    "brain.update_weight(0,1,0,1);\n",
    "brain.update_weight(0,0,0,1);\n",
    "brain.update_weight(0,1,1,1);\n",
    "brain.update_weight(1,0,1,2);\n",
    "brain.update_weight(1,1,2,2);\n",
    "brain.update_weight(1,1,1,2);\n",
    "brain.update_weight(2,0,0,1);\n",
    "\n",
    "brain.update_bias(0,2,1);\n",
    "brain.update_bias(0,1,1);\n",
    "brain.update_bias(1,1,1);\n",
    "brain.update_bias(1,0,-2);"
   ]
  },
  {
   "cell_type": "code",
   "execution_count": 6,
   "metadata": {},
   "outputs": [],
   "source": [
    "brain.input_signal([1.33,2]);\n",
    "brain.feed_forward()"
   ]
  },
  {
   "cell_type": "code",
   "execution_count": 7,
   "metadata": {},
   "outputs": [
    {
     "name": "stdout",
     "output_type": "stream",
     "text": [
      "l= 0 :\n",
      "1 \t 0.0 \t \n",
      "1 \t 1 \t \n",
      "1 \t 0.0 \t \n",
      "============\n",
      "l= 1 :\n",
      "0.0 \t 2 \t 0.0 \t \n",
      "0.0 \t 2 \t 2 \t \n",
      "0.0 \t 0.0 \t 0.0 \t \n",
      "0.0 \t 0.0 \t 0.0 \t \n",
      "============\n",
      "l= 2 :\n",
      "1 \t 0.0 \t 0.0 \t 0.0 \t \n",
      "============\n",
      "-------------------------------\n",
      "l= 1 :\n",
      "0.0 \t 1 \t 1 \t \n",
      "============\n",
      "l= 2 :\n",
      "-2 \t 1 \t 0.0 \t 0.0 \t \n",
      "============\n",
      "l= 3 :\n",
      "0.0 \t \n",
      "============\n",
      "-------------------------------\n",
      "l= 0 :\n",
      "1.33 \t 2 \t \n",
      "============\n",
      "l= 1 :\n",
      "1.33 \t 4.33 \t 2.33 \t \n",
      "============\n",
      "l= 2 :\n",
      "6.66 \t 14.32 \t 0.0 \t 0.0 \t \n",
      "============\n",
      "l= 3 :\n",
      "6.66 \t \n",
      "============\n"
     ]
    }
   ],
   "source": [
    "brain.print_weights()\n",
    "print('-------------------------------')\n",
    "brain.print_biases()\n",
    "print('-------------------------------')\n",
    "brain.print_signals()"
   ]
  },
  {
   "cell_type": "code",
   "execution_count": 8,
   "metadata": {},
   "outputs": [
    {
     "name": "stdout",
     "output_type": "stream",
     "text": [
      "0 1 0 1 1 1 1 1 0 -2 0 2 0 1 0 2 2 0 0 0 0 0 0 0 0 0 1 0 0 0 "
     ]
    }
   ],
   "source": [
    "for x in brain.write_params():\n",
    "    print(int(x),end=\" \")"
   ]
  },
  {
   "cell_type": "code",
   "execution_count": 9,
   "metadata": {},
   "outputs": [],
   "source": [
    "X=brain.write_params()    \n",
    "X[0]=666;\n",
    "X[1]=32;\n",
    "X[2]=-32;\n",
    "X[3]=-3200;\n",
    "X[4]=-0.5;\n",
    "X[5]=-368;"
   ]
  },
  {
   "cell_type": "code",
   "execution_count": 10,
   "metadata": {},
   "outputs": [
    {
     "name": "stdout",
     "output_type": "stream",
     "text": [
      "666\n",
      "32\n",
      "-32\n",
      "-3200\n",
      "-0.5\n",
      "-368\n"
     ]
    }
   ],
   "source": [
    "brain.read_params(X);\n",
    "print(brain.biases[0][0])\n",
    "\n",
    "print(brain.weights[0][0][0]) #X[1]\n",
    "print(brain.weights[0][0][1]) #X[2]\n",
    "\n",
    "print(brain.biases[0][1]) #X[3]\n",
    "\n",
    "print(brain.weights[0][1][0]) #X[4]\n",
    "print(brain.weights[0][1][1]) #X[5]\n"
   ]
  },
  {
   "cell_type": "code",
   "execution_count": null,
   "metadata": {},
   "outputs": [],
   "source": []
  }
 ],
 "metadata": {
  "kernelspec": {
   "display_name": "Python 3",
   "language": "python",
   "name": "python3"
  },
  "language_info": {
   "codemirror_mode": {
    "name": "ipython",
    "version": 3
   },
   "file_extension": ".py",
   "mimetype": "text/x-python",
   "name": "python",
   "nbconvert_exporter": "python",
   "pygments_lexer": "ipython3",
   "version": "3.8.3"
  }
 },
 "nbformat": 4,
 "nbformat_minor": 4
}
