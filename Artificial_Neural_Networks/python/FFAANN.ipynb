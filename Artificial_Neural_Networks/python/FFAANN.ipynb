{
 "cells": [
  {
   "cell_type": "markdown",
   "metadata": {},
   "source": [
    "# This is how you run FFANN"
   ]
  },
  {
   "cell_type": "code",
   "execution_count": 1,
   "metadata": {},
   "outputs": [],
   "source": [
    "import FeedForwardANN as FFANN\n",
    "import numpy as np"
   ]
  },
  {
   "cell_type": "code",
   "execution_count": 2,
   "metadata": {},
   "outputs": [],
   "source": [
    "lin=FFANN.linearActivation()\n"
   ]
  },
  {
   "cell_type": "code",
   "execution_count": 3,
   "metadata": {},
   "outputs": [],
   "source": [
    "brain = FFANN.FFANN(2,1,[3,4],[lin,lin,lin])\n",
    "brain.fill_weights_with(0)\n",
    "brain.fill_biases_with(0)\n"
   ]
  },
  {
   "cell_type": "code",
   "execution_count": 4,
   "metadata": {},
   "outputs": [],
   "source": [
    "brain.update_weight(0,2,0,1);\n",
    "brain.update_weight(0,1,0,1);\n",
    "brain.update_weight(0,0,0,1);\n",
    "brain.update_weight(0,1,1,1);\n",
    "brain.update_weight(1,0,1,2);\n",
    "brain.update_weight(1,1,2,2);\n",
    "brain.update_weight(1,1,1,2);\n",
    "brain.update_weight(2,0,0,1);\n",
    "\n",
    "brain.update_bias(0,2,1);\n",
    "brain.update_bias(0,1,1);\n",
    "brain.update_bias(1,1,1);\n",
    "brain.update_bias(1,0,-2);"
   ]
  },
  {
   "cell_type": "code",
   "execution_count": 5,
   "metadata": {},
   "outputs": [
    {
     "name": "stdout",
     "output_type": "stream",
     "text": [
      "64.6 µs ± 5.21 µs per loop (mean ± std. dev. of 50 runs, 50 loops each)\n",
      "53.1 µs ± 2.58 µs per loop (mean ± std. dev. of 50 runs, 50 loops each)\n"
     ]
    }
   ],
   "source": [
    "%timeit -n 50 -r 50 brain([1.33,2])\n",
    "%timeit -n 50 -r 50 brain.totalNumericalDerivative(h=1e-8)"
   ]
  },
  {
   "cell_type": "code",
   "execution_count": 6,
   "metadata": {},
   "outputs": [
    {
     "data": {
      "text/plain": [
       "[6.66]"
      ]
     },
     "execution_count": 6,
     "metadata": {},
     "output_type": "execute_result"
    }
   ],
   "source": [
    "brain.signals[brain.total_layers-1]"
   ]
  },
  {
   "cell_type": "code",
   "execution_count": 7,
   "metadata": {},
   "outputs": [
    {
     "data": {
      "text/plain": [
       "([[2, 2]], [[1.9999999999997606, 2.000000000000076]])"
      ]
     },
     "execution_count": 7,
     "metadata": {},
     "output_type": "execute_result"
    }
   ],
   "source": [
    "brain.totalDerivatives[brain.total_layers-2], brain.numericalDerivatives"
   ]
  },
  {
   "cell_type": "code",
   "execution_count": 8,
   "metadata": {},
   "outputs": [
    {
     "name": "stdout",
     "output_type": "stream",
     "text": [
      "l= 0 :\n",
      "1 \t 0 \t \n",
      "1 \t 1 \t \n",
      "1 \t 0 \t \n",
      "============\n",
      "l= 1 :\n",
      "0 \t 2 \t 0 \t \n",
      "0 \t 2 \t 2 \t \n",
      "0 \t 0 \t 0 \t \n",
      "0 \t 0 \t 0 \t \n",
      "============\n",
      "l= 2 :\n",
      "1 \t 0 \t 0 \t 0 \t \n",
      "============\n",
      "-------------------------------\n",
      "l= 1 :\n",
      "0 \t 1 \t 1 \t \n",
      "============\n",
      "l= 2 :\n",
      "-2 \t 1 \t 0 \t 0 \t \n",
      "============\n",
      "l= 3 :\n",
      "0 \t \n",
      "============\n",
      "-------------------------------\n",
      "l= 0 :\n",
      "1.33 \t 2.0 \t \n",
      "============\n",
      "l= 1 :\n",
      "1.33 \t 4.333 \t 2.33 \t \n",
      "============\n",
      "l= 2 :\n",
      "6.666 \t 14.326 \t 0.0 \t 0.0 \t \n",
      "============\n",
      "l= 3 :\n",
      "6.66 \t \n",
      "============\n"
     ]
    }
   ],
   "source": [
    "brain.print_weights()\n",
    "print('-------------------------------')\n",
    "brain.print_biases()\n",
    "print('-------------------------------')\n",
    "brain.print_signals()"
   ]
  },
  {
   "cell_type": "code",
   "execution_count": null,
   "metadata": {},
   "outputs": [],
   "source": []
  }
 ],
 "metadata": {
  "kernelspec": {
   "display_name": "Python 3",
   "language": "python",
   "name": "python3"
  },
  "language_info": {
   "codemirror_mode": {
    "name": "ipython",
    "version": 3
   },
   "file_extension": ".py",
   "mimetype": "text/x-python",
   "name": "python",
   "nbconvert_exporter": "python",
   "pygments_lexer": "ipython3",
   "version": "3.8.3"
  }
 },
 "nbformat": 4,
 "nbformat_minor": 4
}
