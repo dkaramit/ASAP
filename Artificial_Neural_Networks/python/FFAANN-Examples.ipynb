{
 "cells": [
  {
   "cell_type": "markdown",
   "metadata": {},
   "source": [
    "# Examples of feed-forward neural network"
   ]
  },
  {
   "cell_type": "code",
   "execution_count": 1,
   "metadata": {},
   "outputs": [],
   "source": [
    "import FeedForwardANN as FFANN\n",
    "import numpy as np"
   ]
  },
  {
   "cell_type": "code",
   "execution_count": null,
   "metadata": {},
   "outputs": [],
   "source": []
  },
  {
   "cell_type": "code",
   "execution_count": 2,
   "metadata": {},
   "outputs": [],
   "source": [
    "lin=FFANN.linearActivation()\n",
    "sig=FFANN.sigmoidActivation()\n",
    "exp=FFANN.expActivation()\n",
    "\n",
    "acts=[lin,lin,lin,\n",
    "      lin,sig,lin,\n",
    "      lin,lin,exp]"
   ]
  },
  {
   "cell_type": "code",
   "execution_count": 3,
   "metadata": {},
   "outputs": [],
   "source": [
    "brain = FFANN.FFANN(3,2,[3,2,50,1],acts)\n",
    "brain.init_params()"
   ]
  },
  {
   "cell_type": "code",
   "execution_count": 4,
   "metadata": {},
   "outputs": [
    {
     "data": {
      "text/plain": [
       "([6.218273357577958e-11, 6.772737264389966e-05],\n",
       " [[1.8326884890557026e-10, -2.446195118431202e-10, -3.969718178225456e-10],\n",
       "  [7.49596096173814e-05, -0.00010005291800573628, -0.000162367214454501]])"
      ]
     },
     "execution_count": 4,
     "metadata": {},
     "output_type": "execute_result"
    }
   ],
   "source": [
    "x=[1,0,5]\n",
    "brain.inputSignal(x)\n",
    "brain.feedForwardDerivatives()\n",
    "brain.signals[-1],brain.totalDerivatives[brain.total_layers-2]"
   ]
  },
  {
   "cell_type": "code",
   "execution_count": 5,
   "metadata": {},
   "outputs": [],
   "source": [
    "brain.totalNumericalDerivative()"
   ]
  },
  {
   "cell_type": "code",
   "execution_count": null,
   "metadata": {},
   "outputs": [],
   "source": []
  },
  {
   "cell_type": "code",
   "execution_count": null,
   "metadata": {},
   "outputs": [],
   "source": []
  },
  {
   "cell_type": "code",
   "execution_count": 6,
   "metadata": {},
   "outputs": [
    {
     "name": "stdout",
     "output_type": "stream",
     "text": [
      "616 µs ± 162 µs per loop (mean ± std. dev. of 20 runs, 15 loops each)\n",
      "1.44 ms ± 139 µs per loop (mean ± std. dev. of 20 runs, 15 loops each)\n",
      "2.41 ms ± 96.9 µs per loop (mean ± std. dev. of 20 runs, 15 loops each)\n",
      "3.44 ms ± 61.2 µs per loop (mean ± std. dev. of 20 runs, 15 loops each)\n",
      "11.7 ms ± 109 µs per loop (mean ± std. dev. of 20 runs, 15 loops each)\n"
     ]
    }
   ],
   "source": [
    "if True:\n",
    "    lin=FFANN.linearActivation()\n",
    "    sig=FFANN.sigmoidActivation()\n",
    "\n",
    "    brain = FFANN.FFANN(3,40,[3,2,50,2,6,5,8,1],[lin,lin,lin,lin,lin,lin,lin,lin,sig])\n",
    "    brain.init_params()\n",
    "    # calculates just the output \n",
    "    %timeit -n 15 -r 20 brain.evaluate([33.33,2,0.1])\n",
    "\n",
    "    # calculates the output and the local derivatives \n",
    "    %timeit -n 15 -r 20 brain([33.33,2,0.1])\n",
    "    \n",
    "\n",
    "    # calculates the output, the local derivatives, and the derivatives wrt the signals \n",
    "    %timeit -n 15 -r 20 brain.feedForwardDerivatives()\n",
    "\n",
    "    # calculates just the output and the numerical derivative wrt input nodes \n",
    "    %timeit -n 15 -r 20 brain.evaluate([33.33,2,0.1]); brain.totalNumericalDerivative()\n",
    "    \n",
    "    # calculates the output,  local derivatives, and runs backPropagation (for the Deltas)\n",
    "    %timeit -n 15 -r 20 brain([33.33,2,0.1]);brain.backPropagation()"
   ]
  },
  {
   "cell_type": "code",
   "execution_count": null,
   "metadata": {},
   "outputs": [],
   "source": []
  }
 ],
 "metadata": {
  "kernelspec": {
   "display_name": "Python 3",
   "language": "python",
   "name": "python3"
  },
  "language_info": {
   "codemirror_mode": {
    "name": "ipython",
    "version": 3
   },
   "file_extension": ".py",
   "mimetype": "text/x-python",
   "name": "python",
   "nbconvert_exporter": "python",
   "pygments_lexer": "ipython3",
   "version": "3.8.3"
  }
 },
 "nbformat": 4,
 "nbformat_minor": 4
}
