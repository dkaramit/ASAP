{
 "cells": [
  {
   "cell_type": "markdown",
   "metadata": {},
   "source": [
    "# Derivatives of feed-forward neural network"
   ]
  },
  {
   "cell_type": "code",
   "execution_count": 1,
   "metadata": {},
   "outputs": [],
   "source": [
    "from FFANN import FFANN,linearActivation,sigmoidActivation,expActivation\n",
    "import numpy as np"
   ]
  },
  {
   "cell_type": "code",
   "execution_count": 2,
   "metadata": {},
   "outputs": [],
   "source": [
    "lin=linearActivation()\n",
    "sig=sigmoidActivation()\n",
    "exp=expActivation()"
   ]
  },
  {
   "cell_type": "code",
   "execution_count": 3,
   "metadata": {},
   "outputs": [],
   "source": [
    "brain = FFANN(5,3,[3,2,30,15,8],[exp,lin,lin,sig,lin,sig])"
   ]
  },
  {
   "cell_type": "code",
   "execution_count": 4,
   "metadata": {},
   "outputs": [],
   "source": [
    "#sets input to [1,2], calls feedForward and returns the output signals\n",
    "x=[1,2,.1,-2,np.pi]\n",
    "# brain(x)\n",
    "brain.inputSignal(x)\n",
    "brain.feedForward()"
   ]
  },
  {
   "cell_type": "markdown",
   "metadata": {},
   "source": [
    "Derivative at x"
   ]
  },
  {
   "cell_type": "code",
   "execution_count": 5,
   "metadata": {},
   "outputs": [
    {
     "data": {
      "text/plain": [
       "[[-0.02372341974353833,\n",
       "  -0.012900097844488263,\n",
       "  0.006376168684371216,\n",
       "  0.007038979985350248,\n",
       "  0.021654280547898832],\n",
       " [-0.08355167713010783,\n",
       "  -0.010473387450952797,\n",
       "  0.015369541436918727,\n",
       "  0.06667861312152235,\n",
       "  0.05146599847326793],\n",
       " [-0.1986480382039405,\n",
       "  0.2567538848502792,\n",
       "  -0.020553090544827107,\n",
       "  0.4960058670718974,\n",
       "  -0.07742744061877768]]"
      ]
     },
     "execution_count": 5,
     "metadata": {},
     "output_type": "execute_result"
    }
   ],
   "source": [
    "brain.calcTotaDerivative()\n",
    "brain.totalDerivatives"
   ]
  },
  {
   "cell_type": "code",
   "execution_count": 6,
   "metadata": {},
   "outputs": [
    {
     "data": {
      "text/plain": [
       "[[-0.023723413507370505,\n",
       "  -0.012900045257317286,\n",
       "  0.0063761686004819166,\n",
       "  0.007039079568560425,\n",
       "  0.02165423557560168],\n",
       " [-0.08355170597559858,\n",
       "  -0.010473358838451277,\n",
       "  0.015369541333218075,\n",
       "  0.06667898861077252,\n",
       "  0.05146596005416093],\n",
       " [-0.1986483938048178,\n",
       "  0.2567534016579091,\n",
       "  -0.02055309020693679,\n",
       "  0.49600628377309086,\n",
       "  -0.0774272208917744]]"
      ]
     },
     "execution_count": 6,
     "metadata": {},
     "output_type": "execute_result"
    }
   ],
   "source": [
    "brain.totalNumericalDerivative()"
   ]
  },
  {
   "cell_type": "code",
   "execution_count": 7,
   "metadata": {},
   "outputs": [
    {
     "name": "stdout",
     "output_type": "stream",
     "text": [
      "174 ms ± 1.87 ms per loop (mean ± std. dev. of 15 runs, 5 loops each)\n",
      "2.1 ms ± 120 µs per loop (mean ± std. dev. of 15 runs, 5 loops each)\n"
     ]
    }
   ],
   "source": [
    "# The way the numerical derivative is set up, it is slower. It can be made faster if \n",
    "# I play with the calcSignal function\n",
    "%timeit -n 5 -r 15 brain.totalNumericalDerivative()\n",
    "%timeit -n 5 -r 15 brain.calcTotaDerivative()"
   ]
  },
  {
   "cell_type": "code",
   "execution_count": null,
   "metadata": {},
   "outputs": [],
   "source": []
  }
 ],
 "metadata": {
  "kernelspec": {
   "display_name": "Python 3",
   "language": "python",
   "name": "python3"
  },
  "language_info": {
   "codemirror_mode": {
    "name": "ipython",
    "version": 3
   },
   "file_extension": ".py",
   "mimetype": "text/x-python",
   "name": "python",
   "nbconvert_exporter": "python",
   "pygments_lexer": "ipython3",
   "version": "3.8.3"
  }
 },
 "nbformat": 4,
 "nbformat_minor": 4
}
