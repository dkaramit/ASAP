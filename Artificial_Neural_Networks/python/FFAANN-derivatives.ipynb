{
 "cells": [
  {
   "cell_type": "markdown",
   "metadata": {},
   "source": [
    "# Derivatives of feed-forward neural network"
   ]
  },
  {
   "cell_type": "code",
   "execution_count": 1,
   "metadata": {},
   "outputs": [],
   "source": [
    "from FFANN import FFANN,linearActivation\n",
    "import numpy as np"
   ]
  },
  {
   "cell_type": "code",
   "execution_count": 2,
   "metadata": {},
   "outputs": [],
   "source": [
    "lin=linearActivation()"
   ]
  },
  {
   "cell_type": "code",
   "execution_count": 3,
   "metadata": {},
   "outputs": [],
   "source": [
    "brain = FFANN(5,3,[3,2,30,15,8,60],[lin,lin,lin,lin,lin,lin,lin])"
   ]
  },
  {
   "cell_type": "code",
   "execution_count": 4,
   "metadata": {},
   "outputs": [
    {
     "data": {
      "text/plain": [
       "[12.01636838722204, -6.740213646203519, -45.17471351856925]"
      ]
     },
     "execution_count": 4,
     "metadata": {},
     "output_type": "execute_result"
    }
   ],
   "source": [
    "#sets input to [1,2], calls feedForward and returns the output signals\n",
    "x=[1,2,.1,-2,np.pi]\n",
    "brain(x)"
   ]
  },
  {
   "cell_type": "markdown",
   "metadata": {},
   "source": [
    "Derivative at x"
   ]
  },
  {
   "cell_type": "code",
   "execution_count": 5,
   "metadata": {},
   "outputs": [
    {
     "data": {
      "text/plain": [
       "[[12.13473342574206,\n",
       "  25.723021999055415,\n",
       "  -6.632492933308833,\n",
       "  -33.40786845008788,\n",
       "  -48.22910753660451],\n",
       " [1.087696546293355,\n",
       "  -6.99484255719055,\n",
       "  3.7464473529013245,\n",
       "  5.00165376935387,\n",
       "  0.5292419999197451],\n",
       " [-7.626804863188536,\n",
       "  -19.7163037030294,\n",
       "  5.825115186723341,\n",
       "  24.048560374274725,\n",
       "  32.16413223913793]]"
      ]
     },
     "execution_count": 5,
     "metadata": {},
     "output_type": "execute_result"
    }
   ],
   "source": [
    "brain.calcTotaDerivative()\n",
    "brain.totalDerivatives"
   ]
  },
  {
   "cell_type": "code",
   "execution_count": 6,
   "metadata": {},
   "outputs": [
    {
     "data": {
      "text/plain": [
       "[[12.134733425748667,\n",
       "  25.723021999051337,\n",
       "  -6.6324929333116955,\n",
       "  -33.40786845007582,\n",
       "  -48.22910753660335],\n",
       " [1.0876965462922605,\n",
       "  -6.994842557184189,\n",
       "  3.7464473529121145,\n",
       "  5.001653769352614,\n",
       "  0.5292419999183529],\n",
       " [-7.62680486318601,\n",
       "  -19.716303703021982,\n",
       "  5.825115186727135,\n",
       "  24.048560374280232,\n",
       "  32.16413223914059]]"
      ]
     },
     "execution_count": 6,
     "metadata": {},
     "output_type": "execute_result"
    }
   ],
   "source": [
    "brain.totalNumericalDerivative()"
   ]
  },
  {
   "cell_type": "markdown",
   "metadata": {},
   "source": [
    "Derivative at x=[0,1]"
   ]
  },
  {
   "cell_type": "code",
   "execution_count": 7,
   "metadata": {},
   "outputs": [
    {
     "data": {
      "text/plain": [
       "[[12.13473342574206,\n",
       "  25.723021999055415,\n",
       "  -6.632492933308833,\n",
       "  -33.40786845008788,\n",
       "  -48.22910753660451],\n",
       " [1.087696546293355,\n",
       "  -6.99484255719055,\n",
       "  3.7464473529013245,\n",
       "  5.00165376935387,\n",
       "  0.5292419999197451],\n",
       " [-7.626804863188536,\n",
       "  -19.7163037030294,\n",
       "  5.825115186723341,\n",
       "  24.048560374274725,\n",
       "  32.16413223913793]]"
      ]
     },
     "execution_count": 7,
     "metadata": {},
     "output_type": "execute_result"
    }
   ],
   "source": [
    "brain.calcTotaDerivative([0,1])\n",
    "brain.totalDerivatives"
   ]
  },
  {
   "cell_type": "code",
   "execution_count": 8,
   "metadata": {},
   "outputs": [
    {
     "data": {
      "text/plain": [
       "[[12.134733425741118,\n",
       "  25.723021999056073,\n",
       "  -6.632492933315732,\n",
       "  -33.40786845008795,\n",
       "  -48.22910753660676],\n",
       " [1.0876965463114674,\n",
       "  -6.994842557194403,\n",
       "  3.7464473529111055,\n",
       "  5.001653769353465,\n",
       "  0.5292419999184867],\n",
       " [-7.626804863193115,\n",
       "  -19.716303703031457,\n",
       "  5.825115186746514,\n",
       "  24.048560374277272,\n",
       "  32.16413223913844]]"
      ]
     },
     "execution_count": 8,
     "metadata": {},
     "output_type": "execute_result"
    }
   ],
   "source": [
    "brain.totalNumericalDerivative([0,1])"
   ]
  },
  {
   "cell_type": "code",
   "execution_count": null,
   "metadata": {},
   "outputs": [],
   "source": []
  },
  {
   "cell_type": "code",
   "execution_count": null,
   "metadata": {},
   "outputs": [],
   "source": []
  }
 ],
 "metadata": {
  "kernelspec": {
   "display_name": "Python 3",
   "language": "python",
   "name": "python3"
  },
  "language_info": {
   "codemirror_mode": {
    "name": "ipython",
    "version": 3
   },
   "file_extension": ".py",
   "mimetype": "text/x-python",
   "name": "python",
   "nbconvert_exporter": "python",
   "pygments_lexer": "ipython3",
   "version": "3.8.3"
  }
 },
 "nbformat": 4,
 "nbformat_minor": 4
}
