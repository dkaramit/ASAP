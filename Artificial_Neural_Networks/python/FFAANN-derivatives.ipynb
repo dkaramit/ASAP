{
 "cells": [
  {
   "cell_type": "code",
   "execution_count": 1,
   "metadata": {},
   "outputs": [
    {
     "ename": "ImportError",
     "evalue": "cannot import name 'derivative_w' from 'FeedForwardANN.FFANN_backProp' (/media/200Gb/programming_numerics/ASAP/Artificial_Neural_Networks/python/FeedForwardANN/FFANN_backProp.py)",
     "output_type": "error",
     "traceback": [
      "\u001b[0;31m---------------------------------------------------------------------------\u001b[0m",
      "\u001b[0;31mImportError\u001b[0m                               Traceback (most recent call last)",
      "\u001b[0;32m<ipython-input-1-01916861d92f>\u001b[0m in \u001b[0;36m<module>\u001b[0;34m\u001b[0m\n\u001b[0;32m----> 1\u001b[0;31m \u001b[0;32mimport\u001b[0m \u001b[0mFeedForwardANN\u001b[0m \u001b[0;32mas\u001b[0m \u001b[0mFFANN\u001b[0m\u001b[0;34m\u001b[0m\u001b[0;34m\u001b[0m\u001b[0m\n\u001b[0m\u001b[1;32m      2\u001b[0m \u001b[0;32mimport\u001b[0m \u001b[0mnumpy\u001b[0m \u001b[0;32mas\u001b[0m \u001b[0mnp\u001b[0m\u001b[0;34m\u001b[0m\u001b[0;34m\u001b[0m\u001b[0m\n\u001b[1;32m      3\u001b[0m \u001b[0;32mfrom\u001b[0m \u001b[0mcopy\u001b[0m \u001b[0;32mimport\u001b[0m \u001b[0mdeepcopy\u001b[0m\u001b[0;34m\u001b[0m\u001b[0;34m\u001b[0m\u001b[0m\n",
      "\u001b[0;32m/media/200Gb/programming_numerics/ASAP/Artificial_Neural_Networks/python/FeedForwardANN/__init__.py\u001b[0m in \u001b[0;36m<module>\u001b[0;34m\u001b[0m\n\u001b[1;32m      3\u001b[0m \u001b[0;32mfrom\u001b[0m \u001b[0;34m.\u001b[0m\u001b[0mFFANN_call\u001b[0m \u001b[0;32mimport\u001b[0m  \u001b[0mevaluate\u001b[0m\u001b[0;34m,\u001b[0m\u001b[0mcall\u001b[0m\u001b[0;34m,\u001b[0m\u001b[0minputSignal\u001b[0m\u001b[0;34m,\u001b[0m\u001b[0mcalcSignal\u001b[0m\u001b[0;34m,\u001b[0m\u001b[0mfeedForward\u001b[0m\u001b[0;34m\u001b[0m\u001b[0;34m\u001b[0m\u001b[0m\n\u001b[1;32m      4\u001b[0m \u001b[0;34m\u001b[0m\u001b[0m\n\u001b[0;32m----> 5\u001b[0;31m \u001b[0;32mfrom\u001b[0m \u001b[0;34m.\u001b[0m\u001b[0mFFANN_backProp\u001b[0m \u001b[0;32mimport\u001b[0m  \u001b[0mbackPropagation\u001b[0m\u001b[0;34m,\u001b[0m \u001b[0mderivative_w\u001b[0m\u001b[0;34m\u001b[0m\u001b[0;34m\u001b[0m\u001b[0m\n\u001b[0m\u001b[1;32m      6\u001b[0m \u001b[0;34m\u001b[0m\u001b[0m\n\u001b[1;32m      7\u001b[0m \u001b[0;32mfrom\u001b[0m \u001b[0;34m.\u001b[0m\u001b[0mFFANN_derivatives\u001b[0m \u001b[0;32mimport\u001b[0m \u001b[0mfeedForwardDerivatives\u001b[0m\u001b[0;34m,\u001b[0m\u001b[0mmulM\u001b[0m\u001b[0;34m\u001b[0m\u001b[0;34m\u001b[0m\u001b[0m\n",
      "\u001b[0;31mImportError\u001b[0m: cannot import name 'derivative_w' from 'FeedForwardANN.FFANN_backProp' (/media/200Gb/programming_numerics/ASAP/Artificial_Neural_Networks/python/FeedForwardANN/FFANN_backProp.py)"
     ]
    }
   ],
   "source": [
    "import FeedForwardANN as FFANN\n",
    "import numpy as np\n",
    "from copy import deepcopy\n"
   ]
  },
  {
   "cell_type": "code",
   "execution_count": null,
   "metadata": {},
   "outputs": [],
   "source": [
    "class FFv2(FFANN.FFANN):\n",
    "\n",
    "    pass"
   ]
  },
  {
   "cell_type": "code",
   "execution_count": null,
   "metadata": {},
   "outputs": [],
   "source": [
    "lin=FFANN.linearActivation()\n",
    "sig=FFANN.sigmoidActivation()\n",
    "\n",
    "brain = FFv2(3,2,[3,2],[lin,lin,sig,lin])\n",
    "brain.init_params()\n"
   ]
  },
  {
   "cell_type": "code",
   "execution_count": null,
   "metadata": {},
   "outputs": [],
   "source": []
  },
  {
   "cell_type": "code",
   "execution_count": null,
   "metadata": {},
   "outputs": [],
   "source": [
    "brain([0,.1,2]); brain.backPropagation()\n",
    "brain.signals[-1]"
   ]
  },
  {
   "cell_type": "code",
   "execution_count": null,
   "metadata": {},
   "outputs": [],
   "source": [
    "brain.derivative_w(0,0,0)"
   ]
  },
  {
   "cell_type": "code",
   "execution_count": null,
   "metadata": {},
   "outputs": [],
   "source": [
    "brain.derivative_bw(2,1,1)\n",
    "brain.dsdw,brain.dsdb"
   ]
  },
  {
   "cell_type": "code",
   "execution_count": null,
   "metadata": {},
   "outputs": [],
   "source": [
    "brain.numericalDerivative_w(2,1,1)\n",
    "brain.numerical_dsdw,brain.numerical_dsdb"
   ]
  },
  {
   "cell_type": "code",
   "execution_count": null,
   "metadata": {},
   "outputs": [],
   "source": []
  }
 ],
 "metadata": {
  "kernelspec": {
   "display_name": "Python 3",
   "language": "python",
   "name": "python3"
  },
  "language_info": {
   "codemirror_mode": {
    "name": "ipython",
    "version": 3
   },
   "file_extension": ".py",
   "mimetype": "text/x-python",
   "name": "python",
   "nbconvert_exporter": "python",
   "pygments_lexer": "ipython3",
   "version": "3.8.3"
  }
 },
 "nbformat": 4,
 "nbformat_minor": 4
}
