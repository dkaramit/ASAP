{
 "cells": [
  {
   "cell_type": "markdown",
   "metadata": {},
   "source": [
    "# Training ```FFANN```\n",
    "\n",
    "Let's augment the ```FFANN``` class in order to be able to train it.\n",
    "\n",
    "This is still a work in progress, but at least it can \"fit\" the *XOR*-gate and a linear function."
   ]
  },
  {
   "cell_type": "code",
   "execution_count": 1,
   "metadata": {},
   "outputs": [],
   "source": [
    "import FeedForwardANN as FFANN\n",
    "import numpy as np"
   ]
  },
  {
   "cell_type": "code",
   "execution_count": 2,
   "metadata": {},
   "outputs": [],
   "source": [
    "lin=FFANN.linearActivation()\n",
    "sig=FFANN.sigmoidActivation()\n",
    "\n"
   ]
  },
  {
   "cell_type": "code",
   "execution_count": 3,
   "metadata": {},
   "outputs": [],
   "source": [
    "# data_in=[[_] for _ in np.linspace(0,1,250)]\n",
    "# data_out=[[2*_] for _ in np.linspace(0,1,250)]\n",
    "# brain=FFANN.FFANN(1,1,[3,2,1],[lin,lin,lin,lin,lin])\n",
    "# brain.init_params(-1,1)\n",
    "\n",
    "\n",
    "data_in=[[1,1],[0,0],[1,0],[0,1]]\n",
    "data_out=[[0],[0],[1],[1]]\n",
    "brain=FFANN.FFANN(2,1,[3],[sig,lin])\n",
    "brain.init_params(-1e-1,1e-1)"
   ]
  },
  {
   "cell_type": "code",
   "execution_count": 4,
   "metadata": {},
   "outputs": [],
   "source": [
    "#the squared error and its derivative\n",
    "def Q_i(model, i, target):\n",
    "    return (model.signals[model.total_layers-1][i]-target)**2\n",
    "\n",
    "\n",
    "def dQds_i(model, i, target):\n",
    "    return 2*(model.signals[model.total_layers-1][i]-target)"
   ]
  },
  {
   "cell_type": "code",
   "execution_count": 5,
   "metadata": {},
   "outputs": [],
   "source": [
    "Q=FFANN.loss(Q_i, dQds_i, brain)\n",
    "# strategy=FFANN.VanillaSGD(brain,Q,alpha=1e-1)\n",
    "# strategy=FFANN.RMSpropSGD(brain,Q,gamma=0.995,epsilon=1e-4,alpha=1e-2)\n",
    "# strategy=FFANN.AdaDeltaSGD(brain,Q,gamma=0.995,epsilon=1e-4,alpha=1)\n",
    "# strategy=FFANN.AdamSGD(brain,Q,beta_m=1-1e-1,beta_v=1-1e-3,epsilon=1e-8,alpha=1e-2)\n",
    "# strategy=FFANN.AdaMaxSGD(brain,Q,beta_m=1-1e-1,beta_v=1-1e-3,epsilon=1e-8,alpha=1e-2)\n",
    "strategy=FFANN.NAdamSGD(brain,Q,beta_m=1-1e-1,beta_v=1-1e-3,epsilon=1e-8,alpha=1e-2)\n"
   ]
  },
  {
   "cell_type": "code",
   "execution_count": null,
   "metadata": {},
   "outputs": [],
   "source": []
  },
  {
   "cell_type": "code",
   "execution_count": 6,
   "metadata": {},
   "outputs": [
    {
     "data": {
      "text/plain": [
       "3604"
      ]
     },
     "execution_count": 6,
     "metadata": {},
     "output_type": "execute_result"
    }
   ],
   "source": [
    "brain.SGD(strategy, data_in, data_out, abs_tol=1e-3, rel_tol=1e-3, step_break=250,max_step=50000)"
   ]
  },
  {
   "cell_type": "code",
   "execution_count": 7,
   "metadata": {},
   "outputs": [
    {
     "name": "stdout",
     "output_type": "stream",
     "text": [
      "point: [1, 1] \n",
      "target: [0] FFANN gives: [0.0014886370038155183] loss: 2.2160401291288437e-06\n",
      "\n",
      "point: [0, 0] \n",
      "target: [0] FFANN gives: [0.0002772699512565424] loss: 7.68786258698054e-08\n",
      "\n",
      "point: [1, 0] \n",
      "target: [1] FFANN gives: [0.9995511148337518] loss: 2.0149789247766684e-07\n",
      "\n",
      "point: [0, 1] \n",
      "target: [1] FFANN gives: [0.9996404743443034] loss: 1.2925869710409555e-07\n",
      "\n",
      "mean loss: 6.559188361451029e-07\n",
      "max loss: 2.2160401291288437e-06\n"
     ]
    }
   ],
   "source": [
    "meanQ=0\n",
    "maxQ=0\n",
    "for i,_ in enumerate(data_in):\n",
    "    brain(_)\n",
    "    Qi=Q(data_out[i])\n",
    "    print('point:',_,'\\n'\n",
    "       'target:',data_out[i],\n",
    "         'FFANN gives:',brain(_),\n",
    "         'loss:',Qi)\n",
    "    print('')\n",
    "    if Qi > maxQ:\n",
    "        maxQ=Qi\n",
    "    brain(_)\n",
    "    meanQ+=Q(data_out[i])\n",
    "    \n",
    "print('mean loss:', meanQ/float(len(data_out)))\n",
    "print('max loss:', maxQ)\n"
   ]
  },
  {
   "cell_type": "code",
   "execution_count": null,
   "metadata": {},
   "outputs": [],
   "source": []
  }
 ],
 "metadata": {
  "kernelspec": {
   "display_name": "Python 3",
   "language": "python",
   "name": "python3"
  },
  "language_info": {
   "codemirror_mode": {
    "name": "ipython",
    "version": 3
   },
   "file_extension": ".py",
   "mimetype": "text/x-python",
   "name": "python",
   "nbconvert_exporter": "python",
   "pygments_lexer": "ipython3",
   "version": "3.8.3"
  }
 },
 "nbformat": 4,
 "nbformat_minor": 4
}
