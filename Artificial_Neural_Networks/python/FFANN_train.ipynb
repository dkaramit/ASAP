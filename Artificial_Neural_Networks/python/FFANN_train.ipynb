{
 "cells": [
  {
   "cell_type": "markdown",
   "metadata": {},
   "source": [
    "# Training ```FFANN```\n",
    "\n",
    "Let's augment the ```FFANN``` class in order to be able to train it.\n",
    "\n",
    "This is still a work in progress, but at least it can \"fit\" the *XOR*-gate and a linear function."
   ]
  },
  {
   "cell_type": "code",
   "execution_count": 1,
   "metadata": {},
   "outputs": [],
   "source": [
    "import FeedForwardANN as FFANN\n",
    "import numpy as np"
   ]
  },
  {
   "cell_type": "code",
   "execution_count": 2,
   "metadata": {},
   "outputs": [],
   "source": [
    "class FFv2(FFANN.FFANN):\n",
    "    pass\n",
    "    \n",
    "        \n",
    "\n"
   ]
  },
  {
   "cell_type": "code",
   "execution_count": 3,
   "metadata": {},
   "outputs": [],
   "source": [
    "lin=FFANN.linearActivation()\n",
    "sig=FFANN.sigmoidActivation()\n",
    "\n"
   ]
  },
  {
   "cell_type": "code",
   "execution_count": 4,
   "metadata": {},
   "outputs": [],
   "source": [
    "# data_in=[[_] for _ in np.linspace(0,1,250)]\n",
    "# data_out=[[2*_] for _ in np.linspace(0,1,250)]\n",
    "# brain=FFv2(1,1,[3,2,1],[lin,lin,lin,lin,lin])\n",
    "# brain.init_params(-1,1)\n",
    "\n",
    "\n",
    "data_in=[[1,1],[0,0],[1,0],[0,1]]\n",
    "data_out=[[0],[0],[1],[1]]\n",
    "brain=FFv2(2,1,[3],[sig,lin])\n",
    "brain.init_params(-1,1)"
   ]
  },
  {
   "cell_type": "code",
   "execution_count": 5,
   "metadata": {},
   "outputs": [],
   "source": [
    "def Q_i(signal,target):\n",
    "    return (signal-target)**2.\n",
    "\n",
    "def dQds_i(signal,target):\n",
    "    return 2.*(signal-target)"
   ]
  },
  {
   "cell_type": "code",
   "execution_count": 6,
   "metadata": {},
   "outputs": [],
   "source": [
    "Q=FFANN.loss(Q_i, dQds_i, brain)\n",
    "strategy=FFANN.VanillaSGD(brain,Q,alpha=1e-1)"
   ]
  },
  {
   "cell_type": "code",
   "execution_count": null,
   "metadata": {},
   "outputs": [],
   "source": []
  },
  {
   "cell_type": "code",
   "execution_count": 7,
   "metadata": {},
   "outputs": [],
   "source": [
    "brain.SGD(strategy, data_in, data_out, abs_tol=1e-2, rel_tol=1e-3, step_break=150,max_step=15000)"
   ]
  },
  {
   "cell_type": "code",
   "execution_count": 8,
   "metadata": {},
   "outputs": [
    {
     "name": "stdout",
     "output_type": "stream",
     "text": [
      "point: [1, 1] \n",
      "target: [0] FFANN gives: [0.0005396913240642842] loss: 2.9126672527026023e-07\n",
      "\n",
      "point: [0, 0] \n",
      "target: [0] FFANN gives: [0.0005866065546686894] loss: 3.4410724998027007e-07\n",
      "\n",
      "point: [1, 0] \n",
      "target: [1] FFANN gives: [0.9999448118861333] loss: 3.045727912167506e-09\n",
      "\n",
      "point: [0, 1] \n",
      "target: [1] FFANN gives: [0.9996648233956278] loss: 1.1234335611848601e-07\n",
      "\n",
      "mean loss: 1.8769076482029598e-07\n",
      "max loss: 3.4410724998027007e-07\n"
     ]
    }
   ],
   "source": [
    "meanQ=0\n",
    "maxQ=0\n",
    "for i,_ in enumerate(data_in):\n",
    "    Qi=Q(brain(_),data_out[i])\n",
    "    print('point:',_,'\\n'\n",
    "       'target:',data_out[i],\n",
    "         'FFANN gives:',brain(_),\n",
    "         'loss:',Qi)\n",
    "    print('')\n",
    "    if Qi > maxQ:\n",
    "        maxQ=Qi\n",
    "    meanQ+=Q(brain(_),data_out[i])\n",
    "    \n",
    "print('mean loss:', meanQ/float(len(data_out)))\n",
    "print('max loss:', maxQ)\n"
   ]
  },
  {
   "cell_type": "code",
   "execution_count": null,
   "metadata": {},
   "outputs": [],
   "source": []
  },
  {
   "cell_type": "code",
   "execution_count": null,
   "metadata": {},
   "outputs": [],
   "source": []
  }
 ],
 "metadata": {
  "kernelspec": {
   "display_name": "Python 3",
   "language": "python",
   "name": "python3"
  },
  "language_info": {
   "codemirror_mode": {
    "name": "ipython",
    "version": 3
   },
   "file_extension": ".py",
   "mimetype": "text/x-python",
   "name": "python",
   "nbconvert_exporter": "python",
   "pygments_lexer": "ipython3",
   "version": "3.8.3"
  }
 },
 "nbformat": 4,
 "nbformat_minor": 4
}
