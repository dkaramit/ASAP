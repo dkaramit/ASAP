{
 "cells": [
  {
   "cell_type": "code",
   "execution_count": null,
   "metadata": {},
   "outputs": [],
   "source": [
    "import os"
   ]
  },
  {
   "cell_type": "code",
   "execution_count": null,
   "metadata": {},
   "outputs": [],
   "source": [
    "os.chdir('../')"
   ]
  },
  {
   "cell_type": "code",
   "execution_count": null,
   "metadata": {},
   "outputs": [],
   "source": [
    "import FeedForwardANN as FFANN\n",
    "import numpy as np\n",
    "\n",
    "%matplotlib notebook\n",
    "# %matplotlib widget\n",
    "import matplotlib.pyplot as plt\n",
    "\n",
    "\n",
    "plt.rcParams['font.size']=16\n",
    "plt.rcParams['font.family']='dejavu sans'\n",
    "\n",
    "plt.rcParams['mathtext.fontset']='stix'\n",
    "plt.rcParams['mathtext.rm']='custom'\n",
    "plt.rcParams['mathtext.it']='stix:italic'\n",
    "plt.rcParams['mathtext.bf']='stix:bold'"
   ]
  },
  {
   "cell_type": "code",
   "execution_count": null,
   "metadata": {},
   "outputs": [],
   "source": [
    "os.chdir('example')"
   ]
  },
  {
   "cell_type": "code",
   "execution_count": null,
   "metadata": {},
   "outputs": [],
   "source": [
    "lin=FFANN.linearActivation()\n",
    "sig=FFANN.sigmoidActivation()\n",
    "exp=FFANN.expActivation()\n",
    "\n"
   ]
  },
  {
   "cell_type": "code",
   "execution_count": null,
   "metadata": {},
   "outputs": [],
   "source": [
    "#the squared error and its derivative\n",
    "def Q_i(model, i, target):\n",
    "    return (model.signals[model.total_layers-1][i]-target)**2\n",
    "\n",
    "\n",
    "def dQds_i(model, i, target):\n",
    "    return 2*(model.signals[model.total_layers-1][i]-target)\n"
   ]
  },
  {
   "cell_type": "code",
   "execution_count": null,
   "metadata": {},
   "outputs": [],
   "source": [
    "_=np.loadtxt('eos2020.dat')\n",
    "T=np.array([[np.log10(i[0])] for i in _[:,] ])\n",
    "rdof=np.array([[i[1],i[2]] for i in _[:]])\n",
    "# rdof=np.array([[np.log(i[1]),np.log(i[2])] for i in _[1:]])"
   ]
  },
  {
   "cell_type": "code",
   "execution_count": null,
   "metadata": {},
   "outputs": [],
   "source": [
    "brain=FFANN.FFANN(1,2,[4],[sig,lin])\n",
    "\n",
    "brain.init_params(-1e-1,1e-1)\n",
    "\n",
    "\n",
    "\n",
    "Q=FFANN.loss(Q_i, dQds_i, brain)\n",
    "\n",
    "\n",
    "\n",
    "# strategy=FFANN.VanillaSGD(brain,Q,alpha=1e-1)\n",
    "# strategy=FFANN.RMSpropSGD(brain,Q,gamma=0.999,epsilon=1e-5,alpha=1e-2)\n",
    "# strategy=FFANN.AdaDeltaSGD(brain,Q,gamma=0.995,epsilon=1e-4,alpha=1)\n",
    "# strategy=FFANN.AdamSGD(brain,Q,beta_m=1-1e-1,beta_v=1-1e-3,epsilon=1e-8,alpha=1e-1)\n",
    "strategy=FFANN.AdaMaxSGD(brain,Q,beta_m=1-1e-2,beta_v=1-1e-4,epsilon=1e-8,alpha=1e-1)\n",
    "# strategy=FFANN.AdamSGD(brain,Q,beta_m=1-1e-1,beta_v=1-1e-3,epsilon=1e-8,alpha=1e-1)\n"
   ]
  },
  {
   "cell_type": "code",
   "execution_count": null,
   "metadata": {},
   "outputs": [],
   "source": []
  },
  {
   "cell_type": "code",
   "execution_count": null,
   "metadata": {},
   "outputs": [],
   "source": [
    "brain.SGD(strategy, T, rdof, abs_tol=1e-4, rel_tol=1e-4, step_break=1000,max_step=150000)"
   ]
  },
  {
   "cell_type": "code",
   "execution_count": null,
   "metadata": {},
   "outputs": [],
   "source": [
    "brain.inputSignal([5])\n",
    "brain.feedForward()    \n",
    "brain.signals[-1]\n",
    "brain.signals[-1],rdof[-1]"
   ]
  },
  {
   "cell_type": "code",
   "execution_count": null,
   "metadata": {},
   "outputs": [],
   "source": [
    "brain.inputSignal([-5])\n",
    "brain.feedForward()\n",
    "brain.signals[-1],rdof[0]"
   ]
  },
  {
   "cell_type": "code",
   "execution_count": null,
   "metadata": {},
   "outputs": [],
   "source": []
  },
  {
   "cell_type": "code",
   "execution_count": null,
   "metadata": {},
   "outputs": [],
   "source": [
    "fig=plt.figure(figsize=(9,5))\n",
    "fig.subplots_adjust(bottom=0.15, left=0.15, top = 0.9, right=0.9,wspace=0.0,hspace=0.0)\n",
    "\n",
    "sub = fig.add_subplot(1,1,1)\n",
    "\n",
    "g=[]\n",
    "for logT in T:\n",
    "    brain.inputSignal(logT)\n",
    "    brain.feedForward()    \n",
    "    g.append(brain.signals[-1][1]) \n",
    "g=np.array(g)\n",
    "sub.plot(T,g,linestyle='-',linewidth=3.5,alpha=1,c='xkcd:black',label=r'FFANN')\n",
    "sub.plot(T,rdof[:,1],linestyle='--',linewidth=2.5,alpha=1,c='xkcd:red',label=r'data')\n",
    "\n",
    "\n",
    "sub.legend(bbox_to_anchor=(0.01, 0.99),borderaxespad=0., columnspacing=1,labelspacing=-0.1,\n",
    "           borderpad=0,ncol=1,loc='upper left' ,framealpha=0)\n",
    "\n",
    "\n",
    "\n",
    "sub.set_xlabel(r'$log_{10}\\left( \\dfrac{T}{{\\rm GeV}} \\right)$')\n",
    "sub.xaxis.set_label_coords(0.5, -0.075) \n",
    "sub.set_ylabel(r'$g_{\\rm *}$')\n",
    "sub.yaxis.set_label_coords(-0.07,0.5) \n",
    "\n",
    "\n",
    "fig.show()"
   ]
  },
  {
   "cell_type": "code",
   "execution_count": null,
   "metadata": {},
   "outputs": [],
   "source": [
    "fig=plt.figure(figsize=(9,5))\n",
    "fig.subplots_adjust(bottom=0.15, left=0.15, top = 0.9, right=0.9,wspace=0.0,hspace=0.0)\n",
    "\n",
    "sub = fig.add_subplot(1,1,1)\n",
    "\n",
    "h=[]\n",
    "for logT in T:\n",
    "    brain.inputSignal(logT)\n",
    "    brain.feedForward()    \n",
    "    h.append(brain.signals[-1][0])\n",
    "    \n",
    "h=np.array(h)\n",
    "sub.plot(T,h,linestyle='-',linewidth=3.5,alpha=1,c='xkcd:black',label=r'FFANN')\n",
    "sub.plot(T,rdof[:,0],linestyle='--',linewidth=2.5,alpha=1,c='xkcd:red',label=r'data')\n",
    "\n",
    "\n",
    "sub.legend(bbox_to_anchor=(0.01, 0.99),borderaxespad=0., columnspacing=1,labelspacing=-0.1,\n",
    "           borderpad=0,ncol=1,loc='upper left' ,framealpha=0)\n",
    "\n",
    "\n",
    "\n",
    "sub.set_xlabel(r'$log_{10}\\left( \\dfrac{T}{{\\rm GeV}} \\right)$')\n",
    "sub.xaxis.set_label_coords(0.5, -0.075) \n",
    "sub.set_ylabel(r'$h_{\\rm eff}$')\n",
    "sub.yaxis.set_label_coords(-0.07,0.5) \n",
    "\n",
    "\n",
    "fig.show()"
   ]
  },
  {
   "cell_type": "code",
   "execution_count": null,
   "metadata": {},
   "outputs": [],
   "source": [
    "fig=plt.figure(figsize=(9,5))\n",
    "fig.subplots_adjust(bottom=0.15, left=0.15, top = 0.9, right=0.9,wspace=0.0,hspace=0.0)\n",
    "\n",
    "sub = fig.add_subplot(1,1,1)\n",
    "\n",
    "    \n",
    "sub.plot(T,np.abs(g-rdof[:,1])/rdof[:,1],linestyle='-',linewidth=2.5,alpha=1,c='xkcd:black',label=r'$g_{\\rm *}$')\n",
    "sub.plot(T,np.abs(h-rdof[:,0])/rdof[:,1],linestyle='--',linewidth=2.5,alpha=1,c='xkcd:red',label=r'$h_{\\rm eff}$')\n",
    "\n",
    "\n",
    "sub.legend(bbox_to_anchor=(0.01, 0.99),borderaxespad=0., columnspacing=1,labelspacing=-0.1,\n",
    "           borderpad=0,ncol=1,loc='upper left' ,framealpha=0)\n",
    "\n",
    "\n",
    "\n",
    "sub.set_xlabel(r'$log_{10}\\left( \\dfrac{T}{{\\rm GeV}} \\right)$')\n",
    "sub.xaxis.set_label_coords(0.5, -0.075) \n",
    "sub.set_ylabel(r'relative difference')\n",
    "sub.yaxis.set_label_coords(-0.1,0.5) \n",
    "\n",
    "\n",
    "fig.show()"
   ]
  },
  {
   "cell_type": "code",
   "execution_count": null,
   "metadata": {},
   "outputs": [],
   "source": []
  },
  {
   "cell_type": "code",
   "execution_count": null,
   "metadata": {},
   "outputs": [],
   "source": []
  }
 ],
 "metadata": {
  "kernelspec": {
   "display_name": "Python 3",
   "language": "python",
   "name": "python3"
  },
  "language_info": {
   "codemirror_mode": {
    "name": "ipython",
    "version": 3
   },
   "file_extension": ".py",
   "mimetype": "text/x-python",
   "name": "python",
   "nbconvert_exporter": "python",
   "pygments_lexer": "ipython3",
   "version": "3.8.3"
  }
 },
 "nbformat": 4,
 "nbformat_minor": 4
}
