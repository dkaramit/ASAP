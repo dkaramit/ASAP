{
 "cells": [
  {
   "cell_type": "markdown",
   "metadata": {},
   "source": [
    "For the Ronbrock method, we need to solve a linear system of the form\n",
    "$$\n",
    "M_{ij}x_{j}=b_{i} \\;,\n",
    "$$\n",
    "with M a square matrix (repeated indecies imply summation).\n",
    "\n",
    "Such systems are soved by (among  other methods) the so-called LU factorization (or decomposition),\n",
    "where you decompose $M_{ij}=L_{ik}U_{kj}$ with $L_{i, j>i}=0$, $L_{i, j=i}=1$, $U_{i,j<i}=0$.\n"
   ]
  },
  {
   "cell_type": "markdown",
   "metadata": {},
   "source": [
    "That is if $M$ is $N \\times N$ matrix, L,U are defined as\n",
    "\\begin{align}\n",
    "    &L=\\left( \\begin{matrix}\n",
    "    1 & 0 & 0 & 0 & \\dots &0 & 0 \\\\\n",
    "    L_{2,1} & 1 & 0 & 0 & \\dots &0 & 0\\\\\n",
    "    L_{3,1} & L_{3,2} & 1 & 0 & \\dots &0 & 0 \\\\\n",
    "    \\vdots & \\vdots & \\vdots & \\ddots & \\dots & \\vdots & \\vdots \\\\\n",
    "    L_{N-1, 1} & L_{N-1, 2} & L_{N-1, 3} & L_{N-1, 4} & \\dots & 1 & 0 \\\\\n",
    "    L_{N, 1} & L_{N, 2} & L_{N, 3} & L_{N, 4} & \\dots & L_{N, N-1} & 1 \\\\\n",
    "    \\end{matrix}\\right) \\;, \\\\\n",
    "    %\n",
    "    &U=\\left( \\begin{matrix}\n",
    "    U_{1,1} & U_{1,2} & U_{1,3} & U_{1,4} & \\dots & U_{1,N-1} & U_{1,N} \\\\\n",
    "    0 & U_{2,2} & U_{2,3} & U_{2,4} & \\dots & U_{2,N-1} & U_{2,N}\\\\\n",
    "    0 & 0 & U_{3,3} & U_{3,4} & \\dots & U_{3,N-1} & U_{3,N} \\\\\n",
    "    \\vdots & \\vdots & \\vdots & \\ddots & \\dots & \\vdots & \\vdots \\\\\n",
    "    0 & 0 & 0 &0 & \\dots & U_{N-1,N-1} & U_{N-1,N} \\\\\n",
    "    0 & 0 & 0& 0 & \\dots & 0 &U_{N,N} \\\\\n",
    "    \\end{matrix}\\right)\n",
    "    %\n",
    "\\end{align}"
   ]
  },
  {
   "cell_type": "markdown",
   "metadata": {},
   "source": [
    "Then we have in general $M_{i, j} = \\sum_{k=1}^{i}L_{i,k}U_{k,j}$. Since \n",
    "$L_{i, k \\geq i}=0$ and $U_{k>j,j}=0$, the sum runs up to $j$ if $i \\geq j$ and\n",
    "$i$ if $i \\leq j$  (for $i=j$ then both are correct). That is\n",
    "\n",
    "\n",
    "\n",
    "\n",
    "$$\n",
    "M_{i, j \\geq i} = \\sum_{k=1}^{i-1}L_{i,k}U_{k,j}+ U_{i,j} \\Rightarrow \n",
    "U_{i,j }=M_{i,j } - \\sum_{k=1}^{i-1}L_{i,k}U_{k,j }\\; , \\;\\;\\; j \\geq i \\\\[0.5cm]\n",
    "M_{i, j \\leq i} = \\sum_{k=1}^{j-1}L_{i,k}U_{k,j} +L_{i,j}U_{j,j} \\Rightarrow \n",
    "L_{i,j}=\\left( M_{i,j} - \\sum_{k=1}^{j-1}L_{i,k}U_{k,j} \\right) U_{jj}^{-1} , \\;\\;\\; j \\leq i\n",
    "$$"
   ]
  },
  {
   "cell_type": "markdown",
   "metadata": {},
   "source": [
    "Since $U$ and $L$ are triangular matrices, we can solve these two systems sequentially\n",
    "$$\n",
    "L_{i,k}y_{k}=b_{k} \\\\\n",
    "U_{k,j}x_{j}=y_{k},\n",
    "$$\n",
    "\n",
    "since \n",
    "$$\n",
    "y_1 = b_{1} \\\\\n",
    "L_{2,1}y_{1}+y_{2}=b_{2} \\Rightarrow y_{2}=b_{2}-L_{2,1}y_{1} \\\\\n",
    "\\vdots \\\\\n",
    "y_{i}=b_{i} - \\sum_{j=1}^{i-1}L_{i,j}y_{j}\n",
    "$$\n",
    "\n",
    "and\n",
    "\n",
    "$$\n",
    "U_{N,N}x_{N}=y_{N} \\Rightarrow x_{N}=y_{N}/U_{N,N}\\\\\n",
    "U_{N-1,N}x_{N}+U_{N-1,N-1}x_{N-1}=y_{N-1} \\Rightarrow x_{N-1}=\\left(y_{N-1} -U_{N-1,N}x_{N} \\right)/U_{N-1,N-1} \\\\\n",
    "\\vdots \\\\\n",
    "x_{i}=\\dfrac{y_{i} -\\displaystyle\\sum_{j=i+1}^{N} U_{i,j}x_{j}  }{U_{i,i}}\n",
    "$$"
   ]
  },
  {
   "cell_type": "markdown",
   "metadata": {},
   "source": [
    "Since $x_{i} \\sim 1/U_{i,i} =1/M_{i,i}$, if the diagonal terms of $M$ are small (or god forbid they vanish), we would have a problem.\n",
    "\n",
    "\n",
    "To solve this problem we do $PLU$ decomposition, where $P^{T}M=LU$ with $P$ a permutation matrix so that the diagonals\n",
    "in $P^{T}M$ contain the largest value of each row.\n",
    "\n",
    "Then solving $M x =b$ is equavalent to solving $\\left( P^{T}M \\right) x =P^{T}b$ with LU decomposition of \n",
    "$P^{T}M$.\n"
   ]
  },
  {
   "cell_type": "code",
   "execution_count": 1,
   "metadata": {},
   "outputs": [],
   "source": [
    "from scipy.linalg import lu_factor,lu_solve,lu\n",
    "\n",
    "import numpy as np"
   ]
  },
  {
   "cell_type": "code",
   "execution_count": 51,
   "metadata": {},
   "outputs": [],
   "source": [
    "def max_in(row,start,N):\n",
    "    _in=start\n",
    "    _max=row[_in]\n",
    "    for i in range(_in+1,N):\n",
    "        if row[i]>_max:\n",
    "            _max=row[i]\n",
    "            _in=i\n",
    "        \n",
    "            \n",
    "    return _max,_in\n",
    "\n",
    "def min_in(row,start,N):\n",
    "    _in=start\n",
    "    _min=row[_in]\n",
    "    for i in range(_in+1,N):\n",
    "        if row[i]<_min:\n",
    "            _min=row[i]\n",
    "            _in=i\n",
    "    return _min,_in\n",
    "\n",
    "def Pivot(M,P,N):\n",
    "    \n",
    "    for i in range(N):\n",
    "        for j in range(N):\n",
    "            if i==j:\n",
    "                P[i][i]=1\n",
    "            else:\n",
    "                P[i][j]=0\n",
    "    \n",
    "    \n",
    "    #have a look at https://www.cs.bgu.ac.il/~mma172/wiki.files/LectureNotes.pdf\n",
    "    #and http://lampx.tugraz.at/~hadley/num/ch2/2.3a.php\n",
    "    #It seems that the pivoting is done according to U (which makes sence)\n",
    "    for col in range(N):\n",
    "        #fine the maximum and it's index of the column\n",
    "    \n",
    "        _tmp=[np.abs(M[r][col]) for r in  range(N)]\n",
    "        _maxR,_in =max_in(_tmp,0,N)\n",
    "        \n",
    "        #print(_tmp)\n",
    "        #print(_in)\n",
    "        #Move M[_in][:]  so that its maximum is at M[col][col]  \n",
    "        #exchange the rows M[col][:] with M[_in][:] \n",
    "        #this change should only happen if the current diagonal term |M[_in][_in]| is\n",
    "        #smaller than the term that will become the diagonal term |M[_in][_in]| if the exhange occurs\n",
    "        #or that the minimum is not going to to become a diagonal term\n",
    "        if _maxR>np.abs(M[col][col]): \n",
    "            _tmp=[M[col][r] for r in  range(N)]\n",
    "            _min,m_in =min_in(np.abs(_tmp),0,N)\n",
    "            #print(col,m_in)\n",
    "            if  m_in!=_in or np.abs(M[_in][_in])<np.abs(M[col ][_in]):\n",
    "            #change the pivot matrix:\n",
    "            #-----------TO DO---------------#\n",
    "                P_tmp=[P[col][r] for r in  range(N)]\n",
    "                for r in range(N):\n",
    "                    M[col][r]=M[_in][r]\n",
    "                    M[_in][r]=_tmp[r]\n",
    "                    P[col][r]=P[_in][r]\n",
    "                    P[_in][r]=P_tmp[r]\n",
    "                #print(col,_in,np.array(M))\n",
    "                #print('----------')\n",
    "            \n"
   ]
  },
  {
   "cell_type": "code",
   "execution_count": 76,
   "metadata": {},
   "outputs": [
    {
     "data": {
      "text/plain": [
       "[[0.0, 3.543325575745879, -7.609186860702108],\n",
       " [-5.500949116054825, 5.296773948983242, 7.4971048689821025],\n",
       " [0.36842495042955825, 0.24366669121845064, 0.0]]"
      ]
     },
     "execution_count": 76,
     "metadata": {},
     "output_type": "execute_result"
    }
   ],
   "source": [
    "[ [M0[i][j] for j in range(N)]for i in range(N)]"
   ]
  },
  {
   "cell_type": "code",
   "execution_count": 81,
   "metadata": {},
   "outputs": [
    {
     "name": "stdout",
     "output_type": "stream",
     "text": [
      "[[ 0.         -7.23078462  2.48392358]\n",
      " [-6.62897206 -5.17424843  2.23896065]\n",
      " [-0.82789109 -6.54476777  0.        ]]\n",
      "----------\n",
      "----------\n",
      "----------\n",
      "[[-6.62897206 -5.17424843  2.23896065]\n",
      " [-0.82789109 -6.54476777  0.        ]\n",
      " [ 0.         -7.23078462  2.48392358]]\n",
      "----------\n",
      "----------\n",
      "[-6.628972059877358, -6.544767765796515, 2.4839235823526593]\n",
      "----------\n",
      "----------\n",
      "[[0. 0. 0.]\n",
      " [0. 0. 0.]\n",
      " [0. 0. 0.]]\n"
     ]
    },
    {
     "data": {
      "text/plain": [
       "array([[0, 1, 0],\n",
       "       [0, 0, 1],\n",
       "       [1, 0, 0]])"
      ]
     },
     "execution_count": 81,
     "metadata": {},
     "output_type": "execute_result"
    }
   ],
   "source": [
    "N=3\n",
    "M=np.random.rand(N,N)*20-10\n",
    "M[0][0]=0\n",
    "M[2][2]=0\n",
    "# M[2][3]=0\n",
    "# M[3][3]=0\n",
    "# M[4][4]=0\n",
    "# M[3][4]=0\n",
    "# M[2][4]=0\n",
    "# M=[[1 , 3,  5],\n",
    "#   [2  ,4 , 7],\n",
    "#   [1  ,1 , 0]]\n",
    "\n",
    "M0=M.copy()\n",
    "\n",
    "P=[ [0 for j in range(N)] for i in range(N)]\n",
    "print(M)\n",
    "print('----------')\n",
    "print('----------')\n",
    "print('----------')\n",
    "Pivot(M,P,N)\n",
    "print(M)\n",
    "print('----------')\n",
    "print('----------')\n",
    "print([M[i][i] for i in range(N)])#check the diagonals\n",
    "\n",
    "print('----------')\n",
    "print('----------')\n",
    "print(\n",
    "    np.dot(np.array(P).T,M)-np.array(M0)#check the pivot\n",
    ")\n",
    "np.array(P)"
   ]
  },
  {
   "cell_type": "code",
   "execution_count": 85,
   "metadata": {},
   "outputs": [
    {
     "name": "stdout",
     "output_type": "stream",
     "text": [
      "[0.0, -5.174248432765993, 0.0]\n"
     ]
    },
    {
     "data": {
      "text/plain": [
       "array([[ 0.        , -7.23078462,  2.48392358],\n",
       "       [-6.62897206, -5.17424843,  2.23896065],\n",
       "       [-0.82789109, -6.54476777,  0.        ]])"
      ]
     },
     "execution_count": 85,
     "metadata": {},
     "output_type": "execute_result"
    }
   ],
   "source": [
    "M=M0.copy()\n",
    "P,L,U=lu(M)\n",
    "print([np.dot(P,np.dot(L,U))[i][i] for i in range(N)])\n",
    "\n",
    "np.dot(P,np.dot(L,U))"
   ]
  },
  {
   "cell_type": "code",
   "execution_count": 75,
   "metadata": {},
   "outputs": [],
   "source": [
    "def Sum(L,U,i,j,N):\n",
    "    #this is the sum I'll need for LU\n",
    "    s=0\n",
    "    #range(N) goes up to N-1, so in order to call this function as e.g. Sum(L,U,i,j,j-1), we need range(N+1)\n",
    "    for k in range(N+1):\n",
    "        s+=L[i][k]*U[k][j]\n",
    "    return s\n",
    "\n",
    "def LU(M,N,L,U):\n",
    "     \n",
    "    for i in range(N):\n",
    "        L[i][i]=1\n",
    "   \n",
    "    for j in range(N):\n",
    "        for i in range(N):\n",
    "            if j>=i:\n",
    "                U[i][j]=M[i][j]-Sum(L,U,i,j,i-1)\n",
    "            if j<i:\n",
    "                L[i][j]=( M[i][j]-Sum(L,U,i,j,j-1) )/U[j][j]\n",
    "\n",
    "            \n",
    "        "
   ]
  },
  {
   "cell_type": "code",
   "execution_count": 243,
   "metadata": {},
   "outputs": [],
   "source": [
    "N=3\n",
    "M=[\n",
    "    [9,np.random.rand(),np.random.rand()],\n",
    "    [np.random.rand(),2,np.random.rand()],\n",
    "    [np.random.rand(),np.random.rand(),3]\n",
    "]\n",
    "L=[ [0  for i in range(N)]  for j in range(N)]\n",
    "U=[ [0  for i in range(N)]  for j in range(N)]\n",
    "LU(M,N,L,U)"
   ]
  },
  {
   "cell_type": "code",
   "execution_count": 244,
   "metadata": {},
   "outputs": [
    {
     "data": {
      "text/plain": [
       "array([[0., 0., 0.],\n",
       "       [0., 0., 0.],\n",
       "       [0., 0., 0.]])"
      ]
     },
     "execution_count": 244,
     "metadata": {},
     "output_type": "execute_result"
    }
   ],
   "source": [
    "np.dot(L,U)-np.array(M)"
   ]
  },
  {
   "cell_type": "code",
   "execution_count": null,
   "metadata": {},
   "outputs": [],
   "source": []
  },
  {
   "cell_type": "code",
   "execution_count": null,
   "metadata": {},
   "outputs": [],
   "source": []
  }
 ],
 "metadata": {
  "kernelspec": {
   "display_name": "Python 3",
   "language": "python",
   "name": "python3"
  },
  "language_info": {
   "codemirror_mode": {
    "name": "ipython",
    "version": 3
   },
   "file_extension": ".py",
   "mimetype": "text/x-python",
   "name": "python",
   "nbconvert_exporter": "python",
   "pygments_lexer": "ipython3",
   "version": "3.7.4"
  }
 },
 "nbformat": 4,
 "nbformat_minor": 2
}
