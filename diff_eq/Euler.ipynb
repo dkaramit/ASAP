{
 "cells": [
  {
   "cell_type": "code",
   "execution_count": 1,
   "metadata": {
    "collapsed": true
   },
   "outputs": [],
   "source": [
    "import numpy as np\n",
    "import matplotlib.pyplot as plt\n"
   ]
  },
  {
   "cell_type": "code",
   "execution_count": 2,
   "metadata": {
    "collapsed": true
   },
   "outputs": [],
   "source": [
    "#Euler's method for 1 diff eq\n",
    "def Euler_1(Func,in_C,T_range):\n",
    "    Y=np.empty_like(t_range)\n",
    "    Y[0]=in_C\n",
    "    for n in np.arange(N-1):\n",
    "        h = T_range[n+1]-T_range[n]\n",
    "        k1=Func(Y[n],T_range[n])\n",
    "        Y[n+1]=Y[n]+k1*h\n",
    "    return Y\n",
    "\n",
    "\n",
    "\n",
    "\n",
    "\n",
    "\n",
    "#Euler's method for n diff eq (it returns Euler_1 if one equation is given)\n",
    "\n",
    "\n",
    "def Euler_D(Funcs,in_C,T_range):\n",
    "    N=len(T_range) \n",
    "    try:\n",
    "        dim=len(Funcs)\n",
    "    except:\n",
    "        return Euler_1(Funcs,in_C,T_range)\n",
    "    if dim == 1:\n",
    "        return Euler_1(Funcs[0],in_C[0],T_range)\n",
    "        \n",
    "    Y=np.empty([N,dim])\n",
    "\n",
    "    for i in np.arange(dim):\n",
    "        Y[0][i]=in_C[i]\n",
    "    \n",
    "    for n in np.arange(N-1):\n",
    "        h = t_range[n+1]-t_range[n]\n",
    "        for i in np.arange(dim):\n",
    "            k1=Funcs[i](Y[n],t_range[n])\n",
    "            Y[n+1][i]=Y[n][i]+k1*h\n",
    "    \n",
    "    return Y"
   ]
  },
  {
   "cell_type": "code",
   "execution_count": 3,
   "metadata": {},
   "outputs": [
    {
     "data": {
      "image/png": "[encoded data removed]",
      "text/plain": [
       "<matplotlib.figure.Figure at 0x7fefcf544f50>"
      ]
     },
     "metadata": {},
     "output_type": "display_data"
    }
   ],
   "source": [
    "def dydt(y,t):\n",
    "    return np.sin(t)*y**2\n",
    "N=1000\n",
    "t_range=np.linspace(0,1,N)\n",
    "sol=Euler_D(dydt,1,t_range)\n",
    "\n",
    "plt.plot(t_range,sol)\n",
    "plt.show()"
   ]
  },
  {
   "cell_type": "code",
   "execution_count": null,
   "metadata": {
    "collapsed": true
   },
   "outputs": [],
   "source": []
  },
  {
   "cell_type": "code",
   "execution_count": null,
   "metadata": {
    "collapsed": true
   },
   "outputs": [],
   "source": []
  },
  {
   "cell_type": "code",
   "execution_count": 4,
   "metadata": {},
   "outputs": [
    {
     "data": {
      "image/png": "[encoded data removed]",
      "text/plain": [
       "<matplotlib.figure.Figure at 0x7fefc7e0b550>"
      ]
     },
     "metadata": {},
     "output_type": "display_data"
    }
   ],
   "source": [
    "def dxdt(r,t):\n",
    "    x=r[0]\n",
    "    y=r[1]\n",
    "    return y+x\n",
    "\n",
    "def dydt(r,t):\n",
    "    x=r[0]\n",
    "    y=r[1]\n",
    "    return np.sin(x)-y\n",
    "\n",
    "N=1000\n",
    "t_range=np.linspace(0,1,N)\n",
    "R=Euler_D([dxdt,dydt],[0.1,0.6],t_range)\n",
    "\n",
    "plt.plot(t_range,R)\n",
    "plt.show()"
   ]
  }
 ],
 "metadata": {
  "kernelspec": {
   "display_name": "Python 2",
   "language": "python",
   "name": "python2"
  },
  "language_info": {
   "codemirror_mode": {
    "name": "ipython",
    "version": 2
   },
   "file_extension": ".py",
   "mimetype": "text/x-python",
   "name": "python",
   "nbconvert_exporter": "python",
   "pygments_lexer": "ipython2",
   "version": "2.7.13"
  }
 },
 "nbformat": 4,
 "nbformat_minor": 2
}
