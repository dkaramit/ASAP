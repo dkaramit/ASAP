{
 "cells": [
  {
   "cell_type": "markdown",
   "metadata": {},
   "source": [
    "# The Rosendrock method\n",
    "\n",
    "Usually in real-world-problems one encounters a system of differential equations, which does not behave nicely. Such systems are called *stiff*, and basically it means that it becomes expensive for an adaptive method to find a small enough stepsize so that the solution does not explode. \n",
    "\n",
    "As far aas know implicit methods are best, i.e. methods where one has to solve an equation of the form\n",
    "$$ F(\\vec{k}_1 ,\\vec{k}_2,\\vec{k}_3 \\cdots ) = G(\\vec{k}_1 ,\\vec{k}_2,\\vec{k}_3 \\cdots ),$$\n",
    "which also becomes expensive and difficult to implement. \n",
    "\n",
    "\n",
    "However, there is one method that can give nice results fairly cheaply, and is called the Rosendrock method."
   ]
  },
  {
   "cell_type": "markdown",
   "metadata": {},
   "source": [
    "Lets assume, as usual, that we have a differential equation\n",
    "$$\n",
    "\\dfrac{d\\vec{y}}{dt}=\\vec{f}(\\vec{y},t) \\;,\n",
    "$$\n",
    "with  given $\\vec{y}(0)$ (as always $t \\in [0,1]$). In quite involveed methods, in order to simplify \n",
    "the notation, we take $t$ as a component of $\\vec{y}$. So if we have $N$ differential equations with\n",
    "explicit t-dependence, we now have $N+1$, for which $y_{N+1}=t$ with $\\dfrac{dy_{N+1}}{dt}=1$ and $t_0 =0$.\n",
    "Doing so, we can follow the RK algorithms, and  $t_{n+1}=t_{n}+h$, $\\sum_i b_i =1$, $c_i \\sum_i a_{ji}$, \n",
    "we find that $k_{N+1,i}=h$. \n",
    "\n",
    "\n",
    "So it suffices to study the solution of\n",
    "\n",
    "$$\n",
    "\\dfrac{d\\vec{y}}{dt}=\\vec{f}(\\vec{y}) \\;,\n",
    "$$\n",
    "i.e remove the explicit t dependence. We follow then the standard iteration:\n",
    "\n",
    "$$\n",
    "\\vec{y}_{n+1}=\\vec{y}_{n}+ \\sum_{i=1}^{s} b_i \\vec{k}_i \\\\\n",
    "\\vec{y}^{\\star}_{n+1}=\\vec{y}_{n}+ \\sum_{i=1}^{s} b_i^{\\star} \\vec{k}_i \\;.\n",
    "$$\n",
    "\n",
    "The Rosenbrock method says that the $\\vec{k}$'s are given by\n",
    "\n",
    "$$\n",
    "\\left(\\hat I - \\gamma_i h \\hat J \\right)\\cdot \\vec{k}_i =  \n",
    "h \\vec{f}\\Big(\\vec{y}_n+\\sum_{j=1}^{i-1}a_{ij}\\vec{k}_{j} \\Big)+\n",
    "h \\hat J \\cdot \\sum_{j=1}^{i-1}\\gamma_{ij}\\vec{k}_{j},\n",
    "$$\n",
    "where the  $\\alpha, b, c$, and $\\gamma$ parameters define the method, $\\hat I$ is the $N+1,N+1$ unit matrix,\n",
    "and $\\hat J =\\dfrac{\\partial \\vec{f}}{\\partial \\vec{y}}_{\\vec{y}=\\vec{y}_n} $ is the Jacobian of the system.\n",
    "Particularly interested methods include those with $\\gamma_i=\\gamma \\; \\forall i$, since we can just calculate the LU-factorisation of $\\left(\\hat I - \\gamma h \\hat J \\right)$ once in every step. This is the case in which I'm focusing here.\n",
    "\n",
    "To recap, I'll make a class that will solve differential equations using \n",
    "\n",
    "$$\n",
    "\\vec{y}_{n+1}=\\vec{y}_{n}+ \\sum_{i=1}^{s} b_i \\vec{k}_i \\\\\n",
    "\\vec{y}^{\\star}_{n+1}=\\vec{y}_{n}+ \\sum_{i=1}^{s} b_i^{\\star} \\vec{k}_i  \\\\\n",
    "\\left(\\hat I - \\gamma h \\hat J \\right)\\cdot \\vec{k}_i =  \n",
    "h \\vec{f}\\Big(\\vec{y}_n+\\sum_{j=1}^{i-1}a_{ij}\\vec{k}_{j} \\Big)+\n",
    "h \\hat J \\cdot \\sum_{j=1}^{i-1}\\gamma_{ij}\\vec{k}_{j} \\;.\n",
    "$$\n",
    "\n",
    "\n",
    "To do this I will have to discuss how to actually implement the LU method for solving linear systems of equations. I have an LU solver function ready but not documented, so I'll just use the scipy one."
   ]
  },
  {
   "cell_type": "code",
   "execution_count": null,
   "metadata": {},
   "outputs": [],
   "source": []
  },
  {
   "cell_type": "code",
   "execution_count": 1,
   "metadata": {},
   "outputs": [],
   "source": [
    "#I will make the jacobian passed as input in ROS.\n",
    "class Jacobian:\n",
    "    def __init__(self,diffeq,h=1e-5):\n",
    "        self.n=diffeq.n_eqs+1 #+1 to account for time\n",
    "        self.dydt=diffeq\n",
    "        self.h=h\n",
    "        \n",
    "    \n",
    "                \n",
    "\n",
    "    def __call__(self,y,t,J):#J is passed by reference\n",
    "        \n",
    "        \n",
    "        dydt0=self.dydt(y,t-self.h) \n",
    "        dydt1=self.dydt(y,t+self.h) \n",
    "        for i in range(self.n-1):\n",
    "            J[i][self.n-1]=(dydt1[i]-dydt0[i])/(2*self.h)\n",
    "        J[self.n-1][self.n-1]=1.\n",
    "        for i in range(self.n-1):\n",
    "            for j in range(self.n-1):\n",
    "                #all y's are constant, except theit j component\n",
    "                y0=y[:]\n",
    "                y1=y[:]\n",
    "                y0[j]=y[j]-self.h\n",
    "                y1[j]=y[j]+self.h\n",
    "                \n",
    "                dydt0=self.dydt(y0,t) \n",
    "                dydt1=self.dydt(y1,t) \n",
    "                \n",
    "                J[i][j]=(dydt1[i]-dydt0[i])/(2*self.h)\n",
    "        return J"
   ]
  },
  {
   "cell_type": "code",
   "execution_count": 4,
   "metadata": {},
   "outputs": [
    {
     "data": {
      "text/plain": [
       "[[1.549999999950202, 0.0, 0.0, 0.0, 5.000000000032756],\n",
       " [0.0, 1.5499999999057932, 0.0, 0.0, 10.000000000065512],\n",
       " [2.9999999998864264, 0.0, 4.999999999988347, 0.0, 0.0],\n",
       " [0.0, 0.0, 0.0, 0.0, 1.0000000000065512],\n",
       " [0, 0, 0, 0, 1.0]]"
      ]
     },
     "execution_count": 4,
     "metadata": {},
     "output_type": "execute_result"
    }
   ],
   "source": [
    "class diff_eq:\n",
    "    def __init__(self,n=1):\n",
    "        self.n_eqs=n\n",
    "        \n",
    "    \n",
    "    def __call__(self,y,t):\n",
    "        return [y[0]*t,y[1]*t,y[2]*y[0],t ]\n",
    "        \n",
    "    \n",
    "\n",
    "    \n",
    "dydt=diff_eq(4)\n",
    "\n",
    "j=Jacobian(dydt)\n",
    "\n",
    "J=[ [0 for j in range(5)] for i in range(5)]\n",
    "y=[5,10,3,1.55]\n",
    "j(y,1.55,J)"
   ]
  },
  {
   "cell_type": "code",
   "execution_count": null,
   "metadata": {},
   "outputs": [],
   "source": []
  },
  {
   "cell_type": "code",
   "execution_count": 57,
   "metadata": {},
   "outputs": [],
   "source": [
    "#for LU \n",
    "from scipy.linalg import lu_factor as LU\n",
    "from scipy.linalg import lu_solve as LU_solve\n",
    "\n",
    "\n",
    "\n",
    "\n",
    "import numpy as np\n",
    "\n",
    "import matplotlib\n",
    "#matplotlib.use('WebAgg')\n",
    "#matplotlib.use('Qt4Cairo')\n",
    "#matplotlib.use('Qt5Cairo')\n",
    "matplotlib.use('nbAgg')\n",
    "import matplotlib.pyplot as plt\n",
    "\n",
    "plt.rcParams['font.family']='serif'\n",
    "plt.rcParams['font.size']=10\n",
    "plt.rcParams['mathtext.fontset']='stixsans'"
   ]
  },
  {
   "cell_type": "code",
   "execution_count": 58,
   "metadata": {},
   "outputs": [],
   "source": [
    "#I'll use ROS3w here, since I've the parameters ready.\n",
    "class ROS3w:\n",
    "    def __init__(self):\n",
    "        #third stage, second order method\n",
    "        self.s=3\n",
    "        self.p=2\n",
    "        self.c=[0,2/3.,4/3.]\n",
    "        self.b=[0.25,0.25,0.5  ]\n",
    "        self.bstar=[0.746704703274 , 0.1144064078371 , 0.1388888888888]\n",
    "        self.a=[ [0 for j in range(self.s)] for i in range(self.s)]\n",
    "        self.gamma=0.4358665215084 #this is gamma\n",
    "        self.g=[ [0 for j in range(self.s)] for i in range(self.s)]#this is gamma_{ij}\n",
    "        \n",
    "        self.a[1][0]=2/3.\n",
    "        self.a[2][0]=2/3.\n",
    "        self.a[2][1]=2/3.\n",
    "        \n",
    "        self.g[1][0]=0.3635068368900\n",
    "        self.g[2][0]=-0.8996866791992\n",
    "        self.g[2][1]=-0.1537997822626\n",
    "        \n",
    "        "
   ]
  },
  {
   "cell_type": "code",
   "execution_count": null,
   "metadata": {},
   "outputs": [],
   "source": []
  }
 ],
 "metadata": {
  "kernelspec": {
   "display_name": "Python 3",
   "language": "python",
   "name": "python3"
  },
  "language_info": {
   "codemirror_mode": {
    "name": "ipython",
    "version": 3
   },
   "file_extension": ".py",
   "mimetype": "text/x-python",
   "name": "python",
   "nbconvert_exporter": "python",
   "pygments_lexer": "ipython3",
   "version": "3.7.4"
  }
 },
 "nbformat": 4,
 "nbformat_minor": 2
}
