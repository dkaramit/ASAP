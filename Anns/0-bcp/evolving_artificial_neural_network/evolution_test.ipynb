{
 "cells": [
  {
   "cell_type": "markdown",
   "metadata": {},
   "source": [
    "This notebook is used to show how the evolution classes (individual and population) and brain, can be used. I'll use this notebook as I am refining the code, and implementing mutation as well as proper population control. "
   ]
  },
  {
   "cell_type": "markdown",
   "metadata": {},
   "source": [
    "Lets ussume I would like to solve the equation $ a + b = x$ (keep in mind that there are infinite solutions to this), with  x the input for the neural network. \n",
    "This is eqivalent to minimizing $ | a + b - x  | $, so we can use a genetic algorithm to solve it."
   ]
  },
  {
   "cell_type": "code",
   "execution_count": 1,
   "metadata": {},
   "outputs": [],
   "source": [
    "import numpy as np\n",
    "\n",
    "\n",
    "from brains import *\n",
    "from evolution import *"
   ]
  },
  {
   "cell_type": "code",
   "execution_count": 2,
   "metadata": {},
   "outputs": [],
   "source": [
    "def score(a,b,x):\n",
    "    \n",
    "    return np.abs(a+b-x)"
   ]
  },
  {
   "cell_type": "code",
   "execution_count": 3,
   "metadata": {},
   "outputs": [
    {
     "ename": "SyntaxError",
     "evalue": "Missing parentheses in call to 'print'. Did you mean print('generation: ', _generation+1, ' best: ',P.ranking[0])? (<ipython-input-3-f5439e8999ba>, line 49)",
     "output_type": "error",
     "traceback": [
      "\u001b[0;36m  File \u001b[0;32m\"<ipython-input-3-f5439e8999ba>\"\u001b[0;36m, line \u001b[0;32m49\u001b[0m\n\u001b[0;31m    print 'generation: ', _generation+1, ' best: ',P.ranking[0]\u001b[0m\n\u001b[0m                       ^\u001b[0m\n\u001b[0;31mSyntaxError\u001b[0m\u001b[0;31m:\u001b[0m Missing parentheses in call to 'print'. Did you mean print('generation: ', _generation+1, ' best: ',P.ranking[0])?\n"
     ]
    }
   ],
   "source": [
    "runs=100#number of generations\n",
    "_N=50#population size\n",
    "\n",
    "\n",
    "#initialize a network\n",
    "#lets take as an input x and return two outputs a,b\n",
    "ann=[brains(_inputs=1,_outputs=2,_layers=1,_hidden_nodes=[2]) for i in range(_N)]\n",
    "for _n in range(_N):\n",
    "    ann[_n].init_biases()\n",
    "    ann[_n].init_weights()\n",
    "    \n",
    "    \n",
    "    \n",
    "#initialize the individuals\n",
    "individuals=[individual(_brain=ind,_fitness_score=0) for ind in ann ]\n",
    "#initialize population\n",
    "P=population(_individuals=individuals,_size=_N,_survival_rate=5,_reproduction_rate=20)\n",
    "\n",
    "#I don't need them anymore\n",
    "del ann \n",
    "del individuals\n",
    "\n",
    "\n",
    "x=0 #set x\n",
    "for _generation in range(runs):\n",
    "    scores=[]\n",
    "    #-------------------------------Run every individual-------------------------------#\n",
    "    for _n in range(_N):\n",
    "        \n",
    "\n",
    "        P.individuals[_n].brain.read_input([x])\n",
    "        P.individuals[_n].brain.feed_forward()\n",
    "\n",
    "        \n",
    "        a,b=(P.individuals[_n].brain.signals[-1]) \n",
    "        \n",
    "        \n",
    "        _s=score(a,b,x)\n",
    "        scores.append(_s)        \n",
    "        P.individuals[_n].update_fitness_score(_s)#the score is the fitness score for the individual\n",
    "\n",
    "        #rank all individuals    \n",
    "    P.rank(_max=False)\n",
    "    #create the next generation\n",
    "    P.new_generation()\n",
    "    \n",
    "    \n",
    "    #print some results\n",
    "    print ('generation: ', _generation+1, ' best: ',P.ranking[0])\n"
   ]
  },
  {
   "cell_type": "code",
   "execution_count": 112,
   "metadata": {},
   "outputs": [],
   "source": [
    "ann=[brains(_inputs=1,_outputs=2,_layers=1,_hidden_nodes=[2]) for i in range(_N)]\n",
    "for _n in range(_N):\n",
    "    ann[_n].init_biases()\n",
    "    ann[_n].init_weights()\n",
    "    \n",
    "    \n",
    "    \n",
    "#initialize the individuals\n",
    "individuals=[individual(_brain=ind,_fitness_score=0) for ind in ann ]\n",
    "#initialize population\n",
    "P=population(_individuals=individuals,_size=_N,_survival_rate=5,_reproduction_rate=20)\n",
    "\n",
    "#I don't need them anymore\n",
    "del ann \n",
    "del individuals"
   ]
  },
  {
   "cell_type": "code",
   "execution_count": 115,
   "metadata": {},
   "outputs": [],
   "source": [
    "P.individuals[0].offspring(P.individuals[3])"
   ]
  },
  {
   "cell_type": "code",
   "execution_count": 116,
   "metadata": {},
   "outputs": [
    {
     "data": {
      "text/plain": [
       "[[0],\n",
       " [-0.3348156480893948, 0.9340639809020324],\n",
       " [-0.9691798858522174, -0.24581848860106859]]"
      ]
     },
     "execution_count": 116,
     "metadata": {},
     "output_type": "execute_result"
    }
   ],
   "source": [
    "P.individuals[0].brain.biases"
   ]
  },
  {
   "cell_type": "code",
   "execution_count": 117,
   "metadata": {},
   "outputs": [
    {
     "data": {
      "text/plain": [
       "[[0],\n",
       " [-0.3348156480893948, 0.9340639809020324],\n",
       " [-0.88461769951054, -0.3372071111485031]]"
      ]
     },
     "execution_count": 117,
     "metadata": {},
     "output_type": "execute_result"
    }
   ],
   "source": [
    "P.individuals[3].brain.biases"
   ]
  },
  {
   "cell_type": "code",
   "execution_count": null,
   "metadata": {},
   "outputs": [],
   "source": []
  }
 ],
 "metadata": {
  "kernelspec": {
   "display_name": "Python 3",
   "language": "python",
   "name": "python3"
  },
  "language_info": {
   "codemirror_mode": {
    "name": "ipython",
    "version": 3
   },
   "file_extension": ".py",
   "mimetype": "text/x-python",
   "name": "python",
   "nbconvert_exporter": "python",
   "pygments_lexer": "ipython3",
   "version": "3.6.6"
  }
 },
 "nbformat": 4,
 "nbformat_minor": 2
}
