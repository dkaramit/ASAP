{
 "cells": [
  {
   "cell_type": "code",
   "execution_count": 1,
   "metadata": {},
   "outputs": [],
   "source": [
    "import numpy as np\n",
    "from brains import brains"
   ]
  },
  {
   "cell_type": "markdown",
   "metadata": {},
   "source": [
    "# Mathematical definitions \n",
    "\n",
    "<span style=\"color:red\">in progress..</span>."
   ]
  },
  {
   "cell_type": "markdown",
   "metadata": {},
   "source": [
    "##  ```brains``` is a class for simple feed-forward neural networks.\n",
    "\n",
    "example:\n",
    "```python\n",
    "    def sigmoid(x):\n",
    "        return 1/(1+np.exp(-x))\n",
    "    \n",
    "    ann=brains(2,1,3,[3,2,3], sigmoid, lambda x: x )\n",
    "```\n",
    "\n",
    "This defines a neural network (the constructor also initiates the biases and weights with random numbers in [-1,1]) that takes 2 inputs and returns an output, using 3 hidden layers. \n",
    "The first hidden layer has 3 nodes, the second 2, and the third 3. The activation function for the hidden layers is the sigmoid function (defined above), and the activation function for the output layer is the linear function.\n",
    "\n",
    "\n",
    "Given an input (e.g. [1,2]), we can get the signals (output from each node) by running:\n",
    "```python\n",
    "ann.read_input([1,2]) #get the input\n",
    "ann.feed_forward()    #run feed-forward\n",
    "\n",
    "print(ann.signals)    #print the signals\n",
    "```\n",
    "\n",
    "\n",
    "---\n",
    "```ann.weights``` returns a list of the form \n",
    "```python\n",
    "[\n",
    "    [\n",
    "        [x,x,x],\n",
    "        [x,x,x]\n",
    "    ],\n",
    "    [\n",
    "        [x,x],\n",
    "        [x,x],\n",
    "        [x,x]\n",
    "    ],\n",
    "    [\n",
    "        [x,x,x],\n",
    "        [x,x,x]\n",
    "    ],\n",
    "    [\n",
    "        [x],[x],[x]\n",
    "    ]\n",
    "]\n",
    "```\n",
    "\n",
    "\n",
    "```ann.biases``` returns a list of the form \n",
    "```python\n",
    "[\n",
    "    [x,x],\n",
    "    [x,x,x],\n",
    "    [x,x],\n",
    "    [x,x,x],\n",
    "    [x]\n",
    "]\n",
    "```\n",
    "\n",
    "\n",
    "\n",
    "\n",
    "---\n",
    "\n",
    "The value of weight $w^{l}_{ij}$   is updated using\n",
    "\n",
    "```python\n",
    "    brains.update_weight(l,i,j,value)\n",
    "```\n",
    "\n",
    "The value of bias $b^{l}_{i}$   is updated using\n",
    "\n",
    "```python\n",
    "    brains.update_bias(l,i,value)\n",
    "```\n",
    "\n",
    "---\n",
    "\n",
    "\n",
    "\n"
   ]
  },
  {
   "cell_type": "markdown",
   "metadata": {},
   "source": [
    "# Example"
   ]
  },
  {
   "cell_type": "code",
   "execution_count": 2,
   "metadata": {},
   "outputs": [],
   "source": [
    "def sigmoid(x):\n",
    "    return 1/(1+np.exp(-x))"
   ]
  },
  {
   "cell_type": "code",
   "execution_count": 3,
   "metadata": {},
   "outputs": [],
   "source": [
    "ann=brains(2,1,3,[3,2,3], sigmoid, np.sin )"
   ]
  },
  {
   "cell_type": "code",
   "execution_count": 4,
   "metadata": {},
   "outputs": [],
   "source": [
    "ann.read_input([0,1])"
   ]
  },
  {
   "cell_type": "code",
   "execution_count": 5,
   "metadata": {},
   "outputs": [],
   "source": [
    "ann.feed_forward()"
   ]
  },
  {
   "cell_type": "code",
   "execution_count": 7,
   "metadata": {},
   "outputs": [
    {
     "name": "stdout",
     "output_type": "stream",
     "text": [
      "[[0, 1], [0.28699669581087583, 0.16700883955292342, 0.4556343761663475], [0.6654806567353226, 0.5116399372980976], [0.6682579651813187, 0.5112020356516401, 0.46111641413048293], [-0.08591908983836029]]\n"
     ]
    }
   ],
   "source": [
    "print(ann.signals)"
   ]
  },
  {
   "cell_type": "code",
   "execution_count": null,
   "metadata": {},
   "outputs": [],
   "source": []
  }
 ],
 "metadata": {
  "kernelspec": {
   "display_name": "Python 3",
   "language": "python",
   "name": "python3"
  },
  "language_info": {
   "codemirror_mode": {
    "name": "ipython",
    "version": 3
   },
   "file_extension": ".py",
   "mimetype": "text/x-python",
   "name": "python",
   "nbconvert_exporter": "python",
   "pygments_lexer": "ipython3",
   "version": "3.7.6"
  }
 },
 "nbformat": 4,
 "nbformat_minor": 4
}
