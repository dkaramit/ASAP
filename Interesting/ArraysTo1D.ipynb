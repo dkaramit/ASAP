{
 "cells": [
  {
   "cell_type": "markdown",
   "metadata": {},
   "source": [
    "This notebook shows how to represent a $2D$ array, where each line has different number of columns, as an $1D$ array.\n",
    "\n",
    "The idea is that you have a list that holds the number of columns, so you can just count.\n",
    "\n",
    "The rule is simply\n",
    "$$\n",
    "(i,j) \\to \\displaystyle \\sum_{i=0}^{i-1} n_i + j \\;,\n",
    "$$\n",
    "\n",
    "where $n_i$ the number of columns in the $i^{\\rm th}$ line."
   ]
  },
  {
   "cell_type": "markdown",
   "metadata": {},
   "source": [
    "We can generalize it to $ND$ easily. The rule becomes\n",
    "$$\n",
    "(k,\\cdots,l,i,j) \\to \\displaystyle \\sum_{k=0}^{k-1} \\cdots \\sum_{l=0}^{l-1} \\sum_{i=0}^{i-1} n_{k,\\cdots,l,i} + j \\;.\n",
    "$$\n",
    "\n",
    "\n",
    "However, you still need to have other multidimensional arrays to store the corresponind $n$ (or do it recursively...)."
   ]
  },
  {
   "cell_type": "markdown",
   "metadata": {},
   "source": [
    "## Check:"
   ]
  },
  {
   "cell_type": "code",
   "execution_count": 1,
   "metadata": {},
   "outputs": [],
   "source": [
    "import numpy as np"
   ]
  },
  {
   "cell_type": "code",
   "execution_count": 2,
   "metadata": {},
   "outputs": [],
   "source": [
    "n_cols=[3,6,33,2,1,5,1] #list of columns\n",
    "n_rows=len(n_cols)"
   ]
  },
  {
   "cell_type": "code",
   "execution_count": 3,
   "metadata": {},
   "outputs": [],
   "source": [
    "#check for random elements\n",
    "rand_el=np.random.rand( np.sum( n_cols ) )*10-5"
   ]
  },
  {
   "cell_type": "code",
   "execution_count": 4,
   "metadata": {},
   "outputs": [],
   "source": [
    "# The 2D representation\n",
    "arr_2D=[]\n",
    "rand_it=iter(rand_el)#you'll need this to put elements in the 2D array\n",
    "for i in range(n_rows):\n",
    "    _tmp=[]\n",
    "    for j in range(n_cols[i]):\n",
    "        _tmp.append(next(rand_it))\n",
    "    arr_2D.append(_tmp)\n",
    "        \n",
    "\n",
    "\n",
    "\n",
    "\n",
    "\n",
    "# The 1D representation\n",
    "_arr_1D=[]\n",
    "_s=0\n",
    "for i in range(n_rows):\n",
    "    for j in range(n_cols[i]):\n",
    "        _arr_1D.append(rand_el[_s])\n",
    "        _s+=1\n",
    "\n",
    "# use this function to call the elements\n",
    "def arr_1D(i,j):\n",
    "    if i==0:\n",
    "        return _arr_1D[j]\n",
    "    else:\n",
    "        return _arr_1D[ sum(n_cols[:i]) + j ]\n"
   ]
  },
  {
   "cell_type": "code",
   "execution_count": 5,
   "metadata": {},
   "outputs": [
    {
     "data": {
      "text/plain": [
       "(0.0, 0.0)"
      ]
     },
     "execution_count": 5,
     "metadata": {},
     "output_type": "execute_result"
    }
   ],
   "source": [
    "res=[]\n",
    "for i in range(n_rows):\n",
    "    for j in range(n_cols[i]):\n",
    "        res.append( arr_2D[i][j] - arr_1D(i,j))\n",
    "\n",
    "        \n",
    "#The difference between the two is zero!\n",
    "max(res),min(res)"
   ]
  },
  {
   "cell_type": "code",
   "execution_count": null,
   "metadata": {},
   "outputs": [],
   "source": []
  }
 ],
 "metadata": {
  "kernelspec": {
   "display_name": "Python 3",
   "language": "python",
   "name": "python3"
  },
  "language_info": {
   "codemirror_mode": {
    "name": "ipython",
    "version": 3
   },
   "file_extension": ".py",
   "mimetype": "text/x-python",
   "name": "python",
   "nbconvert_exporter": "python",
   "pygments_lexer": "ipython3",
   "version": "3.8.3"
  }
 },
 "nbformat": 4,
 "nbformat_minor": 4
}
