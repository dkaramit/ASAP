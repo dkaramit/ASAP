{
 "cells": [
  {
   "cell_type": "markdown",
   "metadata": {},
   "source": [
    "### Define orthogonal matrix in the exponential form: \n",
    "$$R^{ij}=\\exp\\Big[\\frac{1}{2} \\sum\\limits_{m,n}\\theta_{m,n} J_{m,n}^{i,j} \\Big]$$\n",
    "with: \n",
    "$$J_{m,n}^{ij}=  \\delta_{mi}\\delta_{nj}-\\delta_{mj} \\delta_{ni}, \\, \\theta_{m,n} =-\\theta_{n,m} $$\n",
    "\n",
    "\n",
    "\n",
    "*There seems to be no way to do the exponential analytically for arbitrary dimension*"
   ]
  },
  {
   "cell_type": "markdown",
   "metadata": {},
   "source": [
    "###### In general, you can just use \n",
    "$$ R^{ij}= e^{J^{i,j}} $$\n",
    "\n",
    "with $J^{i,j}=-J^{j,i}$"
   ]
  },
  {
   "cell_type": "code",
   "execution_count": 1,
   "metadata": {
    "collapsed": true
   },
   "outputs": [],
   "source": [
    "import sympy as sp\n",
    "import numpy as np"
   ]
  },
  {
   "cell_type": "code",
   "execution_count": 2,
   "metadata": {
    "collapsed": true
   },
   "outputs": [],
   "source": [
    "sp.init_printing()"
   ]
  },
  {
   "cell_type": "code",
   "execution_count": 3,
   "metadata": {
    "collapsed": true
   },
   "outputs": [],
   "source": [
    "def KronD(i,j):\n",
    "    if i==j:\n",
    "        return 1\n",
    "    else:\n",
    "        return 0"
   ]
  },
  {
   "cell_type": "code",
   "execution_count": 4,
   "metadata": {
    "collapsed": true
   },
   "outputs": [],
   "source": [
    "dim=3\n",
    "theta=sp.IndexedBase('theta', shape=(dim,dim))\n",
    "(m,n,i,j)=sp.symbols('m n j i', cls=sp.Idx)\n",
    "\n",
    "theta=sp.Matrix(dim,dim, lambda i,j : theta[i+1,j+1] if i<j else 0 if i==j else -theta[j+1,i+1])"
   ]
  },
  {
   "cell_type": "code",
   "execution_count": null,
   "metadata": {
    "collapsed": true
   },
   "outputs": [],
   "source": [
    "tmpJ=[]\n",
    "for m in range(1,1+dim):\n",
    "    for n in range(1,1+dim):\n",
    "        for i in range(1,1+dim):\n",
    "            for j in range(1,1+dim):\n",
    "                #tmpJ.append(J[m,n,i,j])\n",
    "                tmpJ.append(KronD(m,i)*KronD(n,j)-KronD(m,j)*KronD(n,i) )\n",
    "                \n",
    "                \n",
    "J=sp.Array(tmpJ,shape=(dim,dim,dim,dim))                "
   ]
  },
  {
   "cell_type": "code",
   "execution_count": null,
   "metadata": {
    "collapsed": true
   },
   "outputs": [],
   "source": [
    "m,n=sp.symbols('m n ')\n",
    "\n",
    "#ExpSum=sp.Matrix(dim,dim, lambda i,j: sp.Sum( sp.Symbol('theta'+str([m,n])) *sp.Symbol('J'+str([m,n,i,j])),(m, 0,dim-1),(n, 0,dim-1)))\n",
    "ExpSum=sp.Matrix(dim,dim, lambda i,j: sp.summation(theta[m,n]/2*J[m,n,i,j],(m, 0,dim-1),(n, 0,dim-1)))\n",
    "\n",
    "\n",
    "R=sp.exp(sp.Matrix(dim,dim, lambda i,j: sp.summation(theta[m,n]/2*J[m,n,i,j],(m, 0,dim-1),(n, 0,dim-1))))"
   ]
  },
  {
   "cell_type": "code",
   "execution_count": null,
   "metadata": {
    "collapsed": true
   },
   "outputs": [],
   "source": [
    "sp.simplify(R.rewrite(sp.sin))"
   ]
  },
  {
   "cell_type": "code",
   "execution_count": null,
   "metadata": {
    "collapsed": true
   },
   "outputs": [],
   "source": [
    "sp.simplify(np.dot(np.array(sp.transpose(R.rewrite(sp.cos))),np.array(R.rewrite(sp.cos))))"
   ]
  },
  {
   "cell_type": "code",
   "execution_count": 81,
   "metadata": {},
   "outputs": [],
   "source": []
  },
  {
   "cell_type": "code",
   "execution_count": 108,
   "metadata": {
    "scrolled": true
   },
   "outputs": [
    {
     "data": {
      "image/png": "[encoded data removed]",
      "text/latex": [
       "$$\\left[\\begin{matrix}1.0 & -5.55111512312578 \\cdot 10^{-17}\\\\-5.55111512312578 \\cdot 10^{-17} & 1.0\\end{matrix}\\right]$$"
      ],
      "text/plain": [
       "⎡         1.0           -5.55111512312578e-17⎤\n",
       "⎢                                            ⎥\n",
       "⎣-5.55111512312578e-17           1.0         ⎦"
      ]
     },
     "execution_count": 108,
     "metadata": {},
     "output_type": "execute_result"
    }
   ],
   "source": [
    "#Check numerically\n",
    "\n",
    "dim=2\n",
    "(m,n,i,j)=sp.symbols('m n j i', cls=sp.Idx)\n",
    "\n",
    "theta=[[ np.random.rand() if i<j else 0   for j in range(dim)] for i in range(dim)]\n",
    "theta=[[ theta[i][j] if i<j else -theta[j][i]    for j in range(dim)] for i in range(dim)]\n",
    "\n",
    "tmpJ=[]\n",
    "for m in range(1,1+dim):\n",
    "    for n in range(1,1+dim):\n",
    "        for i in range(1,1+dim):\n",
    "            for j in range(1,1+dim):\n",
    "                tmpJ.append(KronD(m,i)*KronD(n,j)-KronD(m,j)*KronD(n,i) )\n",
    "                \n",
    "                \n",
    "J=np.reshape(tmpJ,(dim,dim,dim,dim)) \n",
    "\n",
    "\n",
    "ExpSum=[]\n",
    "for i in range(dim):\n",
    "    for j in range(dim):\n",
    "        stmp=0\n",
    "        for m in range(dim):\n",
    "            for n in range(dim):     \n",
    "                stmp+=theta[m][n]*J[m,n,i,j]/2.\n",
    "        ExpSum.append(stmp)\n",
    "ExpSum=np.reshape(ExpSum,(dim,dim))\n",
    "\n",
    "\n",
    "\n",
    "\n",
    "import scipy as scp\n",
    "R=scp.linalg.expm(ExpSum)\n",
    "\n",
    "Test=np.dot(R,np.transpose(R))\n",
    "\n",
    "sp.Matrix(dim,dim , lambda i,j:Test[i][j] )"
   ]
  },
  {
   "cell_type": "code",
   "execution_count": null,
   "metadata": {},
   "outputs": [],
   "source": []
  },
  {
   "cell_type": "code",
   "execution_count": null,
   "metadata": {},
   "outputs": [],
   "source": []
  },
  {
   "cell_type": "code",
   "execution_count": null,
   "metadata": {
    "collapsed": true
   },
   "outputs": [],
   "source": []
  }
 ],
 "metadata": {
  "kernelspec": {
   "display_name": "Python 2",
   "language": "python",
   "name": "python2"
  },
  "language_info": {
   "codemirror_mode": {
    "name": "ipython",
    "version": 2
   },
   "file_extension": ".py",
   "mimetype": "text/x-python",
   "name": "python",
   "nbconvert_exporter": "python",
   "pygments_lexer": "ipython2",
   "version": "2.7.15"
  }
 },
 "nbformat": 4,
 "nbformat_minor": 2
}
