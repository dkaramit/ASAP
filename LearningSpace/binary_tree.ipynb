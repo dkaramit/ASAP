{
 "cells": [
  {
   "cell_type": "code",
   "execution_count": 1,
   "id": "bac6fd4a",
   "metadata": {},
   "outputs": [],
   "source": [
    "import numpy as np"
   ]
  },
  {
   "cell_type": "code",
   "execution_count": 2,
   "id": "97c76de4",
   "metadata": {},
   "outputs": [],
   "source": [
    "class Btree:\n",
    "    def __init__(self,value,parent=None,key=0):\n",
    "        self.value=value\n",
    "        self.L=None\n",
    "        self.R=None\n",
    "        self.parent=parent\n",
    "        self.key=key\n",
    "        \n",
    "    def insert(self,value):\n",
    "        \n",
    "        if value<self.value:\n",
    "            if self.L is None:\n",
    "                self.L=Btree(value,self,self.key+1)\n",
    "            else:\n",
    "                self.L.insert(value)\n",
    "        \n",
    "        if value>self.value:\n",
    "            if self.R is None:\n",
    "                self.R=Btree(value,self,self.key+1)\n",
    "            else:\n",
    "                self.R.insert(value)\n",
    "    \n",
    "    def min(self):\n",
    "        if not self.L is None:\n",
    "            return self.L.min()\n",
    "        else:\n",
    "            return self.value\n",
    "    \n",
    "    def max(self):\n",
    "        if not self.R is None:\n",
    "            return self.R.max()\n",
    "        else:\n",
    "            return self.value\n",
    "\n",
    "        \n",
    "    def min_max(self):\n",
    "        data=[]\n",
    "        \n",
    "        if not (self.L is None):\n",
    "            for _ in self.L.min_max():\n",
    "                data.append(_)\n",
    "        \n",
    "        data.append(self.value)\n",
    "        \n",
    "        if not (self.R is None):\n",
    "            for _ in self.R.min_max():\n",
    "                data.append(_)\n",
    "    \n",
    "        return data\n",
    "            \n",
    "    def max_min(self):\n",
    "        data=[]\n",
    "        \n",
    "        if not (self.R is None):\n",
    "            for _ in self.R.max_min():\n",
    "                data.append(_)\n",
    "\n",
    "        data.append(self.value)\n",
    "        \n",
    "        \n",
    "        if not (self.L is None):\n",
    "            for _ in self.L.max_min():\n",
    "                data.append(_)\n",
    "\n",
    "    \n",
    "        return data\n",
    "            \n",
    "        \n",
    "        \n",
    "    def Print(self):\n",
    "        \n",
    "        if not (self.L is None):\n",
    "            self.L.Print()\n",
    "        \n",
    "        print(self.value)\n",
    "        \n",
    "        if not (self.R is None):\n",
    "            self.R.Print()"
   ]
  },
  {
   "cell_type": "code",
   "execution_count": 3,
   "id": "b02ec1e1",
   "metadata": {},
   "outputs": [],
   "source": [
    "sample=[np.random.rand() for _ in range(10)]"
   ]
  },
  {
   "cell_type": "code",
   "execution_count": 4,
   "id": "741c48e0",
   "metadata": {},
   "outputs": [],
   "source": [
    "BT=Btree(sample[0])"
   ]
  },
  {
   "cell_type": "code",
   "execution_count": 5,
   "id": "357d285c",
   "metadata": {},
   "outputs": [],
   "source": [
    "for i in sample[1:]:\n",
    "    BT.insert(i)"
   ]
  },
  {
   "cell_type": "code",
   "execution_count": 6,
   "id": "b168d364",
   "metadata": {},
   "outputs": [
    {
     "data": {
      "text/plain": [
       "(0.0, 0.0)"
      ]
     },
     "execution_count": 6,
     "metadata": {},
     "output_type": "execute_result"
    }
   ],
   "source": [
    "BT.min()-min(sample),BT.max()-max(sample)"
   ]
  },
  {
   "cell_type": "code",
   "execution_count": 7,
   "id": "8e7fef01",
   "metadata": {},
   "outputs": [
    {
     "data": {
      "text/plain": [
       "{0.0}"
      ]
     },
     "execution_count": 7,
     "metadata": {},
     "output_type": "execute_result"
    }
   ],
   "source": [
    "set(np.array(BT.min_max())-np.sort(sample))"
   ]
  },
  {
   "cell_type": "code",
   "execution_count": 8,
   "id": "10998fb8",
   "metadata": {},
   "outputs": [
    {
     "data": {
      "text/plain": [
       "{0.0}"
      ]
     },
     "execution_count": 8,
     "metadata": {},
     "output_type": "execute_result"
    }
   ],
   "source": [
    "set(np.array(BT.max_min())-np.sort(sample)[::-1])"
   ]
  },
  {
   "cell_type": "code",
   "execution_count": null,
   "id": "c9db097f",
   "metadata": {},
   "outputs": [],
   "source": []
  }
 ],
 "metadata": {
  "kernelspec": {
   "display_name": "Python 3 (ipykernel)",
   "language": "python",
   "name": "python3"
  },
  "language_info": {
   "codemirror_mode": {
    "name": "ipython",
    "version": 3
   },
   "file_extension": ".py",
   "mimetype": "text/x-python",
   "name": "python",
   "nbconvert_exporter": "python",
   "pygments_lexer": "ipython3",
   "version": "3.9.12"
  }
 },
 "nbformat": 4,
 "nbformat_minor": 5
}
