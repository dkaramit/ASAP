{
 "cells": [
  {
   "cell_type": "code",
   "execution_count": 1,
   "metadata": {},
   "outputs": [],
   "source": [
    "import numpy as np\n",
    "\n",
    "\n",
    "import numba as nb\n",
    "from numba import jit"
   ]
  },
  {
   "cell_type": "code",
   "execution_count": 2,
   "metadata": {},
   "outputs": [],
   "source": [
    "@jit(nopython=True)\n",
    "def func(x):\n",
    "    return np.exp(-(1000.*(x[0]-0.8)**2+500.*(x[1]-0.2)**2 +1800.*(x[2]-0.3)**2))  \n"
   ]
  },
  {
   "cell_type": "code",
   "execution_count": 3,
   "metadata": {},
   "outputs": [],
   "source": [
    "#this is the compiled Metropolis\n",
    "#The only thing that needed to be changed is the function min (jit complained).\n",
    "\n",
    "@jit(nopython=True)\n",
    "def compiled_Metropolis(Target,xin,N=10000,eps=0.01,burn_in=0,thinning=10,_fixed_interval=True):\n",
    "    '''\n",
    "    burn_in (integer): do not store the first 'burn_in' accepted steps (the first few steps could be in a region with low probability).\n",
    "    thinning (integer): store 1 every 'thinning' accepted steps (makes the sample more independent).\n",
    "    _fixed_interval (boolean): if True keps x in [0,1].\n",
    "    '''\n",
    "    Dim=len(xin)\n",
    "    accepted=[]\n",
    "\n",
    "    _n_b=0\n",
    "    _n_t=0\n",
    "\n",
    "    x=xin[:]\n",
    "    \n",
    "    func_x=Target(x)\n",
    "\n",
    "    for i in np.arange(N):\n",
    "        \n",
    "        can=[]\n",
    "        for d in range(Dim):\n",
    "            while True:\n",
    "                #step=(np.random.rand()*2-1)*eps[d]\n",
    "                step=np.random.normal(0,eps[d])\n",
    "                \n",
    "                if _fixed_interval:\n",
    "                    if x[d]+step<1 and x[d]+step>0:#check if x stays inside the cube [0,1]^dim (I want the point in here for integration)\n",
    "                        break\n",
    "                else:\n",
    "                    break\n",
    "\n",
    "            can.append(x[d] + step) #candidate\n",
    "\n",
    "        func_can=Target(can)\n",
    "\n",
    "\n",
    "        if func_x<1e-50:\n",
    "            a=1\n",
    "        else:    \n",
    "            if 1<func_can/func_x:\n",
    "                a=i\n",
    "            else:    \n",
    "                a = func_can/func_x #acceptance probability for symmetric prior\n",
    "        \n",
    "        u = np.random.rand()\n",
    "\n",
    "        if u < a :\n",
    "            x = can[:]\n",
    "            _n_b+=1\n",
    "            _n_t+=1\n",
    "            if _n_b>=burn_in and _n_t>thinning:\n",
    "\n",
    "                _n_t=0\n",
    "                accepted.append(x)#accept sample\n",
    "\n",
    "\n",
    "        func_x=Target(can)\n",
    "    return np.array(accepted)"
   ]
  },
  {
   "cell_type": "code",
   "execution_count": 4,
   "metadata": {},
   "outputs": [],
   "source": [
    "#this is the pure python Metropolis\n",
    "def Metropolis(Target,xin,N=10000,eps=0.01,burn_in=0,thinning=10,_fixed_interval=True):\n",
    "    '''\n",
    "    burn_in (integer): do not store the first 'burn_in' accepted steps (the first few steps could be in a region with low probability).\n",
    "    thinning (integer): store 1 every 'thinning' accepted steps (makes the sample more independent).\n",
    "    _fixed_interval (boolean): if True keps x in [0,1].\n",
    "    '''\n",
    "    Dim=len(xin)\n",
    "    accepted=[]\n",
    "\n",
    "    _n_b=0\n",
    "    _n_t=0\n",
    "\n",
    "    x=xin[:]\n",
    "    \n",
    "    func_x=Target(x)\n",
    "\n",
    "    for i in np.arange(N):\n",
    "        \n",
    "        can=[]\n",
    "        for d in range(Dim):\n",
    "            while True:\n",
    "                #step=(np.random.rand()*2-1)*eps[d]\n",
    "                step=np.random.normal(0,eps[d])\n",
    "                \n",
    "                if _fixed_interval:\n",
    "                    if x[d]+step<1 and x[d]+step>0:#check if x stays inside the cube [0,1]^dim (I want the point in here for integration)\n",
    "                        break\n",
    "                else:\n",
    "                    break\n",
    "\n",
    "            can.append(x[d] + step) #candidate\n",
    "\n",
    "        func_can=Target(can)\n",
    "\n",
    "\n",
    "        if func_x<1e-50:\n",
    "            a=1\n",
    "        else:    \n",
    "            if 1<func_can/func_x:\n",
    "                a=i\n",
    "            else:    \n",
    "                a = func_can/func_x #acceptance probability for symmetric prior\n",
    "        \n",
    "        u = np.random.rand()\n",
    "\n",
    "        if u < a :\n",
    "            x = can[:]\n",
    "            _n_b+=1\n",
    "            _n_t+=1\n",
    "            if _n_b>=burn_in and _n_t>thinning:\n",
    "\n",
    "                _n_t=0\n",
    "                accepted.append(x)#accept sample\n",
    "\n",
    "\n",
    "        func_x=Target(can)\n",
    "    return np.array(accepted)"
   ]
  },
  {
   "cell_type": "code",
   "execution_count": 8,
   "metadata": {},
   "outputs": [
    {
     "name": "stdout",
     "output_type": "stream",
     "text": [
      "11 s ± 42.9 ms per loop (mean ± std. dev. of 2 runs, 2 loops each)\n"
     ]
    }
   ],
   "source": [
    "%%timeit -n 2 -r 2\n",
    "_=Metropolis(Target=func,xin=[0.5,0.1,0.7],N=200000,eps=[0.01,0.04,0.02],burn_in=50000,thinning=80)"
   ]
  },
  {
   "cell_type": "code",
   "execution_count": 11,
   "metadata": {},
   "outputs": [
    {
     "name": "stdout",
     "output_type": "stream",
     "text": [
      "104 ms ± 3.02 ms per loop (mean ± std. dev. of 2 runs, 2 loops each)\n"
     ]
    }
   ],
   "source": [
    "%%timeit -n 2 -r 2\n",
    "_=compiled_Metropolis(Target=func,xin=[0.5,0.1,0.7],N=200000,eps=[0.01,0.04,0.02],burn_in=50000,thinning=80)"
   ]
  },
  {
   "cell_type": "code",
   "execution_count": null,
   "metadata": {},
   "outputs": [],
   "source": []
  },
  {
   "cell_type": "code",
   "execution_count": null,
   "metadata": {},
   "outputs": [],
   "source": []
  },
  {
   "cell_type": "code",
   "execution_count": null,
   "metadata": {},
   "outputs": [],
   "source": []
  }
 ],
 "metadata": {
  "kernelspec": {
   "display_name": "Python 3",
   "language": "python",
   "name": "python3"
  },
  "language_info": {
   "codemirror_mode": {
    "name": "ipython",
    "version": 3
   },
   "file_extension": ".py",
   "mimetype": "text/x-python",
   "name": "python",
   "nbconvert_exporter": "python",
   "pygments_lexer": "ipython3",
   "version": "3.6.6"
  }
 },
 "nbformat": 4,
 "nbformat_minor": 2
}
