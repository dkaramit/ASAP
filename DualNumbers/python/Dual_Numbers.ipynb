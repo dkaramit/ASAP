{
 "cells": [
  {
   "cell_type": "markdown",
   "metadata": {},
   "source": [
    "# Dual numbers\n",
    "\n",
    "The basic idea is that you can generalize a function $f(x)$ to $F(x)$ with\n",
    "$$\n",
    "F(x) = f(x) + \\dfrac{df(x)}{dx} \\ \\epsilon\\;,\n",
    "$$\n",
    "where you define $\\epsilon^2 = 0$. A number $\\mathbb{d} = x + y \\ \\epsilon $ is called dual.\n",
    "\n",
    "\n",
    "What you achive is a way to automatically get *exact* derivatives, since the algebra of dual numbers is similar to how we use infinitetimals. That is, if we have two generalized functions $F$ and $G$, we have\n",
    "\n",
    "$$\n",
    "F(x)+G(x) = f(x) + g(x) + \\left(\\dfrac{df(x)}{dx} +\\dfrac{dg(x)}{dx}\\right) \\ \\epsilon \\\\\n",
    "F(x) \\ G(x) = f(x) \\ g(x) + \\left( g(x)\\dfrac{df(x)}{dx} + f(x)\\dfrac{dg(x)}{dx}\\right) \\ \\epsilon \\;.\n",
    "$$\n",
    "\n",
    "\n",
    "Therefore, we can see that the rules of differentialtion are the same. \n",
    "\n",
    "We can represent $\\epsilon$ as a matrix to make the definition a bit more clear. All we need is a simple matrix with $\\epsilon^2 = 0$. So we can use\n",
    "$$\n",
    "\\epsilon =\\left( \\begin{matrix}0 & 1 \\\\ 0 & 0 \\end{matrix} \\right) \\;,\n",
    "$$\n",
    "which wesults in the representation of dual number as  $\\mathbb{d} =  \\left( \\begin{matrix} x & y \\\\ 0 & x \\end{matrix} \\right)$.\n",
    "\n",
    "Interestingly, we can also define hyper-dual numbers in order to take higher order derivatives and in more dimensions.\n",
    "\n",
    "\n"
   ]
  },
  {
   "cell_type": "markdown",
   "metadata": {},
   "source": [
    "For example, the generalised function of $f(x) = x^2$ is\n",
    "$$\n",
    "F(x)=x^2 +  2x \\ \\epsilon \\;.\n",
    "$$\n",
    "\n",
    "We can see that $F^2(x) = x^4 + 4x^2 \\ \\epsilon^2 + 2 \\times 2x \\times x^2 \\ \\epsilon =  x^4 +4x^3 \\ \\epsilon \\;.  $"
   ]
  },
  {
   "cell_type": "code",
   "execution_count": 1,
   "metadata": {},
   "outputs": [],
   "source": [
    "import numpy as np"
   ]
  },
  {
   "cell_type": "markdown",
   "metadata": {},
   "source": [
    "## The class\n",
    "As usual, define a class for dual numbers.\n",
    "\n",
    "This is simple enough, since the only thing we need is to overload a few functions. "
   ]
  },
  {
   "cell_type": "code",
   "execution_count": 2,
   "metadata": {},
   "outputs": [],
   "source": [
    "class DualNumber:\n",
    "    def __init__(self, real, dual):\n",
    "        '''\n",
    "        real: the real part\n",
    "        dual: the dual part\n",
    "        '''\n",
    "        self.real = real\n",
    "        self.dual = dual\n",
    "\n",
    "    def __neg__(self):\n",
    "        return  DualNumber(-self.real,-self.dual)\n",
    "\n",
    "    def __add__(self,d):\n",
    "        \n",
    "        if type(d) is DualNumber:\n",
    "            return DualNumber(self.real+d.real,self.dual+d.dual)\n",
    "        else:\n",
    "            return DualNumber(self.real+d,self.dual)\n",
    "                \n",
    "    def __sub__(self,d):\n",
    "        if type(d) is DualNumber:\n",
    "            return DualNumber(self.real-d.real,self.dual-d.dual)\n",
    "        else:\n",
    "            return DualNumber(self.real-d,self.dual)\n",
    "    \n",
    "    def __mul__(self,d):\n",
    "        if type(d) is DualNumber:\n",
    "            return DualNumber(self.real*d.real,d.real*self.dual+self.real*d.dual)\n",
    "        else:\n",
    "            return DualNumber(self.real*d,self.dual)\n",
    "        \n",
    "    def __truediv__(self,d):\n",
    "        if type(d) is DualNumber:\n",
    "            return DualNumber(self.real/d.real,(self.dual-self.real*d.dual/d.real)/d.real)\n",
    "        else:\n",
    "            return DualNumber(self.real/d,self.dual)\n",
    "   \n",
    "    def __pow__(self,n):\n",
    "        return DualNumber(self.real**n,n*self.real**(n-1)*self.dual)\n",
    "\n",
    "        \n",
    "    def __repr__(self):\n",
    "        return \"({0},{1})\".format(self.real,self.dual)\n",
    "    \n",
    "    \n",
    "#define a few basic functions\n",
    "def sin(d):\n",
    "    if type(d) is DualNumber:\n",
    "        return DualNumber(np.sin(d.real),np.cos(d.real)*d.dual)\n",
    "    else:\n",
    "        return DualNumber(np.sin(d),np.cos(d))\n",
    "\n",
    "def cos(d):\n",
    "    if type(d) is DualNumber:\n",
    "        return DualNumber(np.cos(d.real),-np.sin(d.real)*d.dual)\n",
    "    else:\n",
    "        return DualNumber(np.cos(d),-np.sin(d))\n",
    "\n",
    "def exp(d):\n",
    "    if type(d) is DualNumber:\n",
    "        return DualNumber(np.exp(d.real),np.exp(d.real)*d.dual)\n",
    "    else:\n",
    "        return DualNumber(np.exp(d.real),np.exp(d.real))\n",
    "\n",
    "def log(d):\n",
    "    if type(d) is DualNumber:\n",
    "        return DualNumber(np.log(d.real),d.real**-1*d.dual)\n",
    "    else:\n",
    "        return DualNumber(np.log(d.real),d.real**-1)\n",
    "\n",
    "def pow(d,n):\n",
    "    if type(d) is DualNumber and (not type(n) is DualNumber):\n",
    "        return d**n\n",
    "    \n",
    "    if (not type(d) is DualNumber) and (type(n) is DualNumber):\n",
    "        return  DualNumber(d**n.real,d**n.real*(np.log(d) * n.dual)  )\n",
    "\n",
    "    if (type(d) is DualNumber) and (type(n) is DualNumber):\n",
    "        return  DualNumber(d.real**n.real,d.real**n.real*(n.real/d.real * d.dual + np.log(d.real) * n.dual)  )"
   ]
  },
  {
   "cell_type": "code",
   "execution_count": 3,
   "metadata": {},
   "outputs": [],
   "source": [
    "const=DualNumber(0,0)#this is a constant (since its derivative is 0)\n",
    "x=DualNumber(0,1)#this is a variable (the derivative wrt to this is 1)\n",
    "\n",
    "x.real=5#set the variabe to some value other than 0\n"
   ]
  },
  {
   "cell_type": "code",
   "execution_count": 4,
   "metadata": {},
   "outputs": [
    {
     "data": {
      "text/plain": [
       "(0.7737188340989135,-5166.109204017645)"
      ]
     },
     "execution_count": 4,
     "metadata": {},
     "output_type": "execute_result"
    }
   ],
   "source": [
    "sin(pow(x,x))"
   ]
  },
  {
   "cell_type": "code",
   "execution_count": 5,
   "metadata": {},
   "outputs": [
    {
     "data": {
      "text/plain": [
       "((25,10), (25,10))"
      ]
     },
     "execution_count": 5,
     "metadata": {},
     "output_type": "execute_result"
    }
   ],
   "source": [
    "x*x,pow(x,2)"
   ]
  },
  {
   "cell_type": "code",
   "execution_count": null,
   "metadata": {},
   "outputs": [],
   "source": []
  }
 ],
 "metadata": {
  "kernelspec": {
   "display_name": "Python 3",
   "language": "python",
   "name": "python3"
  },
  "language_info": {
   "codemirror_mode": {
    "name": "ipython",
    "version": 3
   },
   "file_extension": ".py",
   "mimetype": "text/x-python",
   "name": "python",
   "nbconvert_exporter": "python",
   "pygments_lexer": "ipython3",
   "version": "3.7.7"
  }
 },
 "nbformat": 4,
 "nbformat_minor": 4
}
