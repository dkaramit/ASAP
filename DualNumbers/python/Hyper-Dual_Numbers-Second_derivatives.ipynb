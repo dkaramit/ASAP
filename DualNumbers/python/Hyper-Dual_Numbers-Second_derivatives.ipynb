{
 "cells": [
  {
   "cell_type": "markdown",
   "metadata": {},
   "source": [
    "# HyperDual Numbers (for second derivatives)\n",
    "\n",
    "Same reasoning as before can be applied to higer derivatives. That is,\n",
    "$$\n",
    "f(\\vec x + \\vec \\epsilon) \\approx f(\\vec x) + \\sum_{i=0}^{n-1} \\ \\epsilon_i \\ \\partial_i f(\\vec x) +\n",
    " \\dfrac{1}{2}\\sum_{i=0}^{n-1}\\sum_{j=0}^{n-1} \\ \\epsilon_i \\epsilon_j  \\ \\partial_i\\partial_j f(\\vec x) \\,\n",
    "$$\n",
    "with\n",
    "$$\n",
    "\\partial_i\\partial_j f(\\vec x) = \\dfrac{\\partial^2 f(\\vec x + \\vec \\epsilon)}{ \\partial \\epsilon_i\\partial \\epsilon_j} \\Big|_{\\vec\\epsilon=0} \\;.\n",
    "$$\n"
   ]
  },
  {
   "cell_type": "code",
   "execution_count": 1,
   "metadata": {},
   "outputs": [],
   "source": [
    "import numpy as np"
   ]
  },
  {
   "cell_type": "code",
   "execution_count": 2,
   "metadata": {},
   "outputs": [],
   "source": [
    "class HyperDualNumber:\n",
    "    def __init__(self, real, dual):\n",
    "        '''\n",
    "        real: the real part\n",
    "        first derivatives: first derivatives\n",
    "        second derivatives: second derivatives (1-dimensional form, since the number of columns and rows is fixed)\n",
    "        '''\n",
    "        self.real = real\n",
    "        \n",
    "        self.derivative_1 = derivative_1[:]\n",
    "        \n",
    "        self.derivative_2 = derivative_2[:]\n",
    "        \n",
    "        self.NVar=len(derivative_1)\n",
    "\n"
   ]
  },
  {
   "cell_type": "code",
   "execution_count": null,
   "metadata": {},
   "outputs": [],
   "source": []
  }
 ],
 "metadata": {
  "kernelspec": {
   "display_name": "Python 3",
   "language": "python",
   "name": "python3"
  },
  "language_info": {
   "codemirror_mode": {
    "name": "ipython",
    "version": 3
   },
   "file_extension": ".py",
   "mimetype": "text/x-python",
   "name": "python",
   "nbconvert_exporter": "python",
   "pygments_lexer": "ipython3",
   "version": "3.7.7"
  }
 },
 "nbformat": 4,
 "nbformat_minor": 4
}
