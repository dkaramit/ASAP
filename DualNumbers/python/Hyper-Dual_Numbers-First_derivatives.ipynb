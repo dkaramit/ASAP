{
 "cells": [
  {
   "cell_type": "markdown",
   "metadata": {},
   "source": [
    "# HyperDual Numbers (first derivatives)\n",
    "\n",
    "The idea of Dual numbers can be applied to multiple ($n$) number of variables, through the Taylor expansion\n",
    "$$\n",
    "f(\\vec x + \\vec \\epsilon) \\approx f(\\vec x) + \\sum_{i=0}^{n-1} \\ \\epsilon_i \\ \\partial_i f(\\vec x) \\; ,\n",
    "$$\n",
    "which also allows us to define the derivative as \n",
    "$$\n",
    "\\partial_i f(\\vec x) = \\dfrac{\\partial f(\\vec x + \\vec \\epsilon)}{ \\partial \\epsilon_i} \\Big|_{\\vec\\epsilon=0} \\;.\n",
    "$$"
   ]
  },
  {
   "cell_type": "code",
   "execution_count": 1,
   "metadata": {},
   "outputs": [],
   "source": [
    "import numpy as np"
   ]
  },
  {
   "cell_type": "code",
   "execution_count": 2,
   "metadata": {},
   "outputs": [],
   "source": [
    "class HyperDualNumber:\n",
    "    def __init__(self, real, dual):\n",
    "        '''\n",
    "        real: the real part\n",
    "        dual: the dual parts\n",
    "        '''\n",
    "        self.real = real\n",
    "        self.dual = dual[:]\n",
    "        self.NVar=len(dual)\n",
    "\n",
    "    def __neg__(self):\n",
    "        return  HyperDualNumber(-self.real,[-_ for _ in self.dual])\n",
    "\n",
    "    def __add__(self,d):\n",
    "        \n",
    "        if type(d) is HyperDualNumber:\n",
    "            return HyperDualNumber(self.real+d.real,[self.dual[i]+d.dual[i] for i in range(self.NVar)] )\n",
    "        else:\n",
    "            return HyperDualNumber(self.real+d,self.dual[:])\n",
    "                \n",
    "    def __sub__(self,d):\n",
    "        if type(d) is HyperDualNumber:\n",
    "            return HyperDualNumber(self.real-d.real,[self.dual[i]-d.dual[i] for i in range(self.NVar)])\n",
    "        else:\n",
    "            return HyperDualNumber(self.real-d,self.dual[:])\n",
    "    \n",
    "    def __mul__(self,d):\n",
    "        if type(d) is HyperDualNumber:\n",
    "            return HyperDualNumber(self.real*d.real,[d.real*self.dual[i]+self.real*d.dual[i] for i in range(self.NVar)])\n",
    "        else:\n",
    "            return HyperDualNumber(self.real*d,self.dual[:])\n",
    "        \n",
    "    def __truediv__(self,d):\n",
    "        if type(d) is HyperDualNumber:\n",
    "            return HyperDualNumber(self.real/d.real, [(self.dual[i]-self.real*d.dual[i]/d.real)/d.real for i in range(self.NVar)] )\n",
    "        else:\n",
    "            return HyperDualNumber(self.real/d,self.dual[i])\n",
    "   \n",
    "        \n",
    "    def __repr__(self):\n",
    "        return \"({0},{1})\".format(self.real,self.dual)\n",
    "    \n",
    "    def __pow__(self,n):\n",
    "        return HyperDualNumber(self.real**n, [n*self.real**(n-1)*self.dual[i] for i in range(self.NVar)]  )\n",
    "\n",
    "    \n",
    "    def getDer(self,i):\n",
    "        return self.dual[i]\n"
   ]
  },
  {
   "cell_type": "code",
   "execution_count": 3,
   "metadata": {},
   "outputs": [],
   "source": [
    "#define a few basic functions\n",
    "def sin(d):\n",
    "    if type(d) is HyperDualNumber:\n",
    "        return HyperDualNumber(np.sin(d.real),[np.cos(d.real)*d.dual[i] for i in range(d.NVar)])\n",
    "    else:\n",
    "        return HyperDualNumber(np.sin(d),np.cos(d))\n",
    "\n",
    "def cos(d):\n",
    "    if type(d) is HyperDualNumber:\n",
    "        return HyperDualNumber(np.cos(d.real),[-np.sin(d.real)*d.dual[i] for i in range(d.NVar)])\n",
    "    else:\n",
    "        return HyperDualNumber(np.cos(d),-np.sin(d))\n",
    "\n",
    "def exp(d):\n",
    "    if type(d) is HyperDualNumber:\n",
    "        return HyperDualNumber(np.exp(d.real),[np.exp(d.real)*d.dual[i] for i in range(d.NVar)])\n",
    "    else:\n",
    "        return HyperDualNumber(np.exp(d.real),np.exp(d.real))\n",
    "\n",
    "def log(d):\n",
    "    if type(d) is HyperDualNumber:\n",
    "        return HyperDualNumber(np.log(d.real),[d.real**-1*d.dual[i] for i in range(d.NVar)])\n",
    "    else:\n",
    "        return HyperDualNumber(np.log(d.real),d.real**-1)\n",
    "\n",
    "def pow(d,n):\n",
    "    if type(d) is HyperDualNumber and (not type(n) is HyperDualNumber):\n",
    "        return d**n\n",
    "    \n",
    "    if (not type(d) is HyperDualNumber) and (type(n) is HyperDualNumber):\n",
    "        return  HyperDualNumber(d**n.real,[d**n.real*(np.log(d) * n.dual[i]) for i in range(n.NVar)]  )\n",
    "\n",
    "    if (type(d) is HyperDualNumber) and (type(n) is HyperDualNumber):\n",
    "        return  HyperDualNumber(d.real**n.real,[d.real**n.real*(n.real/d.real * d.dual[i] + np.log(d.real) * n.dual[i]) for i in range(n.NVar)]  )\n"
   ]
  },
  {
   "cell_type": "code",
   "execution_count": null,
   "metadata": {},
   "outputs": [],
   "source": []
  },
  {
   "cell_type": "code",
   "execution_count": 4,
   "metadata": {},
   "outputs": [],
   "source": [
    "const=HyperDualNumber(1,[0,0])#a constant\n",
    "\n",
    "d1=HyperDualNumber(2,[1,0])#variable x_0\n",
    "d2=HyperDualNumber(5,[0,1])#variable x_1"
   ]
  },
  {
   "cell_type": "code",
   "execution_count": 5,
   "metadata": {},
   "outputs": [
    {
     "name": "stdout",
     "output_type": "stream",
     "text": [
      "(7,[1, 1]) (10,[5, 2]) (0.4,[0.2, -0.08])\n"
     ]
    }
   ],
   "source": [
    "print(d1+d2,d1*d2,d1/d2)"
   ]
  },
  {
   "cell_type": "code",
   "execution_count": 6,
   "metadata": {},
   "outputs": [
    {
     "name": "stdout",
     "output_type": "stream",
     "text": [
      "(4,[4, 0]) (4,[4, 0])\n"
     ]
    }
   ],
   "source": [
    "print(d1**2,d1*d1)"
   ]
  },
  {
   "cell_type": "code",
   "execution_count": 7,
   "metadata": {},
   "outputs": [
    {
     "data": {
      "text/plain": [
       "(32,[80.0, 22.18070977791825])"
      ]
     },
     "execution_count": 7,
     "metadata": {},
     "output_type": "execute_result"
    }
   ],
   "source": [
    "pow(d1,d2)"
   ]
  },
  {
   "cell_type": "code",
   "execution_count": 8,
   "metadata": {},
   "outputs": [
    {
     "data": {
      "text/plain": [
       "((4.546487134128409,[-2.080734182735712, 0.9092974268256817]),\n",
       " (0.7290719093657502,[25.286720832541537, 5.057344166508307]))"
      ]
     },
     "execution_count": 8,
     "metadata": {},
     "output_type": "execute_result"
    }
   ],
   "source": [
    "sin(d1)*d2,cos(d2*exp(d1))"
   ]
  },
  {
   "cell_type": "code",
   "execution_count": 9,
   "metadata": {},
   "outputs": [
    {
     "data": {
      "text/plain": [
       "((12.38905609893065,[7.38905609893065, 1.0]),\n",
       " (1.9459101490553132,[0.14285714285714285, 0.14285714285714285]))"
      ]
     },
     "execution_count": 9,
     "metadata": {},
     "output_type": "execute_result"
    }
   ],
   "source": [
    "exp(d1)+d2,log(d1+d2)"
   ]
  },
  {
   "cell_type": "code",
   "execution_count": null,
   "metadata": {},
   "outputs": [],
   "source": []
  },
  {
   "cell_type": "code",
   "execution_count": null,
   "metadata": {},
   "outputs": [],
   "source": []
  },
  {
   "cell_type": "code",
   "execution_count": null,
   "metadata": {},
   "outputs": [],
   "source": []
  },
  {
   "cell_type": "code",
   "execution_count": null,
   "metadata": {},
   "outputs": [],
   "source": []
  }
 ],
 "metadata": {
  "kernelspec": {
   "display_name": "Python 3",
   "language": "python",
   "name": "python3"
  },
  "language_info": {
   "codemirror_mode": {
    "name": "ipython",
    "version": 3
   },
   "file_extension": ".py",
   "mimetype": "text/x-python",
   "name": "python",
   "nbconvert_exporter": "python",
   "pygments_lexer": "ipython3",
   "version": "3.8.3"
  }
 },
 "nbformat": 4,
 "nbformat_minor": 4
}
