{
 "cells": [
  {
   "cell_type": "markdown",
   "metadata": {},
   "source": [
    "I took this code from some notes  online:\n",
    "<a href=\"https://www.cs.bgu.ac.il/~mma172/wiki.files/LectureNotes.pdf\"> Link</a>\n",
    "\n",
    "I've modified it a bit because it was not working.\n"
   ]
  },
  {
   "cell_type": "code",
   "execution_count": 1,
   "metadata": {},
   "outputs": [
    {
     "data": {
      "text/plain": [
       "Abs (generic function with 1 method)"
      ]
     },
     "execution_count": 1,
     "metadata": {},
     "output_type": "execute_result"
    }
   ],
   "source": [
    "function Abs(a)\n",
    "    return broadcast(abs, a)\n",
    "end"
   ]
  },
  {
   "cell_type": "code",
   "execution_count": 2,
   "metadata": {},
   "outputs": [
    {
     "data": {
      "text/plain": [
       "eye (generic function with 1 method)"
      ]
     },
     "execution_count": 2,
     "metadata": {},
     "output_type": "execute_result"
    }
   ],
   "source": [
    "function eye(N)\n",
    "    L=zeros(N,N)\n",
    "        \n",
    "    for i in 1:N\n",
    "        L[i,i]=1.\n",
    "           end\n",
    "    return L\n",
    "end"
   ]
  },
  {
   "cell_type": "code",
   "execution_count": 3,
   "metadata": {},
   "outputs": [
    {
     "data": {
      "text/plain": [
       "LUp (generic function with 1 method)"
      ]
     },
     "execution_count": 3,
     "metadata": {},
     "output_type": "execute_result"
    }
   ],
   "source": [
    "function LUp(A)#(A::Union{Array{Complex128},Array{Float64}})\n",
    "    n = size(A,1); \n",
    "    # Assuming A is nxn.\n",
    "    U = copy(A);\n",
    "    L = eye(n);\n",
    "    p = collect(1:n);\n",
    "    for k=2:n\n",
    "        for i=k:n\n",
    "        #println(U)\n",
    "        #println(k,U[(k-1):n,k-1])\n",
    "        pivot = argmax(Abs(U[(k-1):n,k-1])) + k - 2;\n",
    "        #println(pivot)\n",
    "        #break\n",
    "        \n",
    "            if U[pivot,k-1] == 0.0\n",
    "            break;\n",
    "            end\n",
    "            if pivot != k-1\n",
    "                \n",
    "            # Permute rows k-1 and pivot in U\n",
    "            t = p[pivot];\n",
    "            p[pivot] = p[k-1];\n",
    "            p[k-1] = t;\n",
    "                \n",
    "            t = U[k-1,(k-1):n];\n",
    "            #println(U)\n",
    "            U[k-1,(k-1):n] = U[pivot,(k-1):n];\n",
    "            #println(U)\n",
    "            U[pivot,(k-1):n] = t;\n",
    "            #println(U)\n",
    "            #println(\"===================\")\n",
    "            t = L[k-1,1:(k-2)];\n",
    "            #println(i)\n",
    "            #println(L)\n",
    "            L[k-1,1:(k-2)] = L[pivot,1:(k-2)];\n",
    "            #println(L)\n",
    "            L[pivot,1:(k-2)] = t;\n",
    "            #println(L)\n",
    "            #println(\"===================\")\n",
    "            end\n",
    "            L[i,k-1] = U[i,k-1]/U[k-1,k-1];\n",
    "            #println(L)\n",
    "            for j=k-1:n\n",
    "                U[i,j] = U[i,j] - L[i,k-1]*U[k-1,j];\n",
    "            end\n",
    "#             println(U)\n",
    "            end\n",
    "        end\n",
    "    return L,U,p\n",
    "end"
   ]
  },
  {
   "cell_type": "code",
   "execution_count": 4,
   "metadata": {},
   "outputs": [],
   "source": [
    "M=[[1. , 3.,  5.,6],\n",
    "  [2.  ,0. , 7.,6],\n",
    "  [1.  ,1. , 0.,6],\n",
    " [10.  ,0. , 0.,6],\n",
    "]\n",
    "A=eye(4)\n",
    "\n",
    "for i in 1:4\n",
    "    for j in 1:4\n",
    "        A[i,j]=M[i][j]\n",
    "    end\n",
    "end"
   ]
  },
  {
   "cell_type": "code",
   "execution_count": 5,
   "metadata": {},
   "outputs": [
    {
     "data": {
      "text/plain": [
       "4×4 Array{Float64,2}:\n",
       "  1.0  3.0  5.0  6.0\n",
       "  2.0  0.0  7.0  6.0\n",
       "  1.0  1.0  0.0  6.0\n",
       " 10.0  0.0  0.0  6.0"
      ]
     },
     "execution_count": 5,
     "metadata": {},
     "output_type": "execute_result"
    }
   ],
   "source": [
    "A"
   ]
  },
  {
   "cell_type": "code",
   "execution_count": 6,
   "metadata": {},
   "outputs": [
    {
     "data": {
      "text/plain": [
       "([1.0 0.0 0.0 0.0; 0.1 1.0 0.0 0.0; 0.2 0.0 1.0 0.0; 0.1 0.3333333333333333 -0.23809523809523808 1.0], [10.0 0.0 0.0 6.0; 0.0 3.0 5.0 5.4; 0.0 0.0 7.0 4.8; 0.0 0.0 0.0 4.742857142857144], [4, 1, 2, 3])"
      ]
     },
     "execution_count": 6,
     "metadata": {},
     "output_type": "execute_result"
    }
   ],
   "source": [
    "L,U,p=LUp(A)"
   ]
  },
  {
   "cell_type": "code",
   "execution_count": 7,
   "metadata": {},
   "outputs": [
    {
     "data": {
      "text/plain": [
       "4×4 Array{Float64,2}:\n",
       " 10.0  0.0   0.0          6.0\n",
       "  1.0  3.0   5.0          6.0\n",
       "  2.0  0.0   7.0          6.0\n",
       "  1.0  1.0  -5.55112e-17  6.0"
      ]
     },
     "execution_count": 7,
     "metadata": {},
     "output_type": "execute_result"
    }
   ],
   "source": [
    "L*U"
   ]
  },
  {
   "cell_type": "code",
   "execution_count": null,
   "metadata": {},
   "outputs": [],
   "source": []
  }
 ],
 "metadata": {
  "kernelspec": {
   "display_name": "Julia 1.2.0",
   "language": "julia",
   "name": "julia-1.2"
  },
  "language_info": {
   "file_extension": ".jl",
   "mimetype": "application/julia",
   "name": "julia",
   "version": "1.2.0"
  }
 },
 "nbformat": 4,
 "nbformat_minor": 2
}
