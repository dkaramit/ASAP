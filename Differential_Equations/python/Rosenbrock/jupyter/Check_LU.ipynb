{
 "cells": [
  {
   "cell_type": "markdown",
   "metadata": {},
   "source": [
    "### This notebook checks the LU functions. \n",
    "Everything seems to work (sometimes better than numpy)."
   ]
  },
  {
   "cell_type": "code",
   "execution_count": 1,
   "metadata": {},
   "outputs": [],
   "source": [
    "from LU_dec.LUP import LUP\n",
    "from LU_dec.Solve_LU import Solve_LU\n",
    "\n",
    "import numpy as np"
   ]
  },
  {
   "cell_type": "code",
   "execution_count": 2,
   "metadata": {},
   "outputs": [],
   "source": [
    "# Given L,U,P you can get the inverse as\n",
    "\n",
    "def Inverse_LU(L,U,P,N):\n",
    "    e= [0  for i in range(N)]\n",
    "    inv_M=[[0  for i in range(N)] for j in range(N)]\n",
    "\n",
    "    for i in range(N):\n",
    "        e[i]=1\n",
    "\n",
    "        tmp=Solve_LU(L,U,P,e,N)\n",
    "        for j,_m in enumerate(tmp):\n",
    "            inv_M[j][i] =_m\n",
    "\n",
    "        e[i]=0\n",
    "    return inv_M"
   ]
  },
  {
   "cell_type": "code",
   "execution_count": null,
   "metadata": {},
   "outputs": [],
   "source": []
  },
  {
   "cell_type": "code",
   "execution_count": 3,
   "metadata": {},
   "outputs": [
    {
     "name": "stdout",
     "output_type": "stream",
     "text": [
      "3.637978807091713e-11\n"
     ]
    }
   ],
   "source": [
    "#check if Inverse_LU works\n",
    "\n",
    "\n",
    "\n",
    "if True:\n",
    "    NT=5000#NT tests\n",
    "    N=10#N*N matrices\n",
    "    testSol=[0 for i in range(NT)]\n",
    "\n",
    "    unit=[ [ 1 if i==j else 0  for i in range(N)] for j in range(N) ]\n",
    "\n",
    "    for i in range(NT):\n",
    "\n",
    "        M=np.random.rand(N,N)*4-2\n",
    "\n",
    "        \n",
    "        L,U,P=LUP(M,N)    \n",
    "        inv_M=Inverse_LU(L,U,P,N)\n",
    "\n",
    "\n",
    "        \n",
    "        testSol[i]=np.max(np.dot(inv_M,M)-unit)\n",
    "        \n",
    "        \n",
    "    print(np.max(testSol))\n",
    "    "
   ]
  },
  {
   "cell_type": "code",
   "execution_count": null,
   "metadata": {},
   "outputs": [],
   "source": []
  },
  {
   "cell_type": "code",
   "execution_count": 4,
   "metadata": {},
   "outputs": [
    {
     "name": "stdout",
     "output_type": "stream",
     "text": [
      "8.019718222840311e-11\n"
     ]
    }
   ],
   "source": [
    "#check if Solve_LU works\n",
    "\n",
    "\n",
    "if True:\n",
    "    \n",
    "    NT=5000#NT tests\n",
    "    N=12#N*N matrices\n",
    "    testSol=[0 for i in range(NT)]\n",
    "\n",
    "    for i in range(NT):\n",
    "        \n",
    "        #M=np.random.randint(-3,3,size=[N,N])\n",
    "        b=np.random.rand(N)*13.-6.5\n",
    "        M=np.random.rand(N,N)*4-2\n",
    "        L,U,P=LUP(M,N)\n",
    "        x=Solve_LU(L,U,P,b,N)\n",
    "        testSol[i]=np.array( np.dot(M,x))-np.array(b)\n",
    "        \n",
    "        \n",
    "        \n",
    "    print(np.max(testSol))"
   ]
  },
  {
   "cell_type": "code",
   "execution_count": null,
   "metadata": {},
   "outputs": [],
   "source": []
  },
  {
   "cell_type": "code",
   "execution_count": 5,
   "metadata": {},
   "outputs": [
    {
     "name": "stdout",
     "output_type": "stream",
     "text": [
      "1.0798473226714123e-10\n"
     ]
    }
   ],
   "source": [
    "#check if Solve_LU works\n",
    "\n",
    "\n",
    "if True:\n",
    "    \n",
    "    NT=5000#NT tests\n",
    "    N=12#N*N matrices\n",
    "    testSol=[0 for i in range(NT)]\n",
    "\n",
    "    for i in range(NT):\n",
    "        \n",
    "        #M=np.random.randint(-3,3,size=[N,N])\n",
    "        b=np.random.rand(N)*13.-6.5\n",
    "        M=np.random.rand(N,N)*4-2\n",
    "        L,U,P=LUP(M,N)\n",
    "        x=Solve_LU(L,U,P,b,N)\n",
    "        testSol[i]=np.array( np.dot(M,x))-np.array(b)\n",
    "        \n",
    "        \n",
    "        \n",
    "    print(np.max(testSol))"
   ]
  },
  {
   "cell_type": "code",
   "execution_count": 6,
   "metadata": {},
   "outputs": [],
   "source": [
    "from scipy.linalg import lu_factor,lu_solve,lu\n",
    "from LU_dec.misc.misc import apply_permutations_matrix"
   ]
  },
  {
   "cell_type": "code",
   "execution_count": 7,
   "metadata": {},
   "outputs": [
    {
     "name": "stdout",
     "output_type": "stream",
     "text": [
      "4.1300296516055823e-14 7.527312106958561e-14 2.6645352591003757e-15\n"
     ]
    }
   ],
   "source": [
    "#check LUP against numpy.\n",
    "#in test I will have the maximum difference between my L,U with what np.lu returns, \n",
    "#and the difference between my L*U-P*M. So, test should be an array with small numbers!\n",
    "\n",
    "\n",
    "#even when I get difference with numpy it is not important, because the decomposition is still correct \n",
    "#(no nan or inf)!!!!\n",
    "\n",
    "#change to True to run tests\n",
    "if True:\n",
    "\n",
    "    NT=5000#NT tests\n",
    "    N=12#N*N matrices\n",
    "    testL=[0 for i in range(NT)]\n",
    "    testU=[0 for i in range(NT)]\n",
    "    testM=[0 for i in range(NT)]\n",
    "    \n",
    "    \n",
    "    for i in range(NT):\n",
    "        \n",
    "        #M=np.random.randint(-3,3,size=[N,N])\n",
    "        M=np.random.rand(N,N)*4-2\n",
    "        L,U,P=LUP(M,N)\n",
    "        Ps,Ls,Us=lu(M)\n",
    "\n",
    "        testU[i]=np.max(np.array(U)-Us)\n",
    "        testL[i]=np.max(np.array(L)-Ls)\n",
    "        \n",
    "        testM[i]=np.max(np.dot(L,U)- np.array(apply_permutations_matrix(M,P,N) ))\n",
    "        if testL[i] > 1e-5:\n",
    "            #print(np.array(L))\n",
    "            #print(Ls)\n",
    "            #print([U[_t][_t] for _t in range(N)])\n",
    "            print(testM[i])\n",
    "            pass\n",
    "            \n",
    "\n",
    "    print(np.max(testU) , np.max(testL) , np.max(testM))"
   ]
  },
  {
   "cell_type": "code",
   "execution_count": null,
   "metadata": {},
   "outputs": [],
   "source": []
  }
 ],
 "metadata": {
  "kernelspec": {
   "display_name": "Python 3",
   "language": "python",
   "name": "python3"
  },
  "language_info": {
   "codemirror_mode": {
    "name": "ipython",
    "version": 3
   },
   "file_extension": ".py",
   "mimetype": "text/x-python",
   "name": "python",
   "nbconvert_exporter": "python",
   "pygments_lexer": "ipython3",
   "version": "3.7.4"
  }
 },
 "nbformat": 4,
 "nbformat_minor": 2
}
