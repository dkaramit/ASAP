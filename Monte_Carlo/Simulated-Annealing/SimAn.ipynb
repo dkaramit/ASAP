{
 "cells": [
  {
   "cell_type": "markdown",
   "metadata": {},
   "source": [
    "Simulated annealing basically emulates how nature finds the minimum energy state of a system as temperature drops.\n",
    "\n",
    "We may use this algorithm to find the minimum (or the maximum) of a function stochastically. "
   ]
  },
  {
   "cell_type": "code",
   "execution_count": 1,
   "metadata": {},
   "outputs": [],
   "source": [
    "import numpy as np\n",
    "\n",
    "import matplotlib\n",
    "#matplotlib.use('WebAgg')\n",
    "#matplotlib.use('Qt4Cairo')\n",
    "#matplotlib.use('Qt5Cairo')\n",
    "matplotlib.use('nbAgg')\n",
    "import matplotlib.pyplot as plt"
   ]
  },
  {
   "cell_type": "code",
   "execution_count": 2,
   "metadata": {},
   "outputs": [],
   "source": [
    "class SimAn:\n",
    "    def __init__(self, func, dim , x0 ,  T0, k, IterationT, MinT, sigma,Convergence):\n",
    "        '''\n",
    "        func: the function to be minimized\n",
    "        dim: the number of arguments that func takes\n",
    "        x0: starting point\n",
    "        k: to be used for the temperature update\n",
    "        IterationT: number of iterations per temperature\n",
    "        MinT:  stop when the temperature becomes MinT\n",
    "        sigma: new neighbours are found between x+-sigma/2\n",
    "        Convergence: Stops when the acceptance probability drops below this\n",
    "        '''\n",
    "        \n",
    "        self.func=func\n",
    "        self.x=x0\n",
    "        self.T=T0\n",
    "        self.k=k\n",
    "        \n",
    "        self.IterationT=IterationT\n",
    "        self.MinT=MinT\n",
    "        self.sigma=sigma\n",
    "        self.Convergence=Convergence\n",
    "        \n",
    "        self.E=self.func(x0)\n",
    "        \n",
    "        self.xnew=self.x\n",
    "        \n",
    "        self.Acceptanced=0\n",
    "        self.TotalCheck=0\n",
    "        \n",
    "    def nextT(self):\n",
    "        '''Update the temperature'''\n",
    "#         self.T=self.T/(1+k*self.T)\n",
    "        self.T*=self.k\n",
    "        \n",
    "    def PickNeighbour(self):\n",
    "        '''Pick a neighbour'''\n",
    "#         self.xnew=self.x+np.random.rand(dim)*sigma-sigma/2\n",
    "        self.xnew=self.x+np.random.normal(sigma,size=dim)#the normal seems to work nicely. \n",
    "            \n",
    "    \n",
    "    def BoltzmannP(self,Enew):\n",
    "        '''Given a new value of the energy, return the Boltzmann factor'''\n",
    "        return np.exp(-(Enew-self.E)/self.T)\n",
    "    \n",
    "    def runT(self):\n",
    "        for _ in range(IterationT):\n",
    "            self.TotalCheck+=1\n",
    "\n",
    "            self.PickNeighbour()\n",
    "            Enew=self.func(self.xnew)\n",
    "            if Enew<self.E:\n",
    "                self.E=Enew\n",
    "                self.x=self.xnew\n",
    "                self.Acceptanced+=1\n",
    "            else:\n",
    "                if self.BoltzmannP(Enew) > np.random.rand() :\n",
    "                    self.E=Enew\n",
    "                    self.x=self.xnew\n",
    "                    self.Acceptanced+=1\n",
    "                \n",
    "    def run(self):\n",
    "        '''Iterate until the temperature reaches MinT'''\n",
    "        \n",
    "        while self.T>self.MinT:\n",
    "            self.runT()\n",
    "\n",
    "            if self.Acceptanced/self.TotalCheck<self.Convergence:\n",
    "                break\n",
    "            \n",
    "            self.nextT()\n",
    "\n",
    "        return self.x,self.func(self.x)\n",
    "\n",
    "                        "
   ]
  },
  {
   "cell_type": "code",
   "execution_count": 3,
   "metadata": {},
   "outputs": [],
   "source": [
    "def f(x):\n",
    "    '''the minumum is clearly f(2)=0'''\n",
    "    return (x[0]-3)**2+(x[1]-1)**2+(x[2]+50)**2 \n",
    "\n",
    "\n"
   ]
  },
  {
   "cell_type": "code",
   "execution_count": 4,
   "metadata": {},
   "outputs": [],
   "source": [
    "dim=3\n",
    "x0=[20,-10,0]\n",
    "T0=f(x0)*500# the temperature should be high enough to start in a nice hot position\n",
    "k=0.9\n",
    "IterationT=20\n",
    "MinT=1e-50\n",
    "sigma=1e-2\n",
    "Convergence=0.05\n",
    "\n",
    "Anneal=SimAn(f, dim , x0 ,  T0, k, IterationT, MinT,sigma,Convergence)"
   ]
  },
  {
   "cell_type": "code",
   "execution_count": 5,
   "metadata": {},
   "outputs": [
    {
     "name": "stdout",
     "output_type": "stream",
     "text": [
      "(array([  3.03904604,   1.03251601, -50.02792029]), 0.003361426381767623) \n",
      "\n",
      " 0.09979641693811075 9.389978217603024e-51\n"
     ]
    }
   ],
   "source": [
    "print(Anneal.run(),\n",
    "      '\\n\\n',\n",
    "      Anneal.Acceptanced/Anneal.TotalCheck, Anneal.T)"
   ]
  },
  {
   "cell_type": "code",
   "execution_count": null,
   "metadata": {},
   "outputs": [],
   "source": []
  },
  {
   "cell_type": "code",
   "execution_count": null,
   "metadata": {},
   "outputs": [],
   "source": []
  }
 ],
 "metadata": {
  "kernelspec": {
   "display_name": "Python 3",
   "language": "python",
   "name": "python3"
  },
  "language_info": {
   "codemirror_mode": {
    "name": "ipython",
    "version": 3
   },
   "file_extension": ".py",
   "mimetype": "text/x-python",
   "name": "python",
   "nbconvert_exporter": "python",
   "pygments_lexer": "ipython3",
   "version": "3.7.4"
  }
 },
 "nbformat": 4,
 "nbformat_minor": 2
}
