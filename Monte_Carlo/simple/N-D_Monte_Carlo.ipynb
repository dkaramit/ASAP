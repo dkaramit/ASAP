{
 "cells": [
  {
   "cell_type": "code",
   "execution_count": 1,
   "metadata": {},
   "outputs": [],
   "source": [
    "import numpy as np\n",
    "import matplotlib.pyplot as plt"
   ]
  },
  {
   "cell_type": "code",
   "execution_count": 42,
   "metadata": {},
   "outputs": [],
   "source": [
    "def func(x):\n",
    "    #return np.sin(-np.sum(x)*50.)\n",
    "    #return np.exp(-np.sum(x-0.5)**2./10)#the sum sums x's. I do this just to prove that I can use any number of dimensions.\n",
    "    #return ( np.exp(-x[0]**2)+np.sin(x[1]) )*np.tanh(np.sum(x[2:]))\n",
    "    return np.sum(x)#the integral from 0 to 1 is Ndim/2.\n",
    "    \n",
    "    \n",
    "#The actual Monte Carlo algorithm.    \n",
    "def MC(func,Ndim,Nt=1000):\n",
    "    s=[]\n",
    "    for i in range(Nt):\n",
    "        x=np.random.rand(Ndim)#get x for every dimension.\n",
    "        s.append(func(x))\n",
    "    return np.mean(s), np.var(s,ddof=1)/Nt\n"
   ]
  },
  {
   "cell_type": "code",
   "execution_count": null,
   "metadata": {},
   "outputs": [],
   "source": []
  },
  {
   "cell_type": "code",
   "execution_count": 56,
   "metadata": {},
   "outputs": [
    {
     "name": "stdout",
     "output_type": "stream",
     "text": [
      "i=0:\tintegral estimate 250.2720445567315 +/- 0.30987070873047\n",
      "i=50:\tintegral estimate 250.04174675013613 +/- 0.2951017278331071\n",
      "i=100:\tintegral estimate 250.1312993250474 +/- 0.2960933454569649\n",
      "i=150:\tintegral estimate 249.7184497053007 +/- 0.283298643241544\n",
      "i=200:\tintegral estimate 249.83681277539793 +/- 0.29822842784832865\n",
      "i=250:\tintegral estimate 250.46446598810212 +/- 0.277113696393004\n",
      "i=300:\tintegral estimate 250.3720410834621 +/- 0.27881019315608446\n",
      "i=350:\tintegral estimate 249.90883176663758 +/- 0.2900716591044872\n",
      "i=400:\tintegral estimate 249.98173776475875 +/- 0.28424790267134925\n",
      "i=450:\tintegral estimate 249.87661245565874 +/- 0.3000909032335925\n",
      "i=500:\tintegral estimate 250.4430888220982 +/- 0.28756044945066284\n",
      "i=550:\tintegral estimate 249.63050393572573 +/- 0.3061544691396704\n",
      "i=600:\tintegral estimate 249.99977722746627 +/- 0.2855992189451335\n",
      "i=650:\tintegral estimate 250.2791780344175 +/- 0.2847140347124905\n",
      "i=700:\tintegral estimate 250.16193137586063 +/- 0.2848293125219596\n",
      "i=750:\tintegral estimate 249.62320573109685 +/- 0.28399008688581884\n",
      "i=800:\tintegral estimate 250.16083357073472 +/- 0.28471423682145136\n",
      "i=850:\tintegral estimate 249.80637296439818 +/- 0.29538282643368885\n",
      "i=900:\tintegral estimate 250.11623967204488 +/- 0.2748548226324602\n",
      "i=950:\tintegral estimate 249.70562048173707 +/- 0.2912735432668785\n",
      "\n",
      "integral 249.98918855297367\n",
      "sigma 0.28867800898116047\n",
      "chi^2/dof 1.0760870291705829\n"
     ]
    }
   ],
   "source": [
    "Ndim=500#Number of dimensions (easy!!).\n",
    "\n",
    "N_tot=500\n",
    "N_batches=1000\n",
    "I=[]\n",
    "V=[]\n",
    "for i in np.arange(N_batches):\n",
    "    _I,_V=MC(func,Ndim,N_tot)\n",
    "    I.append(_I)\n",
    "    V.append(_V)\n",
    "    if np.mod(i,50)==0:\n",
    "        print 'i='+str(i)+':\\t', 'integral estimate', _I, '+/-', np.sqrt(_V) \n",
    "\n",
    "integral=np.mean(I)#You can also use the least squares estimator (see the scripts in Accept-Reject).\n",
    "sigma= np.sqrt(np.mean(V))#the variance of the estimator I is sigma^2= 1/N_batches sum_i var(I_i) (the mean var(I_i))\n",
    "chi=(I-np.mean(I))/np.sqrt(V)\n",
    "\n",
    "print \n",
    "print 'integral', integral\n",
    "print 'sigma', sigma\n",
    "print 'chi^2/dof',np.sum(chi**2)/(N_batches-1.)"
   ]
  },
  {
   "cell_type": "code",
   "execution_count": null,
   "metadata": {},
   "outputs": [],
   "source": []
  },
  {
   "cell_type": "code",
   "execution_count": null,
   "metadata": {},
   "outputs": [],
   "source": []
  },
  {
   "cell_type": "code",
   "execution_count": 57,
   "metadata": {},
   "outputs": [
    {
     "data": {
      "image/png": "[encoded data removed]",
      "text/plain": [
       "<Figure size 432x288 with 1 Axes>"
      ]
     },
     "metadata": {},
     "output_type": "display_data"
    }
   ],
   "source": [
    "def _gauss(x,mu,sigma):\n",
    "    return 1/(2*np.pi*sigma**2)**(1/2.)*np.exp(-(x-mu)**2/(2*sigma**2))\n",
    "gauss=np.vectorize(_gauss)\n",
    "\n",
    "\n",
    "\n",
    "'''\n",
    "This plot shows the implication of the CLT.\n",
    "As you can see, the histogram made by the results \n",
    "from the batches coincides with a gaussian with the estimated \n",
    "mean \n",
    "'''\n",
    "\n",
    "#plot a gaussian with mean=I and variance=sigma (the variance of I).\n",
    "x=np.arange(integral-3*sigma,integral+3*sigma,sigma/1000.) #plot +/- 3σ \n",
    "y=gauss(x,np.mean(I),sigma)\n",
    "plt.plot(x,y)\n",
    "\n",
    "\n",
    "#plot the histogram of a gauss sample of size N_batches with mean=I and variance=sigma (the variance of I) .\n",
    "#plt.hist( np.random.normal(integral, sigma , N_batches),color='black',density=True)\n",
    "\n",
    "plt.hist(I,alpha=0.5,color='r',density=True)\n",
    "\n",
    "plt.show()"
   ]
  },
  {
   "cell_type": "code",
   "execution_count": null,
   "metadata": {},
   "outputs": [],
   "source": []
  },
  {
   "cell_type": "code",
   "execution_count": null,
   "metadata": {},
   "outputs": [],
   "source": []
  },
  {
   "cell_type": "code",
   "execution_count": null,
   "metadata": {},
   "outputs": [],
   "source": []
  },
  {
   "cell_type": "code",
   "execution_count": null,
   "metadata": {},
   "outputs": [],
   "source": []
  },
  {
   "cell_type": "code",
   "execution_count": null,
   "metadata": {},
   "outputs": [],
   "source": []
  }
 ],
 "metadata": {
  "kernelspec": {
   "display_name": "Python 2",
   "language": "python",
   "name": "python2"
  },
  "language_info": {
   "codemirror_mode": {
    "name": "ipython",
    "version": 2
   },
   "file_extension": ".py",
   "mimetype": "text/x-python",
   "name": "python",
   "nbconvert_exporter": "python",
   "pygments_lexer": "ipython2",
   "version": "2.7.15"
  }
 },
 "nbformat": 4,
 "nbformat_minor": 2
}
