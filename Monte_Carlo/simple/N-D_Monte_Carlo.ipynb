{
 "cells": [
  {
   "cell_type": "code",
   "execution_count": 1,
   "metadata": {},
   "outputs": [],
   "source": [
    "import numpy as np\n",
    "import matplotlib.pyplot as plt"
   ]
  },
  {
   "cell_type": "code",
   "execution_count": 2,
   "metadata": {},
   "outputs": [],
   "source": [
    "def func(x):\n",
    "    #return np.sin(-np.sum(x)*50.)\n",
    "    #return np.exp(-np.sum(x-0.5)**2./10)#the sum sums x's. I do this just to prove that I can use any number of dimensions.\n",
    "    #return ( np.exp(-x[0]**2)+np.sin(x[1]) )*np.tanh(np.sum(x[2:]))\n",
    "    return np.sum(x)#the integral from 0 to 1 is Ndim/2.\n",
    "    \n",
    "    \n",
    "#The actual Monte Carlo algorithm.    \n",
    "def MC(func,Ndim,Nt=1000):\n",
    "    s=[]\n",
    "    for i in range(Nt):\n",
    "        x=np.random.rand(Ndim)#get x for every dimension.\n",
    "        s.append(func(x))\n",
    "    return np.mean(s), np.var(s,ddof=1)/Nt\n"
   ]
  },
  {
   "cell_type": "code",
   "execution_count": null,
   "metadata": {},
   "outputs": [],
   "source": []
  },
  {
   "cell_type": "code",
   "execution_count": 6,
   "metadata": {},
   "outputs": [
    {
     "name": "stdout",
     "output_type": "stream",
     "text": [
      "i=0:\t integral estimate 250.17855140923913 +/- 0.29291311496200595\n",
      "i=50:\t integral estimate 250.0827935388175 +/- 0.293986730086187\n",
      "i=100:\t integral estimate 250.5849388993472 +/- 0.29488434993803403\n",
      "i=150:\t integral estimate 249.8897922696789 +/- 0.2828753367071886\n",
      "i=200:\t integral estimate 249.67724482263304 +/- 0.2819535618137372\n",
      "i=250:\t integral estimate 249.90038601275728 +/- 0.2979766895102266\n",
      "i=300:\t integral estimate 249.6048198074334 +/- 0.2919893237160738\n",
      "i=350:\t integral estimate 249.8299549464375 +/- 0.2901594884695457\n",
      "i=400:\t integral estimate 249.2325322649587 +/- 0.2803462798170628\n",
      "i=450:\t integral estimate 249.65474406541716 +/- 0.2888515247308452\n",
      "i=500:\t integral estimate 249.8578824227787 +/- 0.29812827799605435\n",
      "i=550:\t integral estimate 249.92671094865617 +/- 0.26960086897474556\n",
      "i=600:\t integral estimate 249.32702336568386 +/- 0.27121906186306377\n",
      "i=650:\t integral estimate 249.89558128286282 +/- 0.2942179682619488\n",
      "i=700:\t integral estimate 249.87880756310253 +/- 0.2989160683597748\n",
      "i=750:\t integral estimate 250.09380597029912 +/- 0.2761875324978095\n",
      "i=800:\t integral estimate 250.31145048479485 +/- 0.2769102894424308\n",
      "i=850:\t integral estimate 250.32324402905914 +/- 0.285485903251587\n",
      "i=900:\t integral estimate 249.64259233558167 +/- 0.2804546532450941\n",
      "i=950:\t integral estimate 249.73447722137033 +/- 0.2949507334736038\n",
      "\n",
      "integral 250.00530985730842\n",
      "sigma 0.2890723089458544\n",
      "chi^2/dof 1.0195275668277786\n"
     ]
    }
   ],
   "source": [
    "Ndim=500#Number of dimensions (easy!!).\n",
    "\n",
    "N_tot=500\n",
    "N_batches=1000\n",
    "I=[]\n",
    "V=[]\n",
    "for i in np.arange(N_batches):\n",
    "    _I,_V=MC(func,Ndim,N_tot)\n",
    "    I.append(_I)\n",
    "    V.append(_V)\n",
    "    if np.mod(i,50)==0:\n",
    "        print ('i='+str(i)+':\\t', 'integral estimate', _I, '+/-', np.sqrt(_V) )\n",
    "\n",
    "integral=np.mean(I)#You can also use the least squares estimator (see the scripts in Accept-Reject).\n",
    "sigma= np.sqrt(np.mean(V))#the variance of the estimator I is sigma^2= 1/N_batches sum_i var(I_i) (the mean var(I_i))\n",
    "chi=(I-np.mean(I))/np.sqrt(V)\n",
    "\n",
    "print ()\n",
    "print ('integral', integral)\n",
    "print ('sigma', sigma)\n",
    "print( 'chi^2/dof',np.sum(chi**2)/(N_batches-1.))"
   ]
  },
  {
   "cell_type": "code",
   "execution_count": null,
   "metadata": {},
   "outputs": [],
   "source": []
  },
  {
   "cell_type": "code",
   "execution_count": null,
   "metadata": {},
   "outputs": [],
   "source": []
  },
  {
   "cell_type": "code",
   "execution_count": 9,
   "metadata": {},
   "outputs": [
    {
     "data": {
      "image/png": "[encoded data removed]",
      "text/plain": [
       "<Figure size 432x288 with 1 Axes>"
      ]
     },
     "metadata": {
      "needs_background": "light"
     },
     "output_type": "display_data"
    }
   ],
   "source": [
    "def _gauss(x,mu,sigma):\n",
    "    return 1/(2*np.pi*sigma**2)**(1/2.)*np.exp(-(x-mu)**2/(2*sigma**2))\n",
    "gauss=np.vectorize(_gauss)\n",
    "\n",
    "\n",
    "\n",
    "'''\n",
    "This plot shows the implication of the CLT.\n",
    "As you can see, the histogram made by the results \n",
    "from the batches coincides with a gaussian with the estimated \n",
    "mean \n",
    "'''\n",
    "\n",
    "#plot a gaussian with mean=I and variance=sigma (the variance of I).\n",
    "x=np.arange(integral-3*sigma,integral+3*sigma,sigma/1000.) #plot +/- 3σ \n",
    "y=gauss(x,np.mean(I),sigma)\n",
    "plt.plot(x,y)\n",
    "\n",
    "\n",
    "#plot the histogram of a gauss sample of size N_batches with mean=I and variance=sigma (the variance of I) .\n",
    "#plt.hist( np.random.normal(integral, sigma , N_batches),color='black',density=True)\n",
    "\n",
    "plt.hist(I,alpha=0.5,color='r',density=True)\n",
    "\n",
    "plt.show()"
   ]
  },
  {
   "cell_type": "code",
   "execution_count": null,
   "metadata": {},
   "outputs": [],
   "source": []
  },
  {
   "cell_type": "code",
   "execution_count": null,
   "metadata": {},
   "outputs": [],
   "source": []
  },
  {
   "cell_type": "code",
   "execution_count": null,
   "metadata": {},
   "outputs": [],
   "source": []
  },
  {
   "cell_type": "code",
   "execution_count": null,
   "metadata": {},
   "outputs": [],
   "source": []
  },
  {
   "cell_type": "code",
   "execution_count": null,
   "metadata": {},
   "outputs": [],
   "source": []
  }
 ],
 "metadata": {
  "kernelspec": {
   "display_name": "Python 3",
   "language": "python",
   "name": "python3"
  },
  "language_info": {
   "codemirror_mode": {
    "name": "ipython",
    "version": 3
   },
   "file_extension": ".py",
   "mimetype": "text/x-python",
   "name": "python",
   "nbconvert_exporter": "python",
   "pygments_lexer": "ipython3",
   "version": "3.6.6"
  }
 },
 "nbformat": 4,
 "nbformat_minor": 2
}
