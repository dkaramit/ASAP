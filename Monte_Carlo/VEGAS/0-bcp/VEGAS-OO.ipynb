{
 "cells": [
  {
   "cell_type": "code",
   "execution_count": 1,
   "metadata": {},
   "outputs": [],
   "source": [
    "import numpy as np\n",
    "import matplotlib\n",
    "matplotlib.use('nbAgg')\n",
    "import matplotlib.pyplot as plt\n",
    "\n",
    "#load quad to check you result\n",
    "from scipy.integrate import quad\n"
   ]
  },
  {
   "cell_type": "code",
   "execution_count": null,
   "metadata": {},
   "outputs": [],
   "source": []
  },
  {
   "cell_type": "code",
   "execution_count": 2,
   "metadata": {},
   "outputs": [],
   "source": [
    "class VEGAS:\n",
    "    def __init__(self,Func,NBins,NSamplesPerBin,NRuns,alpha,K,_TINY=1.e-50,_SMOOTH=False):\n",
    "        self.Func=Func\n",
    "        self.NBins=NBins\n",
    "        self.NSamplesPerBin=NSamplesPerBin\n",
    "        \n",
    "        \n",
    "        self.NRuns=NRuns #number of runs. This refines the grid.\n",
    "        self.alpha=alpha#the aplha parameter\n",
    "        self.K=K #the K parameter\n",
    "        self._TINY=_TINY#define a tiny number (if a weight is smaller than that, then set this weight to 1)\n",
    "        self._SMOOTH=_SMOOTH#Choose if you want to first smooth the m_{i}'s (see comment above)\n",
    "\n",
    "        \n",
    "        \n",
    "        #--initialize some of the variables for clarity--#\n",
    "        self.BinSize=[1/float(NBins)  for i in range(NBins) ]\n",
    "        self.GridPoints=[i/float(NBins) for i in range(NBins+1)]# (number of grid points)=(number of bins)+1\n",
    "        \n",
    "        \n",
    "    def TotalInt(self):\n",
    "        #calculate the integral of Func in [0,1]\n",
    "        Integral=0\n",
    "        for Bin in range(self.NBins):\n",
    "            _min=self.GridPoints[Bin]\n",
    "            _max=self.GridPoints[Bin+1]\n",
    "            for Sample in self.Samples[Bin]:\n",
    "                Integral+=self.Func(Sample)*self.BinSize[Bin]/float(self.NSamplesPerBin)\n",
    "\n",
    "        return Integral\n",
    "    \n",
    "    def abs_TotalInt(self):\n",
    "        #calculate the integral of |Func| in [0,1]\n",
    "        Integral=0\n",
    "        for Bin in range(self.NBins):\n",
    "            _min=self.GridPoints[Bin]\n",
    "            _max=self.GridPoints[Bin+1]\n",
    "            for Sample in self.Samples[Bin]:\n",
    "                Integral+=np.abs(self.Func(Sample))*self.BinSize[Bin]/float(self.NSamplesPerBin)\n",
    "\n",
    "        return Integral\n",
    "    \n",
    "    \n",
    "    def BinInt(self,Bin):\n",
    "        #calculate the integral of Func in the i Bin\n",
    "        Integral=0\n",
    "        _min=self.GridPoints[Bin]\n",
    "        _max=self.GridPoints[Bin+1]\n",
    "        for Sample in self.Samples[Bin]:\n",
    "            Integral+=self.Func(Sample)*self.BinSize[Bin]/float(self.NSamplesPerBin)\n",
    "\n",
    "        return Integral\n",
    "\n",
    "    def abs_BinInt(self,Bin):\n",
    "        #calculate the integral of Func in the i Bin\n",
    "        Integral=0\n",
    "        _min=self.GridPoints[Bin]\n",
    "        _max=self.GridPoints[Bin+1]\n",
    "        for Sample in self.Samples[Bin]:\n",
    "            Integral+=np.abs(self.Func(Sample))*self.BinSize[Bin]/float(self.NSamplesPerBin)\n",
    "\n",
    "        return Integral\n",
    "    \n",
    "    \n",
    "    \n",
    "    \n",
    "    def GenSamples(self):\n",
    "        #Generate the samples\n",
    "        #initialize Samples array with dimensions [NSamplesPerBin][NBins] (for simplicity)\n",
    "        self.Samples=[[0 for i in range(self.NSamplesPerBin)] for j in range(self.NBins)]\n",
    "        for Bin in range(self.NBins):\n",
    "            _min=self.GridPoints[Bin]\n",
    "            for Sample in range(self.NSamplesPerBin):\n",
    "                #samples iin each bin (ie in [GridPoints[Bin],GridPoints[Bin+1]])\n",
    "                self.Samples[Bin][Sample]=np.random.rand()*self.BinSize[Bin]+_min\n",
    "\n",
    "    def CalcWeights(self):\n",
    "        #calculate the m_i's (call them weights)\n",
    "        self.Weights=[ 0 for i in range(self.NBins)]\n",
    "        Total=self.abs_TotalInt()\n",
    "        for Bin in range(self.NBins):\n",
    "            self.Weights[Bin]=self.abs_BinInt(Bin)/Total#this is m_{i}/K in Lapage's paper.\n",
    "        #I need he log of Weights[Bin]. But if it is small, then the log is not a good choice\n",
    "        if self._SMOOTH:\n",
    "            #smooth the weights\n",
    "            self.Weights[0]=(self.Weights[0]+self.Weights[1])/2.\n",
    "            self.Weights[-1]=(self.Weights[-1]+self.Weights[-2])/2.\n",
    "            for Bin in range(1,self.NBins-1):\n",
    "                self.Weights[Bin]=(self.Weights[Bin-1]+self.Weights[Bin]+self.Weights[Bin+1])/3.\n",
    "\n",
    "        for Bin in range(self.NBins):\n",
    "            if self.Weights[Bin]>self._TINY:\n",
    "                self.Weights[Bin]=( (self.Weights[Bin]-1)/float(np.log(self.Weights[Bin])) )**self.alpha\n",
    "            else:\n",
    "                self.Weights[Bin]=self.Weights[Bin]**self.alpha#if Weights[Bin]<_TINY, then the log explodes. So it is better to se it this way\n",
    "\n",
    "            self.Weights[Bin]=self.K*self.Weights[Bin]+1. #we should have at least one sub-bin for each bin!\n",
    "\n",
    "\n",
    "    \n",
    "    def Calculate(self):\n",
    "        for Run in range(self.NRuns):\n",
    "            self.GenSamples()\n",
    "            self.CalcWeights()\n",
    "\n",
    "\n",
    "\n",
    "\n",
    "\n",
    "        #initialize the new GridPoints\n",
    "        NewGridPoints=[0 for i in self.GridPoints]\n",
    "        NewBinSize=[0 for i in self.BinSize]\n",
    "\n",
    "\n",
    "        #calculate the newBinSize[0], so that all entries in newBinSize add up to 1. \n",
    "        _tmp=0\n",
    "        for j in range(self.NBins):\n",
    "            _tmp+=self.BinSize[j]/self.Weights[j]\n",
    "        NewBinSize[0]=_tmp**(-1)*self.BinSize[0]/self.Weights[0]\n",
    "\n",
    "        #You can now calculate the others as well\n",
    "        for i in range(1,self.NBins):\n",
    "            NewBinSize[i]=NewBinSize[0]*(self.BinSize[i]/self.BinSize[0]*self.Weights[0]/self.Weights[i])\n",
    "\n",
    "\n",
    "        #set the BinSize to be the NewBinSize\n",
    "        del self.BinSize\n",
    "        self.BinSize=NewBinSize[:]\n",
    "\n",
    "        #find the new GridPoints from the new BinSize\n",
    "        for i in range(1,self.NBins+1):\n",
    "            NewGridPoints[i]=NewGridPoints[i-1]+self.BinSize[i-1]\n",
    "\n",
    "        del self.GridPoints\n",
    "        self.GridPoints=NewGridPoints[:]"
   ]
  },
  {
   "cell_type": "code",
   "execution_count": 16,
   "metadata": {},
   "outputs": [],
   "source": [
    "def func(x):\n",
    "    #return np.exp(-(x-0.3)**2/(2*0.1**2))\n",
    "    return np.sin(x*10)*np.exp(-(x-0.3)**2/(2*0.05**2))\n"
   ]
  },
  {
   "cell_type": "code",
   "execution_count": 48,
   "metadata": {},
   "outputs": [],
   "source": [
    "Int=VEGAS(func,NBins=50,NSamplesPerBin=50,NRuns=200,alpha=0.01,K=100.)"
   ]
  },
  {
   "cell_type": "code",
   "execution_count": 49,
   "metadata": {},
   "outputs": [],
   "source": [
    "Int.Calculate()"
   ]
  },
  {
   "cell_type": "code",
   "execution_count": 50,
   "metadata": {},
   "outputs": [
    {
     "data": {
      "text/plain": [
       "0.015132258157632528"
      ]
     },
     "execution_count": 50,
     "metadata": {},
     "output_type": "execute_result"
    }
   ],
   "source": [
    "Int.TotalInt()"
   ]
  },
  {
   "cell_type": "code",
   "execution_count": 51,
   "metadata": {},
   "outputs": [
    {
     "data": {
      "text/plain": [
       "0.015608519853793454"
      ]
     },
     "execution_count": 51,
     "metadata": {},
     "output_type": "execute_result"
    }
   ],
   "source": [
    "quad(func,0,1)[0]"
   ]
  },
  {
   "cell_type": "code",
   "execution_count": null,
   "metadata": {},
   "outputs": [],
   "source": []
  }
 ],
 "metadata": {
  "kernelspec": {
   "display_name": "Python 3",
   "language": "python",
   "name": "python3"
  },
  "language_info": {
   "codemirror_mode": {
    "name": "ipython",
    "version": 3
   },
   "file_extension": ".py",
   "mimetype": "text/x-python",
   "name": "python",
   "nbconvert_exporter": "python",
   "pygments_lexer": "ipython3",
   "version": "3.7.4"
  }
 },
 "nbformat": 4,
 "nbformat_minor": 2
}
